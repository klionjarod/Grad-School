{
 "cells": [
  {
   "cell_type": "code",
   "execution_count": 3,
   "id": "637be0aa",
   "metadata": {},
   "outputs": [],
   "source": [
    "import numpy as np\n",
    "import matplotlib.pyplot as plt\n",
    "import os\n",
    "\n",
    "data = '..\\\\data\\\\'"
   ]
  },
  {
   "cell_type": "markdown",
   "id": "3d1a8255",
   "metadata": {},
   "source": [
    "## Step 1: Generate a matrix *A* from L and U"
   ]
  },
  {
   "cell_type": "code",
   "execution_count": 4,
   "id": "d64a8b04",
   "metadata": {
    "code_folding": [
     0
    ]
   },
   "outputs": [],
   "source": [
    "def genRandLUMats(n: int, unit = False):\n",
    "    \"\"\"\n",
    "    Generates a random square matrix A of size n from a unit lower triangular and upper triangular matrix\n",
    "    \n",
    "    Params:\n",
    "        n: integer of the size of the square matrix\n",
    "        \n",
    "    Return: \n",
    "        nonsingular unit lower triangular matrix, L, upper triangular matrix, U, and their product A\n",
    "    \"\"\"\n",
    "    #L = np.round(np.random.rand(n,n),3) #create an array of random floats with shape (n,n)\n",
    "    L, U = np.empty((n, n)), np.empty((n, n)) #create empty arrays of shape (n, n)\n",
    "    \n",
    "    for row in range(n):\n",
    "        for col in range(n):\n",
    "            if row > col:\n",
    "                U[row][col] = 0\n",
    "                L[row][col] = np.random.rand(1)\n",
    "            else:\n",
    "                U[row][col] = np.random.randint(1, 2)\n",
    "                L[row][col] = 0\n",
    "    if unit:\n",
    "        for i in range(n):\n",
    "            L[i][i] = 1 #fill diagonals with 1 for unit matrix\n",
    "    A = L @ U\n",
    "    return A, L, U "
   ]
  },
  {
   "cell_type": "code",
   "execution_count": 5,
   "id": "ca705459",
   "metadata": {
    "scrolled": true
   },
   "outputs": [
    {
     "name": "stdout",
     "output_type": "stream",
     "text": [
      "8.427078649180105\n",
      "1163.4633401038184\n"
     ]
    }
   ],
   "source": [
    "A_10, lwr_10, upp_10 = genRandLUMats(10, unit = True)\n",
    "#ensure A is diagonally dominant\n",
    "for i in range(10):\n",
    "    A_10[i][i] += 3\n",
    "A_100, lwr_100, upp_100 = genRandLUMats(100, unit = True)\n",
    "#ensure A is diagonally dominant\n",
    "for i in range(100):\n",
    "    A_100[i][i] += 3\n",
    "\n",
    "#check condition number of generated matrices\n",
    "print(np.linalg.norm(A_10, 2)*np.linalg.norm(np.linalg.inv(A_10), 2))\n",
    "print(np.linalg.norm(A_100, 2)*np.linalg.norm(np.linalg.inv(A_100), 2))"
   ]
  },
  {
   "cell_type": "code",
   "execution_count": 6,
   "id": "bf9dbb19",
   "metadata": {
    "code_folding": [
     0
    ]
   },
   "outputs": [
    {
     "name": "stdout",
     "output_type": "stream",
     "text": [
      "3.050251928597776\n",
      "182.64128792682314\n"
     ]
    }
   ],
   "source": [
    "def genSymPosMatrix(n: int):\n",
    "    \"\"\"\n",
    "    Generates a symmetric positive square matrix A of size n from a lower triangular matrix and its transpose\n",
    "    \n",
    "    Params:\n",
    "        n: desired rows/cols of the matrix\n",
    "        \n",
    "    Return:\n",
    "        A: symmetric positive matrix LL^T\n",
    "    \"\"\"\n",
    "    L = np.random.rand(n, n)\n",
    "    for row in range(n):\n",
    "        for col in range(n):\n",
    "            if row < col:\n",
    "                L[row][col] = 0\n",
    "            if row == col:\n",
    "                L[row][col] = 5\n",
    "    A = L @ L.T\n",
    "    return A\n",
    "\n",
    "symPosA_10 = genSymPosMatrix(10)\n",
    "symPosA_100 = genSymPosMatrix(100)\n",
    "\n",
    "print(np.linalg.norm(symPosA_10, 2)*np.linalg.norm(np.linalg.inv(symPosA_10), 2))\n",
    "print(np.linalg.norm(symPosA_100, 2)*np.linalg.norm(np.linalg.inv(symPosA_100), 2))"
   ]
  },
  {
   "cell_type": "markdown",
   "id": "0f88418e",
   "metadata": {},
   "source": [
    "# Step 2: Generate *b* via matrix-vector product"
   ]
  },
  {
   "cell_type": "code",
   "execution_count": 74,
   "id": "5e4a83c5",
   "metadata": {},
   "outputs": [],
   "source": [
    "x10, x100 = np.random.randint(10, size = (10,)), np.random.randint(100, size = (100,))\n",
    "b10_actual, b100_actual = np.dot(symPosA_10,x10), np.dot(symPosA_100, x100)"
   ]
  },
  {
   "cell_type": "markdown",
   "id": "4b918d97",
   "metadata": {},
   "source": [
    "# Step 3: LU Factorization for A"
   ]
  },
  {
   "cell_type": "code",
   "execution_count": 8,
   "id": "d7406172",
   "metadata": {
    "code_folding": []
   },
   "outputs": [],
   "source": [
    "def LUFactorization(A: np.ndarray, method: str = 'none'):\n",
    "    \"\"\"\n",
    "    Perform LU factorization of a matrix 3 ways: \n",
    "    no pivoting, partial pivoting and complete pivoting\n",
    "    \n",
    "    Params: \n",
    "        A: a 2d array (matrix) upon which factorization will be performed\n",
    "        method: method desired denoted as 1, 2, or 3\n",
    "    \n",
    "    Return:\n",
    "        LU: a 2d array (matrix) stored within the array that contained A\n",
    "        P: Partial pivoting vector (methods 2/3)\n",
    "        Q: Complete pivoting vector (method 3 only)\n",
    "    \"\"\"\n",
    "    n, m = A.shape\n",
    "    #ensure we have input a square matrix\n",
    "    if (n is not m):\n",
    "        raise Exception(\"Matrix must be square.\")\n",
    "    \n",
    "    #in-place LU factorization without pivoting\n",
    "    def noPivoting(A: np.ndarray, n: int):\n",
    "        for k in range(n-1):\n",
    "            if A[k][k] == 0:\n",
    "                raise ValueError(\"Null pivot element.\")\n",
    "            A[k+1:, k] = A[k+1:, k] / A[k][k]\n",
    "            for j in range(k + 1, n):\n",
    "                for i in range (k + 1, n):\n",
    "                    A[i][j] = A[i][j] - A[i][k] * A[k][j]\n",
    "        return A\n",
    "    \n",
    "    #in-place LU factorization with partial pivoting \n",
    "    def partialPivoting(A, n):\n",
    "        pivot = np.arange(0, n)\n",
    "        for k in range(n-1):\n",
    "            # pivot rows based on highest value in A\n",
    "            maxIndex = np.argmax(abs(A[k:,k])) + k\n",
    "            \n",
    "            pivot[[k, maxIndex]] = pivot[[maxIndex, k]]\n",
    "            #swap current row with row with maximum value\n",
    "            A[[k, maxIndex]] = A[[maxIndex, k]] \n",
    "            \n",
    "            if A[k, k] == 0:\n",
    "                raise ValueError(\"Null pivot element.\")\n",
    "                \n",
    "            A[k+1:, k] = A[k+1:, k] / A[k][k]\n",
    "            for j in range(k + 1, n):\n",
    "                for i in range (k + 1, n):\n",
    "                    A[i][j] = A[i][j] - A[i][k] * A[k][j]\n",
    "        return A, pivot\n",
    "    \n",
    "    #in-place LU factorization with complete pivoting.\n",
    "    def completePivoting(A: np.ndarray, n:int):\n",
    "        #complete pivot based on highest values in A\n",
    "        rowPivot = np.arange(n)\n",
    "        colPivot = np.arange(n)\n",
    "        \n",
    "        for k in range(n-1):\n",
    "            #maxIndexRow = np.argmax(abs(A[k:, k:])) // A[k:,k:].shape[0] + k\n",
    "            #maxIndexCol = np.argmax(abs(A[k:, k:].T)) // A[k:, k:].shape[1] + k\n",
    "            maxIndex = np.argmax(abs(A[k:, k:]))\n",
    "            maxIndexRow = maxIndex // A[k:, k:].shape[1] + k\n",
    "            maxIndexCol = maxIndex % A[k:, k:].shape[1] + k\n",
    "                          \n",
    "            if maxIndexRow - k > 0:\n",
    "                rowPivot[[k, maxIndexRow]] = rowPivot[[maxIndexRow, k]]\n",
    "                #swap current row with row with max value\n",
    "                A[[k, maxIndexRow], :] = A[[maxIndexRow, k], :] \n",
    "            if maxIndexCol - k > 0:\n",
    "                colPivot[[k, maxIndexCol]] = colPivot[[maxIndexCol, k]]\n",
    "                #swap current col with col with max value\n",
    "                A[:, [k, maxIndexCol]] = A[:, [maxIndexCol, k]]\n",
    "            \n",
    "            if A[k][k] == 0:\n",
    "                raise ValueError(\"Null pivot element.\")\n",
    "                \n",
    "            A[k+1:, k] = A[k+1:, k] / A[k][k]\n",
    "            for j in range(k + 1, n):\n",
    "                for i in range (k + 1, n):\n",
    "                    A[i][j] = A[i][j] - A[i][k] * A[k][j]\n",
    "        \n",
    "        return A, rowPivot, colPivot\n",
    "    \n",
    "    if (method == 'none'):    \n",
    "        return noPivoting(A, n)\n",
    "        \n",
    "    if (method == 'partial'):\n",
    "        return partialPivoting(A, n)\n",
    "    \n",
    "    if (method == 'complete'):\n",
    "        return completePivoting(A, n)"
   ]
  },
  {
   "cell_type": "code",
   "execution_count": 9,
   "id": "0e8984a6",
   "metadata": {},
   "outputs": [
    {
     "name": "stdout",
     "output_type": "stream",
     "text": [
      "[[  1.   1.   1.]\n",
      " [  4.  -1.  -5.]\n",
      " [  3.  -2. -10.]]\n",
      "(array([[  6.        ,  18.        , -12.        ],\n",
      "       [  0.5       ,   8.        ,  16.        ],\n",
      "       [  0.33333333,  -0.25      ,   6.        ]]), array([2, 0, 1]))\n",
      "(array([[ 5.        ,  2.        ,  0.        ],\n",
      "       [-0.2       ,  5.4       ,  2.        ],\n",
      "       [ 0.2       ,  0.11111111,  0.77777778]]), array([1, 2, 0]), array([2, 1, 0]))\n"
     ]
    }
   ],
   "source": [
    "exMat = np.array([[1, 1, 1], [4, 3, -1], [3, 5, 3]], float)\n",
    "exMat1 = np.array([[3, 17, 10], [2, 4, -2], [6, 18, -12]], float)\n",
    "exMat2 = np.array([[1, 1, 1], [0, 2, 5], [2, 5, -1]], float)\n",
    "\n",
    "print(LUFactorization(exMat))\n",
    "print(LUFactorization(exMat1, 'partial'))\n",
    "print(LUFactorization(exMat2, 'complete'))"
   ]
  },
  {
   "cell_type": "markdown",
   "id": "edb07b44",
   "metadata": {},
   "source": [
    "# Step 4: solve Ly = b and Ux = y"
   ]
  },
  {
   "cell_type": "code",
   "execution_count": 64,
   "id": "fc66e396",
   "metadata": {
    "code_folding": []
   },
   "outputs": [],
   "source": [
    "def forwardSub(A: np.ndarray, b: np.ndarray, method: str):\n",
    "    '''\n",
    "    Params:\n",
    "        A: Matrix containing both L and U of shape (n,n)\n",
    "        b: column vector of shape (n,)\n",
    "        method: takes 'row' or 'column' for method-orientation\n",
    "    \n",
    "    Return:\n",
    "        b: solution to Ly = b overwritten on b if 'row'\n",
    "    OR\n",
    "        y: column vector of solutions in new array if 'col'\n",
    "    '''\n",
    "    n, m = A.shape\n",
    "    L = np.array(A)\n",
    "    L[range(n), range(n)] = 1\n",
    "    \n",
    "    if method == 'row':\n",
    "        b[0] = b[0] / L[0][0]\n",
    "        for i in range(1, n):\n",
    "            b[i] = ((b[i] - L[i][0:i].dot(b[:i]))/ L[i][i])\n",
    "        return b\n",
    "    \n",
    "    if method == 'col':\n",
    "        y = np.array(b)\n",
    "        for j in range(n-1):\n",
    "            y[j] = y[j] / L[j][j]\n",
    "            y[j + 1:n] = y[j + 1:n] - y[j] * L[j+1:n, j]\n",
    "        y[n-1] = y[n-1] / L[n-1][n-1]\n",
    "        return y\n",
    "    \n",
    "def backwardSub(A: np.ndarray, b, method: str):\n",
    "    '''\n",
    "    Params:\n",
    "        A: Matrix containing both L and U of shape (n,n)\n",
    "        b: column vector of shape (n,)\n",
    "        method: takes 'row' or 'column' for method-orientation\n",
    "    \n",
    "    Return:\n",
    "        b: solution to Ly = b overwritten on b if 'row'\n",
    "    OR\n",
    "        x: column vector of solutions in new array if 'col'\n",
    "    '''\n",
    "    n, m = A.shape\n",
    "    \n",
    "    if method == 'row':\n",
    "        b[n-1] = b[n-1] / A[n-1][n-1]\n",
    "        for i in reversed(range(n-1)):\n",
    "            b[i] = (b[i] - A[i,i+1:].dot(b[i+1:])) / A[i][i]\n",
    "        return b\n",
    "    \n",
    "    if method == 'col':\n",
    "        x = np.array(b)\n",
    "        for i in reversed(range(1, n)):\n",
    "            x[i] = x[i] / A[i][i]\n",
    "            x[0:i] = x[0:i] - x[i] * A[0:i, i]\n",
    "        x[0] = x[0] / A[0][0]\n",
    "        return x\n",
    "\n",
    "def solver(LU: np.ndarray, b: np.ndarray, ori: str, pivot: str, P: np.ndarray = None, Q: np.ndarray = None):\n",
    "    '''\n",
    "    Program to solve Ax = b for x\n",
    "    Params:\n",
    "        LU: 2d-array containing L and U\n",
    "        b: vector stored in a 1d-array\n",
    "        ori: orientation type ('row' or 'col')\n",
    "        pivot: pivot type ('none', 'partial', 'complete')\n",
    "        P: 1d pivot array for partial pivoting\n",
    "        Q: 1d pivot array for complete pivoting\n",
    "    Return:\n",
    "        x: 1d solution vector\n",
    "    '''\n",
    "    if pivot != 'none':\n",
    "        b = b[P].copy()\n",
    "    y = forwardSub(LU, b, ori)\n",
    "    x = backwardSub(LU, y, ori)\n",
    "    if pivot == 'complete':\n",
    "        x = x[Q.T]        \n",
    "    return x"
   ]
  },
  {
   "cell_type": "code",
   "execution_count": 11,
   "id": "c52399bf",
   "metadata": {},
   "outputs": [
    {
     "name": "stdout",
     "output_type": "stream",
     "text": [
      "[1.0, -2.0, -4.0]\n",
      "[ 1. -2. -4.]\n",
      "[1.8, -0.5, -0.3]\n",
      "[ 1.8 -0.5 -0.3]\n"
     ]
    }
   ],
   "source": [
    "exMat = np.array([[1, 1, 1], [4, 3, -1], [3, 5, 3]])\n",
    "LUFactorization(exMat)\n",
    "bTest = [1., 2, 3]\n",
    "print(forwardSub(exMat, bTest, 'row'))\n",
    "\n",
    "bTest = [1., 2, 3]\n",
    "print(forwardSub(exMat, bTest, 'col'))\n",
    "\n",
    "bTest = [1., 2, 3]\n",
    "print(backwardSub(exMat, bTest, 'row'))\n",
    "\n",
    "bTest = [1., 2, 3]\n",
    "print(backwardSub(exMat, bTest, 'col'))"
   ]
  },
  {
   "cell_type": "markdown",
   "id": "fab953c2",
   "metadata": {},
   "source": [
    "## Extra Credit"
   ]
  },
  {
   "cell_type": "code",
   "execution_count": 12,
   "id": "38b3d1a6",
   "metadata": {},
   "outputs": [
    {
     "name": "stdout",
     "output_type": "stream",
     "text": [
      "forward sub row-oriented time:\n",
      "12 µs ± 1.23 µs per loop (mean ± std. dev. of 7 runs, 1000 loops each)\n",
      "\n",
      "forward sub col-oriented time:\n",
      "13 µs ± 1.34 µs per loop (mean ± std. dev. of 7 runs, 1000 loops each)\n",
      "\n",
      "backward sub row-oriented time:\n",
      "4.61 µs ± 666 ns per loop (mean ± std. dev. of 7 runs, 1000 loops each)\n",
      "\n",
      "backward sub row-oriented time:\n",
      "7.12 µs ± 902 ns per loop (mean ± std. dev. of 7 runs, 1000 loops each)\n"
     ]
    }
   ],
   "source": [
    "exMat = np.array([[1, 1, 1], [4, 3, -1], [3, 5, 3]], float)\n",
    "LUFactorization(exMat)\n",
    "\n",
    "print('forward sub row-oriented time:')\n",
    "%timeit -n 1000 forwardSub(exMat, [1., 2., 3.], 'row')\n",
    "\n",
    "print('\\nforward sub col-oriented time:')\n",
    "%timeit -n 1000 forwardSub(exMat, [1., 2., 3.], 'col')\n",
    "\n",
    "print('\\nbackward sub row-oriented time:')\n",
    "%timeit -n 1000 backwardSub(exMat, [1., 2., 3.], 'row')\n",
    "\n",
    "print('\\nbackward sub row-oriented time:')\n",
    "%timeit -n 1000 backwardSub(exMat, [1., 2., 3.], 'col')"
   ]
  },
  {
   "cell_type": "code",
   "execution_count": 13,
   "id": "8baccadf",
   "metadata": {},
   "outputs": [
    {
     "name": "stdout",
     "output_type": "stream",
     "text": [
      "x = [ 0.6 -0.   0.4]\n",
      "x1 = [0.6 0.  0.4]\n"
     ]
    }
   ],
   "source": [
    "b = np.array([1., 2, 3],float)\n",
    "A = np.array([[1., 1, 1], [4, 3, -1], [3, 5, 3]])\n",
    "LUFactorization(A)\n",
    "x = solver(A, b, 'row', 'none')\n",
    "print('x =', x)\n",
    "\n",
    "b1 = np.array([1, 2, 3], float)\n",
    "A1 = np.array([[1, 1, 1], [4, 3, -1], [3, 5, 3]], 'float')\n",
    "A1, P1 = LUFactorization(A1, 'partial')\n",
    "x1 = solver(A1, b1, 'row', 'partial', P1)\n",
    "print('x1 =',x1)"
   ]
  },
  {
   "cell_type": "code",
   "execution_count": 14,
   "id": "779affe0",
   "metadata": {},
   "outputs": [
    {
     "name": "stdout",
     "output_type": "stream",
     "text": [
      "[ 1.85416667 -0.35416667  0.14583333]\n"
     ]
    }
   ],
   "source": [
    "b = np.array([1, 2, 3], float)\n",
    "A = np.array([[3, 17, 10], [2, 4, -2], [6, 18, -12]], float)\n",
    "A, P = LUFactorization(A, 'partial')\n",
    "x = solver(A, b, 'row', 'partial', P)\n",
    "print(x)"
   ]
  },
  {
   "cell_type": "markdown",
   "id": "f10fc413",
   "metadata": {},
   "source": [
    "# Step 5: Check the accuracy"
   ]
  },
  {
   "cell_type": "code",
   "execution_count": 15,
   "id": "99d859b6",
   "metadata": {},
   "outputs": [],
   "source": [
    "def getLUMatrices(A):\n",
    "    n, m = A.shape\n",
    "    def triOnes(n: int, m = None, k = 0):\n",
    "        #if num cols not specified, make square matrix\n",
    "        if m is None:\n",
    "            m = n\n",
    "        mat = np.greater_equal.outer(np.arange(n), np.arange(-k, m - k))\n",
    "        return mat\n",
    "\n",
    "    lowerMask = triOnes(*A.shape[-2:], k = 0)\n",
    "    L = np.where(lowerMask, A, np.zeros(1))\n",
    "    #set all diags to 1\n",
    "    L[range(n), range(n)] = 1\n",
    "    \n",
    "    upperMask = triOnes(*A.shape[-2:], k = -1)\n",
    "    U = np.where(upperMask, np.zeros(1), A)\n",
    "    return L, U\n",
    "\n",
    "def getLUProduct(A: np.ndarray):\n",
    "    L, U = getLUMatrices(A)\n",
    "    M = L @ U\n",
    "    return M\n",
    "\n",
    "def checkFactAcc(A, LU, norm, P = None, Q = None):\n",
    "    M = getLUProduct(LU)\n",
    "    PAQ = A\n",
    "    if P is not None:\n",
    "        PAQ = PAQ[P, :]\n",
    "    if Q is not None:\n",
    "        PAQ = PAQ[:, Q]\n",
    "    num = np.linalg.norm(PAQ - M, norm)\n",
    "    denom = np.linalg.norm(A, norm)\n",
    "    return num / denom\n",
    "\n",
    "def checkSolAcc(xact, xest, norm):\n",
    "    num = np.linalg.norm(xact - xest, norm)\n",
    "    denom = np.linalg.norm(xact, norm)\n",
    "    return num / denom\n",
    "\n",
    "def checkResAcc(A, xest, b, norm):\n",
    "    num = np.linalg.norm(b - (A @ xest), norm)\n",
    "    denom = np.linalg.norm(b)\n",
    "    return num / denom"
   ]
  },
  {
   "cell_type": "code",
   "execution_count": 16,
   "id": "b34ee8b8",
   "metadata": {},
   "outputs": [
    {
     "name": "stdout",
     "output_type": "stream",
     "text": [
      "Factorization accuracy: 0.0\n"
     ]
    }
   ],
   "source": [
    "exMat2 = np.array([[1, 1, 1], [0, 2, 5], [2, 5, -1]], float)\n",
    "exLU, exP, exQ = LUFactorization(exMat2, 'complete')\n",
    "exMat2 = np.array([[1, 1, 1], [0, 2, 5], [2, 5, -1]], float)\n",
    "factAcc = checkFactAcc(exMat2, exLU, 'fro', exP, exQ)\n",
    "print('Factorization accuracy:', factAcc)"
   ]
  },
  {
   "cell_type": "markdown",
   "id": "a1b6882a",
   "metadata": {},
   "source": [
    "# Correctness Test Task"
   ]
  },
  {
   "cell_type": "code",
   "execution_count": 17,
   "id": "50e8e8cb",
   "metadata": {},
   "outputs": [
    {
     "name": "stdout",
     "output_type": "stream",
     "text": [
      "[[-4.   0.   4. ]\n",
      " [-0.5  5.  12. ]\n",
      " [-0.5  0.2 -0.4]] [1 2 0]\n",
      "[1. 1. 1.]\n",
      "[[10.          2.          5.        ]\n",
      " [ 0.4        -4.8        -2.        ]\n",
      " [ 0.         -0.41666667  0.16666667]] [2 1 0] [2 0 1]\n",
      "[1. 1. 1.]\n"
     ]
    }
   ],
   "source": [
    "A_test = np.array([[2, 1, 0], [-4, 0, 4], [2, 5, 10]], float)\n",
    "b_test = np.array([3., 0., 17.])\n",
    "Matrix_p, p = LUFactorization(A_test, 'partial')\n",
    "print(Matrix_p, p)\n",
    "x_p = solver(Matrix_p, b_test, 'row', 'partial', p)\n",
    "print(x_p)\n",
    "\n",
    "#write results of partial pivoting to txt file in data folder\n",
    "partTestStr = 'M_p = \\n' + str(Matrix_p) + '\\nP = ' + str(p) + '\\nx_p = ' + str(x_p)\n",
    "with open(os.path.join(data, 'Partial Pivoting Test.txt'), 'w') as f:\n",
    "    f.write(partTestStr)\n",
    "\n",
    "A_test = np.array([[2, 1, 0], [-4, 0, 4], [2, 5, 10]], float)\n",
    "b_test = np.array([3., 0, 17])\n",
    "Matrix_c, p_c, q_c = LUFactorization(A_test, 'complete')\n",
    "print(Matrix_c, p_c, q_c)\n",
    "x_c = solver(Matrix_c, b_test, 'row', 'complete', p_c, q_c)\n",
    "print(x_c)\n",
    "\n",
    "#write results of complete pivoting to txt file in data folder\n",
    "compTestStr = 'M_c = \\n' + str(Matrix_c) + '\\nP_c = ' + str(p_c) +'\\nQ_c = ' + str(q_c) + '\\nx_c = ' + str(x_c)\n",
    "with open(os.path.join(data, 'Complete Pivoting Test.txt'), 'w') as f:\n",
    "    f.write(compTestStr)"
   ]
  },
  {
   "cell_type": "code",
   "execution_count": 100,
   "id": "5ab06e26",
   "metadata": {},
   "outputs": [],
   "source": [
    "#accuracy for partial pivoting factorization\n",
    "A_test = np.array([[2, 1, 0], [-4, 0, 4], [2, 5, 10]], float)\n",
    "partFactAcc1 = checkFactAcc(A_test, Matrix_p, 'fro', p)\n",
    "partFactAcc2 = checkFactAcc(A_test, Matrix_p, 1, p)\n",
    "\n",
    "#accuracy for complete pivoting factorization \n",
    "compFactAcc1 = checkFactAcc(A_test, Matrix_c, 'fro', p_c, q_c)\n",
    "compFactAcc2 = checkFactAcc(A_test, Matrix_c, 1, p_c, q_c)\n",
    "\n",
    "#accuracy of solution from partial pivoting\n",
    "x_test = [1, 1, 1]\n",
    "partSolAcc1 = checkSolAcc(x_test, x_p, 1)\n",
    "partSolAcc2 = checkSolAcc(x_test, x_p, 2)\n",
    "\n",
    "#accuracy of solution from complete pivoting\n",
    "compSolAcc1 = checkSolAcc(x_test, x_c, 1)\n",
    "compSolAcc2 = checkSolAcc(x_test, x_c, 2)\n",
    "\n",
    "\n",
    "#accuracy of residual from partial pivoting\n",
    "A_test = np.array([[2, 1, 0], [-4, 0, 4], [2, 5, 10]], float)\n",
    "partResAcc1 = checkResAcc(A_test, x_p, b_test, 1)\n",
    "partResAcc2 = checkResAcc(A_test, x_p, b_test, 2)\n",
    "\n",
    "#accuracy of residual from complete pivoting\n",
    "compResAcc1 = checkResAcc(A_test, x_c, b_test, 1)\n",
    "compResAcc2 = checkResAcc(A_test, x_c, b_test, 2)\n",
    "\n",
    "\n",
    "partAccStr1 = '||partFac||_1 = ' + str(partFactAcc1)\n",
    "partAccStr2 = '||partFac||_F = ' + str(partFactAcc2)\n",
    "partSolAccStr1 = '||sol||_1 = ' + str(partSolAcc1)\n",
    "partSolAccStr2 = '||sol||_2 = ' + str(partSolAcc2)\n",
    "partResAccStr1 = '||res||_1 = ' + str(partResAcc1)\n",
    "partResAccStr2 = '||res||_2 = ' + str(partResAcc2)\n",
    "np.savetxt(os.path.join(data, 'Partial Accuracy Tests.txt'), (partAccStr1, partAccStr2, partSolAccStr1, partSolAccStr2, partResAccStr1, partResAccStr2), '%s')\n",
    "\n",
    "compAccStr1 = '||compFac||_1 = ' + str(compFactAcc1)\n",
    "compAccStr2 = '||compFac||_F = ' + str(compFactAcc2)\n",
    "compSolAccStr1 = '||sol||_1 = ' + str(compSolAcc1)\n",
    "compSolAccStr2 = '||sol||_2 = ' + str(compSolAcc2)\n",
    "compResAccStr1 = '||res||_1 = ' + str(compResAcc1)\n",
    "compResAccStr2 = '||res||_2 = ' + str(compResAcc2)\n",
    "np.savetxt(os.path.join(data, 'Complete Accuracy Tests.txt'), (compAccStr1, compAccStr2, compSolAccStr1, compSolAccStr2, compResAccStr1, compResAccStr2), '%s')"
   ]
  },
  {
   "cell_type": "markdown",
   "id": "cf11458c",
   "metadata": {},
   "source": [
    "# Test Original Constructed Matrices"
   ]
  },
  {
   "cell_type": "code",
   "execution_count": 65,
   "id": "f839f9f7",
   "metadata": {},
   "outputs": [
    {
     "name": "stdout",
     "output_type": "stream",
     "text": [
      "Accuracy Checks for 10x10 symmetric A:\n",
      "Partial pivoting LU factorization values:\n",
      "7.077238597062822e-17\n",
      "6.60740188828825e-17\n",
      "2.226642642876128e-16\n",
      "2.472941912667001e-16\n",
      "2.30591269021722e-16\n",
      "1.215322697762114e-16\n",
      "\n",
      "Complete pivoting LU factorization values:\n",
      "9.181736621626502e-17\n",
      "6.781280885348467e-17\n",
      "0.6046511627906979\n",
      "0.669827740184678\n",
      "0.9173433704162813\n",
      "0.34760550227261194\n"
     ]
    }
   ],
   "source": [
    "#Check the accuracy for the 10x10 symmetric matrix created in step 1\n",
    "\n",
    "symPosA_10_copy = symPosA_10.copy()\n",
    "symPosA_10_p, P_10 = LUFactorization(symPosA_10_copy, 'partial')\n",
    "symXp_10 = solver(symPosA_10_p, b10_actual, 'row', 'partial', P_10)\n",
    "\n",
    "print(\"Accuracy Checks for 10x10 symmetric A:\")\n",
    "print(\"Partial pivoting LU factorization values:\")\n",
    "print(checkFactAcc(symPosA_10, symPosA_10_p, 'fro', P_10))\n",
    "print(checkFactAcc(symPosA_10, symPosA_10_p, 1, P_10))\n",
    "print(checkSolAcc(x10, symXp_10, 1))\n",
    "print(checkSolAcc(x10, symXp_10, 2))\n",
    "print(checkResAcc(symPosA_10, symXp_10, b10_actual, 1))\n",
    "print(checkResAcc(symPosA_10, symXp_10, b10_actual, 2))\n",
    "\n",
    "\n",
    "symPosA_10_copy = symPosA_10.copy()\n",
    "symPosA_10_c, Pc_10, Qc_10 = LUFactorization(symPosA_10_copy, 'complete')\n",
    "symXc_10 = solver(symPosA_10_c, b10_actual, 'row', 'complete', Pc_10, Qc_10)\n",
    "\n",
    "print(\"\\nComplete pivoting LU factorization values:\")\n",
    "print(checkFactAcc(symPosA_10, symPosA_10_c, 'fro', Pc_10, Qc_10))\n",
    "print(checkFactAcc(symPosA_10, symPosA_10_c, 1, Pc_10, Qc_10))\n",
    "print(checkSolAcc(x10, symXc_10, 1))\n",
    "print(checkSolAcc(x10, symXc_10, 2))\n",
    "print(checkResAcc(symPosA_10, symXc_10, b10_actual, 1))\n",
    "print(checkResAcc(symPosA_10, symXc_10, b10_actual, 2))"
   ]
  },
  {
   "cell_type": "code",
   "execution_count": 67,
   "id": "d214206f",
   "metadata": {},
   "outputs": [
    {
     "name": "stdout",
     "output_type": "stream",
     "text": [
      "Accuracy Checks for 100x100 symmetric A:\n",
      "Partial pivoting LU factorization values:\n",
      "2.7690422568657267e-16\n",
      "2.5058705297817384e-16\n",
      "7.179383808491581e-15\n",
      "8.094886573366308e-15\n",
      "9.213163002776883e-16\n",
      "1.5992597507543495e-16\n",
      "\n",
      "Complete pivoting LU factorization values:\n",
      "1.9648788330626421e-16\n",
      "1.6887523026415374e-16\n",
      "0.6164167324388344\n",
      "0.6596390977263115\n",
      "0.20946951586404589\n",
      "0.025018657977527455\n"
     ]
    }
   ],
   "source": [
    "#Check the accuracy for the 100x100 symmetric matrix created in step 1\n",
    "\n",
    "symPosA_100_copy = symPosA_100.copy()\n",
    "symPosA_100_p, P_100 = LUFactorization(symPosA_100_copy, 'partial')\n",
    "symXp_100 = solver(symPosA_100_p, b100_actual, 'row', 'partial', P_100)\n",
    "\n",
    "print(\"Accuracy Checks for 100x100 symmetric A:\")\n",
    "print(\"Partial pivoting LU factorization values:\")\n",
    "print(checkFactAcc(symPosA_100, symPosA_100_p, 'fro', P_100))\n",
    "print(checkFactAcc(symPosA_100, symPosA_100_p, 1, P_100))\n",
    "print(checkSolAcc(x100, symXp_100, 1))\n",
    "print(checkSolAcc(x100, symXp_100, 2))\n",
    "print(checkResAcc(symPosA_100, symXp_100, b100_actual, 1))\n",
    "print(checkResAcc(symPosA_100, symXp_100, b100_actual, 2))\n",
    "\n",
    "\n",
    "symPosA_100_copy = symPosA_100.copy()\n",
    "symPosA_100_c, Pc_100, Qc_100 = LUFactorization(symPosA_100_copy, 'complete')\n",
    "symXc_100 = solver(symPosA_100_c, b100_actual, 'row', 'complete', Pc_100, Qc_100)\n",
    "\n",
    "print(\"\\nComplete pivoting LU factorization values:\")\n",
    "print(checkFactAcc(symPosA_100, symPosA_100_c, 'fro', Pc_100, Qc_100))\n",
    "print(checkFactAcc(symPosA_100, symPosA_100_c, 1, Pc_100, Qc_100))\n",
    "print(checkSolAcc(x100, symXc_100, 1))\n",
    "print(checkSolAcc(x100, symXc_100, 2))\n",
    "print(checkResAcc(symPosA_100, symXc_100, b100_actual, 1))\n",
    "print(checkResAcc(symPosA_100, symXc_100, b100_actual, 2))"
   ]
  },
  {
   "cell_type": "code",
   "execution_count": 99,
   "id": "81c0b217",
   "metadata": {},
   "outputs": [
    {
     "name": "stdout",
     "output_type": "stream",
     "text": [
      "Accuracy Checks for 10x10 random A:\n",
      "Partial pivoting LU factorization values:\n",
      "8.736990330699061e-17\n",
      "7.980952460658859e-17\n",
      "5.016563296454411e-16\n",
      "5.731439928907584e-16\n",
      "1.403141079008827e-16\n",
      "8.592449201774606e-17\n",
      "\n",
      "Complete pivoting LU factorization values:\n",
      "7.529236554765954e-17\n",
      "5.985714345494144e-17\n",
      "0.33333333333333354\n",
      "0.4591768433773374\n",
      "0.24238971052878572\n",
      "0.10774408442567418\n"
     ]
    }
   ],
   "source": [
    "#Check the accuracy for the 10x10 random matrix created in step 1\n",
    "\n",
    "randb10_actual = np.dot(A_10, x10)\n",
    "randA_10_copy = A_10.copy()\n",
    "randA_10_p, P_10 = LUFactorization(randA_10_copy, 'partial')\n",
    "randXp_10 = solver(randA_10_p, randb10_actual, 'row', 'partial', P_10)\n",
    "\n",
    "print(\"Accuracy Checks for 10x10 random A:\")\n",
    "print(\"Partial pivoting LU factorization values:\")\n",
    "print(checkFactAcc(A_10, randA_10_p, 'fro', P_10))\n",
    "print(checkFactAcc(A_10, randA_10_p, 1, P_10))\n",
    "print(checkSolAcc(x10, randXp_10, 1))\n",
    "print(checkSolAcc(x10, randXp_10, 2))\n",
    "print(checkResAcc(A_10, randXp_10, randb10_actual, 1))\n",
    "print(checkResAcc(A_10, randXp_10, randb10_actual, 2))\n",
    "\n",
    "\n",
    "randA_10_copy = A_10.copy()\n",
    "randA_10_c, Pc_10, Qc_10 = LUFactorization(randA_10_copy, 'complete')\n",
    "randXc_10 = solver(randA_10_c, randb10_actual, 'row', 'complete', Pc_10, Qc_10)\n",
    "\n",
    "print(\"\\nComplete pivoting LU factorization values:\")\n",
    "print(checkFactAcc(A_10, randA_10_c, 'fro', Pc_10, Qc_10))\n",
    "print(checkFactAcc(A_10, randA_10_c, 1, Pc_10, Qc_10))\n",
    "print(checkSolAcc(x10, randXc_10, 1))\n",
    "print(checkSolAcc(x10, randXc_10, 2))\n",
    "print(checkResAcc(A_10, randXc_10, randb10_actual, 1))\n",
    "print(checkResAcc(A_10, randXc_10, randb10_actual, 2))"
   ]
  },
  {
   "cell_type": "code",
   "execution_count": 98,
   "id": "662cc84a",
   "metadata": {},
   "outputs": [
    {
     "name": "stdout",
     "output_type": "stream",
     "text": [
      "Accuracy Checks for 100x100 random A:\n",
      "Partial pivoting LU factorization values:\n",
      "2.939103373542927e-16\n",
      "2.395116594840549e-16\n",
      "7.649592079041074e-14\n",
      "9.548009694834735e-14\n",
      "1.3689513116544705e-15\n",
      "1.983755098978694e-16\n",
      "\n",
      "Complete pivoting LU factorization values:\n",
      "2.615389954980543e-16\n",
      "2.5422004264277777e-16\n",
      "0.6160589758916153\n",
      "0.6579038139102801\n",
      "0.11654205932223452\n",
      "0.013310343337768305\n"
     ]
    }
   ],
   "source": [
    "#Check the accuracy for the 100x100 random matrix created in step 1\n",
    "\n",
    "randb100_actual = np.dot(A_100, x100)\n",
    "randA_100_copy = A_100.copy()\n",
    "randA_100_p, P_100 = LUFactorization(randA_100_copy, 'partial')\n",
    "randXp_100 = solver(randA_100_p, randb100_actual, 'row', 'partial', P_100)\n",
    "\n",
    "print(\"Accuracy Checks for 100x100 random A:\")\n",
    "print(\"Partial pivoting LU factorization values:\")\n",
    "print(checkFactAcc(A_100, randA_100_p, 'fro', P_100))\n",
    "print(checkFactAcc(A_100, randA_100_p, 1, P_100))\n",
    "print(checkSolAcc(x100, randXp_100, 1))\n",
    "print(checkSolAcc(x100, randXp_100, 2))\n",
    "print(checkResAcc(A_100, randXp_100, randb100_actual, 1))\n",
    "print(checkResAcc(A_100, randXp_100, randb100_actual, 2))\n",
    "\n",
    "\n",
    "randA_100_copy = A_100.copy()\n",
    "randA_100_c, Pc_100, Qc_100 = LUFactorization(randA_100_copy, 'complete')\n",
    "randXc_100 = solver(randA_100_c, randb100_actual, 'row', 'complete', Pc_100, Qc_100)\n",
    "\n",
    "print(\"\\nComplete pivoting LU factorization values:\")\n",
    "print(checkFactAcc(A_100, randA_100_c, 'fro', Pc_100, Qc_100))\n",
    "print(checkFactAcc(A_100, randA_100_c, 1, Pc_100, Qc_100))\n",
    "print(checkSolAcc(x100, randXc_100, 1))\n",
    "print(checkSolAcc(x100, randXc_100, 2))\n",
    "print(checkResAcc(A_100, randXc_100, randb100_actual, 1))\n",
    "print(checkResAcc(A_100, randXc_100, randb100_actual, 2))"
   ]
  }
 ],
 "metadata": {
  "kernelspec": {
   "display_name": "Python 3 (ipykernel)",
   "language": "python",
   "name": "python3"
  },
  "language_info": {
   "codemirror_mode": {
    "name": "ipython",
    "version": 3
   },
   "file_extension": ".py",
   "mimetype": "text/x-python",
   "name": "python",
   "nbconvert_exporter": "python",
   "pygments_lexer": "ipython3",
   "version": "3.9.10"
  }
 },
 "nbformat": 4,
 "nbformat_minor": 5
}
