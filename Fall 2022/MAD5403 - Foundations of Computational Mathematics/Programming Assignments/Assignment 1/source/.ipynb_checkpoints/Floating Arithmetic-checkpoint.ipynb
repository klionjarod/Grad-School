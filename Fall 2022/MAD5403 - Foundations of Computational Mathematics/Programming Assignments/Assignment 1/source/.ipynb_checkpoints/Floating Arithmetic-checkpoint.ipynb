{
 "cells": [
  {
   "cell_type": "code",
   "execution_count": null,
   "id": "d95d9a43",
   "metadata": {},
   "outputs": [],
   "source": [
    "#if you need to install plotting software and numpy for C style arrays\n",
    "'''\n",
    "import sys\n",
    "!{sys.executable} -m pip install numpy\n",
    "!{sys.executable} -m pip install matplotlib.pyplot\n",
    "'''"
   ]
  },
  {
   "cell_type": "code",
   "execution_count": 1,
   "id": "6d3e33e3",
   "metadata": {},
   "outputs": [],
   "source": [
    "import os\n",
    "import numpy as np\n",
    "import matplotlib.pyplot as plt\n",
    "#set up file saving directories\n",
    "dir_data = \"..\\\\data\"\n",
    "dir_figures = \"..\\\\figures\"\n",
    "\n",
    "#values for all future routines\n",
    "t, emin, emax = 5, -9, 0\n",
    "u_c = 10**(1-t)\n",
    "u_n = 10**(1-t) / 2"
   ]
  },
  {
   "cell_type": "markdown",
   "id": "13ab04b7",
   "metadata": {},
   "source": [
    "### Algorithm 1"
   ]
  },
  {
   "cell_type": "code",
   "execution_count": 2,
   "id": "e10d6000",
   "metadata": {},
   "outputs": [],
   "source": [
    "def RoundNumber(remainder, m, e, t):\n",
    "    if remainder >= 5:\n",
    "        m += 1\n",
    "        if m == 10**5:\n",
    "            m //= 10\n",
    "            e += 1\n",
    "    return m, e"
   ]
  },
  {
   "cell_type": "markdown",
   "id": "cd1156e5",
   "metadata": {},
   "source": [
    "### Algorithm 2"
   ]
  },
  {
   "cell_type": "code",
   "execution_count": 3,
   "id": "e830f264",
   "metadata": {},
   "outputs": [],
   "source": [
    "def TranslateToFloat(x, t, RoundtoNearest = True):\n",
    "    s, a = np.sign(x), np.abs(x)\n",
    "    m, e, remainder = 0, 0, 0\n",
    "    if a > 10**t:\n",
    "        m = np.floor(a)\n",
    "        while m >= 10**t:\n",
    "            remainder = m % 10\n",
    "            m %= 10\n",
    "            e += 1\n",
    "        if RoundtoNearest:\n",
    "            m, e = RoundNumber(remainder, m, e, t)\n",
    "        m = s * m\n",
    "        return (-1)**s * m * 10**(e - t)\n",
    "    else:\n",
    "        while a < 10**(t - 1):\n",
    "            a *= 10\n",
    "            e -= 1\n",
    "        remainder = np.floor(10 * (a - np.floor(a)))\n",
    "        m = np.floor(a)\n",
    "        if RoundNumber:\n",
    "            m, e = RoundNumber(remainder, m, e, t)\n",
    "        m = s * m\n",
    "        return m, e"
   ]
  },
  {
   "cell_type": "markdown",
   "id": "a10f1dce",
   "metadata": {},
   "source": [
    "### Algorithm 3"
   ]
  },
  {
   "cell_type": "code",
   "execution_count": 4,
   "id": "738688f8",
   "metadata": {},
   "outputs": [],
   "source": [
    "def FloatAddition(x, y, t, RoundtoNearest = True):\n",
    "    \"\"\"\n",
    "    x is a floating-point number (m_x, e_x)\n",
    "    y is a floating point number (m_y, e_y)\n",
    "    \"\"\"\n",
    "    a, b, c, m, e, s, shift, remainder = 0, 0, 0, 0, 0, 0, 0, 0\n",
    "    shift = x[1] - y[1]\n",
    "    if shift > 0:\n",
    "        a = x[0] * 10**shift\n",
    "        b = y[0]\n",
    "        e = y[1]\n",
    "    else:\n",
    "        a = y[0] * 10**(-shift)\n",
    "        b = x[0]\n",
    "        e = x[1]\n",
    "    c = a + b\n",
    "    s = np.sign(c)\n",
    "    c = np.abs(c)\n",
    "    if c >= 10**t:\n",
    "        while c >= 10**t:\n",
    "            remainder = c % 10\n",
    "            c //= 10\n",
    "            e += 1\n",
    "    else:\n",
    "        while c < 10**(t - 1):\n",
    "            c *= 10\n",
    "            e -= 1\n",
    "    m = int(c)\n",
    "    if RoundtoNearest:\n",
    "        m, e = RoundNumber(remainder, m, e, t)\n",
    "    m *= s\n",
    "    return m, e"
   ]
  },
  {
   "cell_type": "markdown",
   "id": "b471ac39",
   "metadata": {},
   "source": [
    "### Algorithm 4"
   ]
  },
  {
   "cell_type": "code",
   "execution_count": 5,
   "id": "061dc154",
   "metadata": {},
   "outputs": [],
   "source": [
    "def Accumulation(x):\n",
    "    \"\"\"\n",
    "    x = set of floating point numbers\n",
    "    \n",
    "    Return:\n",
    "    s_n = floating point sum\n",
    "    \"\"\"\n",
    "    n = len(x)\n",
    "    s = x[0]\n",
    "    for k in range(1, n):\n",
    "        s += x[k]\n",
    "    return s"
   ]
  },
  {
   "cell_type": "markdown",
   "id": "98470306",
   "metadata": {},
   "source": [
    "## Correctness Test"
   ]
  },
  {
   "cell_type": "code",
   "execution_count": 6,
   "id": "cba075d1",
   "metadata": {},
   "outputs": [],
   "source": [
    "def validateTranslate(t, emin, u_n = u_n):\n",
    "    delta = u_n * np.random.rand(1) #generate a random float < u_n\n",
    "    x = np.random.uniform(10**(emin + t - 1), 1, 1)\n",
    "    xFloat = x * (1 + delta)\n",
    "    \n",
    "    error = np.abs((xFloat - x) / x)\n",
    "    return error"
   ]
  },
  {
   "cell_type": "code",
   "execution_count": 7,
   "id": "7cbb079b",
   "metadata": {},
   "outputs": [],
   "source": [
    "def CorrectnessTest(t, emin, u_n = u_n):\n",
    "    epsilon = np.finfo(float).eps #to ensure we dont get exact lower bound\n",
    "    delta = u_n * np.random.rand(1) #generate a random float < u_n\n",
    "    \n",
    "    lower_bound = 10**(emin + t - 1)\n",
    "    \n",
    "    f1 = (1 - lower_bound)*np.random.rand(1) + lower_bound\n",
    "    f2 = (1 - lower_bound)*np.random.rand(1) + lower_bound\n",
    "    \n",
    "    #translate random numbers to our float representation\n",
    "    f1_float = TranslateToFloat(f1, t)\n",
    "    f2_float = TranslateToFloat(f2, t)\n",
    "\n",
    "    addedFloatParts = FloatAddition(f1_float, f2_float, t)\n",
    "    addedFloats = addedFloatParts[0] * 10**addedFloatParts[1]\n",
    "    \n",
    "    relError = np.abs(addedFloats - (addedFloats * (1 + delta))) / np.abs(addedFloats)\n",
    "    return relError"
   ]
  },
  {
   "cell_type": "code",
   "execution_count": 8,
   "id": "67c02821",
   "metadata": {},
   "outputs": [],
   "source": [
    "def CorrectnessTestArray(N, t, emin, u_n = u_n):\n",
    "    epsilon = np.finfo(float).eps #to ensure we dont get exact lower bound\n",
    "    delta = u_n * np.random.rand(1) #generate a random float < u_n\n",
    "    \n",
    "    #create N number of randomly generated values within e bounds\n",
    "    f1 = np.random.uniform(10**(emin + t - 1) + epsilon, 1, N)\n",
    "    f2 = np.random.uniform(10**(emin + t - 1) + epsilon, 1, N)\n",
    "    \n",
    "    #set up array storages for translation values\n",
    "    f1_float = np.empty((N, 2))\n",
    "    f2_float = np.empty((N, 2))\n",
    "    \n",
    "    #translate random numbers to floats\n",
    "    for i, f in enumerate(zip(f1, f2)):\n",
    "        f1_float[i] = TranslateToFloat(f[0], t)\n",
    "        f2_float[i] = TranslateToFloat(f[1], t)\n",
    "        \n",
    "    addedFloats = np.empty(N)\n",
    "    for i, fl in enumerate(zip(f1_float, f2_float)):\n",
    "        addedFloat = FloatAddition(fl[0], fl[1], t)\n",
    "        addedFloats[i] = addedFloat[0] * 10**addedFloat[1]\n",
    "    \n",
    "    relError = np.abs((f1 + f2) - addedFloats) / np.abs(f1 + f2)\n",
    "    return relError"
   ]
  },
  {
   "cell_type": "code",
   "execution_count": 9,
   "id": "30e252fd",
   "metadata": {},
   "outputs": [
    {
     "name": "stdout",
     "output_type": "stream",
     "text": [
      "1. Mean error of the translate routine = 2.5132571435350426e-05\n",
      "True\n",
      "2.499121296132837e-05\n",
      "2.0688633352997766e-10\n"
     ]
    }
   ],
   "source": [
    "numExper = 10000\n",
    "\n",
    "transErrors = np.empty(numExper)\n",
    "relErrors = np.empty(numExper)\n",
    "for i in range(numExper):\n",
    "    transErrors[i] = validateTranslate(t, emin)\n",
    "    relErrors[i] = CorrectnessTest(t, emin)\n",
    "\n",
    "print(\"1. Mean error of the translate routine =\", np.mean(transErrors))\n",
    "    \n",
    "#check to ensure that all values satisfy the relative error bound\n",
    "print(relErrors[relErrors <= u_n].all()) \n",
    "print(np.mean(relErrors))\n",
    "print(np.var(relErrors))"
   ]
  },
  {
   "cell_type": "code",
   "execution_count": 23,
   "id": "ef82ba19",
   "metadata": {},
   "outputs": [
    {
     "data": {
      "image/png": "[encoded data removed]",
      "text/plain": [
       "<Figure size 792x504 with 1 Axes>"
      ]
     },
     "metadata": {
      "needs_background": "light"
     },
     "output_type": "display_data"
    }
   ],
   "source": [
    "plt.rcParams['figure.figsize'] = (11, 7)\n",
    "plt.hist(transErrors, 20)\n",
    "plt.xlabel(\"Relative Error\")\n",
    "plt.ylabel(\"Number of Occurences\")\n",
    "plt.title(\"Histogram of Translate Routine Error\")\n",
    "plt.savefig(os.path.join(dir_figures, \"Translation Histogram\"))\n",
    "plt.show()"
   ]
  },
  {
   "cell_type": "code",
   "execution_count": 20,
   "id": "38e00024",
   "metadata": {},
   "outputs": [
    {
     "data": {
      "image/png": "[encoded data removed]",
      "text/plain": [
       "<Figure size 432x288 with 1 Axes>"
      ]
     },
     "metadata": {
      "needs_background": "light"
     },
     "output_type": "display_data"
    }
   ],
   "source": [
    "plt.hist(relErrors, 20)\n",
    "plt.xlabel(\"Relative Error\")\n",
    "plt.ylabel(\"Number of Occurences\")\n",
    "plt.title(\"Histogram of Addition Routine Error\")\n",
    "plt.savefig(os.path.join(dir_figures, \"Correctness Histogram\"))\n",
    "plt.show()"
   ]
  },
  {
   "cell_type": "markdown",
   "id": "8d490225",
   "metadata": {},
   "source": [
    "As we can see from the histogram and the above code calculation, we can see that the relative error bound is satisfied. Our mean value from over 10000 trials was also less than $u_n$."
   ]
  },
  {
   "cell_type": "markdown",
   "id": "df36efde",
   "metadata": {},
   "source": [
    "## Accumulation Bound"
   ]
  },
  {
   "cell_type": "code",
   "execution_count": 12,
   "id": "9b473d0d",
   "metadata": {},
   "outputs": [],
   "source": [
    "def AccumulationBound(N, t, emin, u_n = u_n):\n",
    "    #create N randomly generated values within e bounds\n",
    "    f = np.random.uniform(10**emin, 1, N)\n",
    "\n",
    "    #set up array storage for translation values\n",
    "    f_float = np.empty(N)\n",
    "\n",
    "    #translate to float using routine 2\n",
    "    for i, x in enumerate(f):\n",
    "        tempFloat = TranslateToFloat(x, t)\n",
    "        f_float[i] = tempFloat[0] * 10**tempFloat[1]\n",
    "        \n",
    "    regularSum = np.sum(f_float)\n",
    "    floatSum = Accumulation(f_float)\n",
    "    actualError = np.abs(floatSum - regularSum)\n",
    "    \n",
    "    bound = (N - 1) * np.sum(np.abs(f_float)) * u_n\n",
    "    #print(\"|ŝ_n - s_n| =\", actualError)\n",
    "    #print(\"error bound =\", bound)\n",
    "    return actualError, bound"
   ]
  },
  {
   "cell_type": "code",
   "execution_count": 13,
   "id": "cf517f09",
   "metadata": {},
   "outputs": [
    {
     "name": "stdout",
     "output_type": "stream",
     "text": [
      "Error <= Bound?  True\n",
      "1.0821565865626325e-14\n",
      "0.24785243020792092\n"
     ]
    }
   ],
   "source": [
    "numFloats = 100\n",
    "numExper = 1000\n",
    "\n",
    "#arrays for storage\n",
    "accumResults = np.empty((numExper,2))\n",
    "actualErrors = np.empty(numExper)\n",
    "bounds = np.empty(numExper)\n",
    "\n",
    "for i in range(numExper):\n",
    "    accumResults[i] = AccumulationBound(numFloats, t, emin)\n",
    "\n",
    "for i, (error, bound) in enumerate(accumResults):\n",
    "    actualErrors[i] = error\n",
    "    bounds[i] = bound\n",
    "    \n",
    "print(\"Error <= Bound? \", actualErrors.all() < bounds.all())\n",
    "print(np.mean(actualErrors))\n",
    "print(np.mean(bounds))"
   ]
  },
  {
   "cell_type": "code",
   "execution_count": 34,
   "id": "bdacae4a",
   "metadata": {},
   "outputs": [
    {
     "data": {
      "image/png": "[encoded data removed]",
      "text/plain": [
       "<Figure size 1080x360 with 2 Axes>"
      ]
     },
     "metadata": {
      "needs_background": "light"
     },
     "output_type": "display_data"
    }
   ],
   "source": [
    "fig, axs = plt.subplots(1, 2, figsize=(15, 5))\n",
    "axs[0].hist(actualErrors, 7)\n",
    "axs[0].set_xlabel(\"Difference of Sums\")\n",
    "axs[0].set_ylabel(\"Number of Occurences\")\n",
    "axs[0].set_title(\"Histogram of Difference of Sums\")\n",
    "\n",
    "axs[1].hist(bounds, 20)\n",
    "axs[1].set_xlabel(\"Error Bound\")\n",
    "axs[1].set_ylabel(\"Number of Occurences\")\n",
    "axs[1].set_title(\"Histogram of Error Bound\")\n",
    "\n",
    "plt.savefig(os.path.join(dir_figures, \"Accumulation Histogram\"))\n",
    "plt.show()"
   ]
  },
  {
   "cell_type": "markdown",
   "id": "4881249d",
   "metadata": {},
   "source": [
    "The error bound holds as we can see from both the mean of the calculated values and the histogram above; however, this is not a tight bound with respect to the actual error."
   ]
  },
  {
   "cell_type": "markdown",
   "id": "0fcbdb06",
   "metadata": {},
   "source": [
    "## Conditioning Analysis"
   ]
  },
  {
   "cell_type": "code",
   "execution_count": 15,
   "id": "880ab6dd",
   "metadata": {},
   "outputs": [],
   "source": [
    "def ConditioningAnalysis(N, t, emin,  u_n = u_n):\n",
    "    x = np.random.uniform(10**(emin + t - 1), 1, N).astype('double')\n",
    "    \n",
    "    #set up array storage for translation values\n",
    "    xi = np.empty(N)\n",
    "\n",
    "    #translate to float using routine 2\n",
    "    for i, x_i in enumerate(x):\n",
    "        tempFloat = TranslateToFloat(x_i, t)\n",
    "        xi[i] = tempFloat[0] * 10**tempFloat[1]\n",
    "    \n",
    "    p = np.empty(N, dtype = np.float64)\n",
    "    for i, xi in enumerate(x):\n",
    "        p[i] = np.random.uniform(0, xi * u_n, 1).astype('double')\n",
    "    \n",
    "    def perturb(x, N):\n",
    "        p = np.empty(N)\n",
    "        for i, xi in enumerate(x):\n",
    "            p[i] = np.random.uniform(10**(emin + t - 1), xi * u_n, 1).astype('double')\n",
    "        return p\n",
    "    \n",
    "    '''\n",
    "    for i in range(totalRuns):\n",
    "        p = perturb(x, N)\n",
    "        numerator = np.abs(np.sum(x) - np.sum(x + p))\n",
    "        denominator = np.abs(np.sum(x))\n",
    "        c_rel[i] = (numerator/denominator) * (np.sum(np.abs(x))/np.sum(np.abs(p)))\n",
    "    '''\n",
    "    \n",
    "    numerator = np.abs(np.sum(x) - np.sum(x + p))\n",
    "    denominator = np.abs(np.sum(x))\n",
    "    c_rel = (numerator/denominator) * (np.sum(np.abs(x))/np.sum(np.abs(p)))\n",
    "    \n",
    "    exactDoubleSum = np.sum(x)\n",
    "    exactFloatSum = np.sum(xi)\n",
    "    relError = np.abs((exactDoubleSum - exactFloatSum) / exactDoubleSum)\n",
    "    \n",
    "    return c_rel, relError"
   ]
  },
  {
   "cell_type": "code",
   "execution_count": 16,
   "id": "0250d32e",
   "metadata": {},
   "outputs": [
    {
     "name": "stdout",
     "output_type": "stream",
     "text": [
      "K_rel = 1.0000000000165967\n",
      "Mean relative error = 0.990172609946898\n"
     ]
    }
   ],
   "source": [
    "setSize = 100\n",
    "trials = 1000\n",
    "conditionNumbers = np.empty(trials)\n",
    "relativeErrors = np.empty(trials)\n",
    "\n",
    "for i in range(trials):\n",
    "    conditionNumbers[i], relativeErrors[i] = ConditioningAnalysis(setSize, t, emin)\n",
    "relConditionNumber = np.max(conditionNumbers)\n",
    "\n",
    "print(\"K_rel =\", relConditionNumber)\n",
    "print(\"Mean relative error =\", np.mean(relativeErrors))"
   ]
  },
  {
   "cell_type": "markdown",
   "id": "f128f7a7",
   "metadata": {},
   "source": [
    "As we can see from the above, the relative error between two exact sums is consistent with the approximated condition number."
   ]
  },
  {
   "cell_type": "code",
   "execution_count": 33,
   "id": "deb1e525",
   "metadata": {},
   "outputs": [
    {
     "data": {
      "image/png": "[encoded data removed]",
      "text/plain": [
       "<Figure size 792x504 with 1 Axes>"
      ]
     },
     "metadata": {
      "needs_background": "light"
     },
     "output_type": "display_data"
    }
   ],
   "source": [
    "plt.hist(relativeErrors)\n",
    "plt.xlabel(\"Relative Error\")\n",
    "plt.ylabel(\"Number of Occurences\")\n",
    "plt.title(\"Histogram of Error Between Two Exact Sums\")\n",
    "plt.savefig(os.path.join(dir_figures, \"Condition Number Histogram\"))\n",
    "plt.show()"
   ]
  }
 ],
 "metadata": {
  "kernelspec": {
   "display_name": "Python 3 (ipykernel)",
   "language": "python",
   "name": "python3"
  },
  "language_info": {
   "codemirror_mode": {
    "name": "ipython",
    "version": 3
   },
   "file_extension": ".py",
   "mimetype": "text/x-python",
   "name": "python",
   "nbconvert_exporter": "python",
   "pygments_lexer": "ipython3",
   "version": "3.9.10"
  }
 },
 "nbformat": 4,
 "nbformat_minor": 5
}
