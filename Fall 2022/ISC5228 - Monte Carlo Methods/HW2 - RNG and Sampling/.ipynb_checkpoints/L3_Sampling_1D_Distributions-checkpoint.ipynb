{
 "cells": [
  {
   "cell_type": "code",
   "execution_count": 1,
   "metadata": {
    "id": "EdwHfqknARV3"
   },
   "outputs": [],
   "source": [
    "# preliminaries\n",
    "import numpy as np\n",
    "import matplotlib.pyplot as plt\n",
    "import matplotlib as mpl\n",
    "%matplotlib inline"
   ]
  },
  {
   "cell_type": "markdown",
   "metadata": {
    "id": "ShRr_ClcAf9W"
   },
   "source": [
    "# Exponential Sampler\n",
    "\n",
    "The exponential distribution is,\n",
    "$$f(x; \\lambda) = \\lambda \\exp(-\\lambda x), ~~~x>0.$$\n",
    "\n",
    "Using the transformation method, $x = F^{-1}(u)$,\n",
    "$$x = \\frac{-\\ln(1 - u)}{\\lambda}.$$"
   ]
  },
  {
   "cell_type": "code",
   "execution_count": 7,
   "metadata": {
    "id": "Eeg7HLIpA3Co"
   },
   "outputs": [],
   "source": [
    "def myExponentialSampler(lam, num):\n",
    "    u = np.random.random((num,1))\n",
    "    x = -np.log(1-u)/lam\n",
    "    return x"
   ]
  },
  {
   "cell_type": "code",
   "execution_count": 10,
   "metadata": {
    "colab": {
     "base_uri": "https://localhost:8080/",
     "height": 304
    },
    "id": "fJRTErFxAYiW",
    "outputId": "3f1fb823-6237-45aa-c1b7-3108a4bc33df"
   },
   "outputs": [
    {
     "data": {
      "text/plain": [
       "Text(0, 0.5, 'p(x)')"
      ]
     },
     "execution_count": 10,
     "metadata": {},
     "output_type": "execute_result"
    },
    {
     "data": {
      "image/png": "[encoded data removed]",
      "text/plain": [
       "<Figure size 432x288 with 1 Axes>"
      ]
     },
     "metadata": {
      "needs_background": "light"
     },
     "output_type": "display_data"
    }
   ],
   "source": [
    "# sample points\n",
    "x = myExponentialSampler(1.0, 5000)\n",
    "plt.hist(x, 20, density=True, alpha=0.4)\n",
    "\n",
    "# overlay PDF\n",
    "xi = np.linspace(0.0,5,1000)\n",
    "lam = 1.0; fexp = lam*np.exp(-lam*xi)\n",
    "plt.plot(xi, fexp, '-')\n",
    "\n",
    "plt.xlabel('x', fontsize='18')\n",
    "plt.ylabel('p(x)', fontsize='18')"
   ]
  },
  {
   "cell_type": "code",
   "execution_count": 11,
   "metadata": {
    "id": "fGmteZZo03hI"
   },
   "outputs": [],
   "source": [
    "u = np.random.random(10000)"
   ]
  },
  {
   "cell_type": "code",
   "execution_count": 12,
   "metadata": {
    "id": "vsfoNFZ5035c"
   },
   "outputs": [],
   "source": [
    "x = 2*u - 1"
   ]
  },
  {
   "cell_type": "code",
   "execution_count": 13,
   "metadata": {
    "colab": {
     "base_uri": "https://localhost:8080/",
     "height": 369
    },
    "id": "SwF3COJj038c",
    "outputId": "04fb0bc4-e683-499f-9e6e-03fd568b0c74"
   },
   "outputs": [
    {
     "data": {
      "text/plain": [
       "(array([0.49914242, 0.49214042, 0.49814214, 0.50464399, 0.50864513,\n",
       "        0.50314356, 0.483638  , 0.50964542, 0.50664456, 0.49564142]),\n",
       " array([-9.99762030e-01, -7.99819096e-01, -5.99876162e-01, -3.99933229e-01,\n",
       "        -1.99990295e-01, -4.73616299e-05,  1.99895572e-01,  3.99838506e-01,\n",
       "         5.99781439e-01,  7.99724373e-01,  9.99667306e-01]),\n",
       " <a list of 10 Patch objects>)"
      ]
     },
     "execution_count": 13,
     "metadata": {},
     "output_type": "execute_result"
    },
    {
     "data": {
      "image/png": "[encoded data removed]",
      "text/plain": [
       "<Figure size 432x288 with 1 Axes>"
      ]
     },
     "metadata": {
      "needs_background": "light"
     },
     "output_type": "display_data"
    }
   ],
   "source": [
    "plt.hist(x, 10, density=True, alpha=0.4)"
   ]
  },
  {
   "cell_type": "markdown",
   "metadata": {
    "id": "JTarMmasF-N8"
   },
   "source": [
    "# Accept-Reject Example\n",
    "\n",
    "$$f(x) = \\frac{3}{8} (1+x^2), ~~~ -1 \\leq x \\leq 1$$\n"
   ]
  },
  {
   "cell_type": "code",
   "execution_count": 14,
   "metadata": {
    "id": "znIIruTiGDS-"
   },
   "outputs": [],
   "source": [
    "def acceptRejectExample(ndarts, isPlot=True):\n",
    "  \n",
    "    xmin = -1.\n",
    "    xmax = 1.\n",
    "    fmax = 3./4\n",
    "    \n",
    "    x  = np.random.uniform(xmin, xmax, ndarts)\n",
    "    u  = np.random.uniform(0., fmax, ndarts)\n",
    "    fx = 3./8. * (1 + x**2)\n",
    "    \n",
    "    y  = x[u <= fx]\n",
    "    \n",
    "    if isPlot:\n",
    "      xi = np.linspace(-1,1); fi = 3./8. * (1 + xi**2)\n",
    "      plt.plot(y, u[u < fx],'o', alpha=0.4)\n",
    "      plt.plot(x[u > fx], u[u > fx],'o', alpha=0.4)\n",
    "      plt.plot(xi, fi,'k-')\n",
    "    \n",
    "    return y"
   ]
  },
  {
   "cell_type": "code",
   "execution_count": 15,
   "metadata": {
    "id": "nm_OATXmG2w3"
   },
   "outputs": [],
   "source": [
    "x = acceptRejectExample(5000, isPlot=False)"
   ]
  },
  {
   "cell_type": "code",
   "execution_count": 16,
   "metadata": {
    "colab": {
     "base_uri": "https://localhost:8080/"
    },
    "id": "wj2EsCYMD9RZ",
    "outputId": "4b4871f6-84f3-449d-a624-e8cb6aaef3ee"
   },
   "outputs": [
    {
     "data": {
      "text/plain": [
       "(3315,)"
      ]
     },
     "execution_count": 16,
     "metadata": {},
     "output_type": "execute_result"
    }
   ],
   "source": [
    "x.shape"
   ]
  },
  {
   "cell_type": "code",
   "execution_count": 17,
   "metadata": {
    "colab": {
     "base_uri": "https://localhost:8080/",
     "height": 456
    },
    "id": "64NG3lF6DeUa",
    "outputId": "3c7170d8-1deb-4098-b23d-5c0e0a30be06"
   },
   "outputs": [
    {
     "data": {
      "text/plain": [
       "(array([0.78466539, 0.60358876, 0.64885792, 0.44665568, 0.51908634,\n",
       "        0.41044036, 0.42553008, 0.33499176, 0.39836858, 0.3651712 ,\n",
       "        0.34706354, 0.37422503, 0.41949419, 0.41949419, 0.4889069 ,\n",
       "        0.47683512, 0.57340932, 0.62169642, 0.64282203, 0.70318091]),\n",
       " array([-9.99340576e-01, -8.99385393e-01, -7.99430210e-01, -6.99475028e-01,\n",
       "        -5.99519845e-01, -4.99564662e-01, -3.99609479e-01, -2.99654296e-01,\n",
       "        -1.99699114e-01, -9.97439308e-02,  2.11251985e-04,  1.00166435e-01,\n",
       "         2.00121618e-01,  3.00076800e-01,  4.00031983e-01,  4.99987166e-01,\n",
       "         5.99942349e-01,  6.99897532e-01,  7.99852714e-01,  8.99807897e-01,\n",
       "         9.99763080e-01]),\n",
       " <a list of 20 Patch objects>)"
      ]
     },
     "execution_count": 17,
     "metadata": {},
     "output_type": "execute_result"
    },
    {
     "data": {
      "image/png": "[encoded data removed]",
      "text/plain": [
       "<Figure size 432x288 with 1 Axes>"
      ]
     },
     "metadata": {
      "needs_background": "light"
     },
     "output_type": "display_data"
    }
   ],
   "source": [
    "xi = np.linspace(-1,1); fi = 3./8. * (1 + xi**2)\n",
    "plt.plot(xi, fi)\n",
    "plt.hist(x, 20, density=True)"
   ]
  },
  {
   "cell_type": "markdown",
   "metadata": {
    "id": "SG8GSKlXKGKU"
   },
   "source": [
    "# Adaptive Rejection Sampling"
   ]
  },
  {
   "cell_type": "code",
   "execution_count": 19,
   "metadata": {
    "colab": {
     "base_uri": "https://localhost:8080/"
    },
    "id": "q88E4XWuKKI4",
    "outputId": "a606c91c-4abc-4621-8d58-7d1a45f7fb63"
   },
   "outputs": [
    {
     "name": "stdout",
     "output_type": "stream",
     "text": [
      "Looking in indexes: https://pypi.org/simple, https://us-python.pkg.dev/colab-wheels/public/simple/\n",
      "Collecting ARSpy\n",
      "  Downloading ARSpy-0.4.tar.gz (16 kB)\n",
      "Requirement already satisfied: numpy>=1.11.0 in /usr/local/lib/python3.7/dist-packages (from ARSpy) (1.21.6)\n",
      "Building wheels for collected packages: ARSpy\n",
      "  Building wheel for ARSpy (setup.py) ... \u001b[?25l\u001b[?25hdone\n",
      "  Created wheel for ARSpy: filename=ARSpy-0.4-py3-none-any.whl size=14215 sha256=878041392c978a85731402a4169b232b648172176b5c48e17def01a04dfb3b5c\n",
      "  Stored in directory: /root/.cache/pip/wheels/82/6d/9a/5c27926e92572bf7086887871f3dfc13a60cb9fa27d4a07296\n",
      "Successfully built ARSpy\n",
      "Installing collected packages: ARSpy\n",
      "Successfully installed ARSpy-0.4\n"
     ]
    }
   ],
   "source": [
    "!pip3 install ARSpy"
   ]
  },
  {
   "cell_type": "code",
   "execution_count": 20,
   "metadata": {
    "id": "Z5AqjeabKOTb"
   },
   "outputs": [],
   "source": [
    "from arspy.ars import adaptive_rejection_sampling\n",
    "\n",
    "example_logpdf = lambda x: -x**2\n",
    "\n",
    "a, b = -0.5, 0.5  # a < b must hold\n",
    "domain = (-np.inf, np.inf)\n",
    "n_samples = 10000"
   ]
  },
  {
   "cell_type": "code",
   "execution_count": 21,
   "metadata": {
    "id": "x9rt8rAoKaS5"
   },
   "outputs": [],
   "source": [
    "samples = adaptive_rejection_sampling(logpdf=example_logpdf, a=a, b=b, domain=domain, n_samples=n_samples)"
   ]
  },
  {
   "cell_type": "code",
   "execution_count": 22,
   "metadata": {
    "colab": {
     "base_uri": "https://localhost:8080/",
     "height": 265
    },
    "id": "sD01RXElKa-5",
    "outputId": "16bf235f-aed9-4314-d4bf-734e1dd02b76"
   },
   "outputs": [
    {
     "data": {
      "image/png": "[encoded data removed]",
      "text/plain": [
       "<Figure size 432x288 with 1 Axes>"
      ]
     },
     "metadata": {
      "needs_background": "light"
     },
     "output_type": "display_data"
    }
   ],
   "source": [
    "_ = plt.hist(samples, 21, density=True)"
   ]
  },
  {
   "cell_type": "markdown",
   "metadata": {
    "id": "1gU2DUWU4ctF"
   },
   "source": [
    "# Pointers on Inverse Interpolation\n",
    "\n",
    "In the transformation method, sometimes it is difficult to solve $u = F(x)$ in terms of $x = F^{-1}(u)$.\n",
    "\n",
    "For smooth $F(x)$ we can sometimes use interpolation, instead of numerically trying to solve for $x$. This is typically cheaper than a nonlinear solver in terms of floating point operations. Furthermore, we don't have to triage multiple solutions (typical for nonlinear equations) and decide which one is appropriate for our domain.\n",
    "\n",
    "Consider the example above:\n",
    "\n",
    "$$f(x) = \\frac{3}{8} (1+x^2), ~~~ -1 \\leq x \\leq 1$$\n",
    "\n",
    "First, we find the CDF to be $F(x) = (x^3 + 3x + 4)/8$."
   ]
  },
  {
   "cell_type": "code",
   "execution_count": 23,
   "metadata": {
    "colab": {
     "base_uri": "https://localhost:8080/",
     "height": 296
    },
    "id": "IPn5AhRmKrIl",
    "outputId": "8a0ad869-7d54-46ef-99f0-3abb5295efcd"
   },
   "outputs": [
    {
     "data": {
      "text/plain": [
       "Text(0, 0.5, 'F(x)')"
      ]
     },
     "execution_count": 23,
     "metadata": {},
     "output_type": "execute_result"
    },
    {
     "data": {
      "image/png": "[encoded data removed]",
      "text/plain": [
       "<Figure size 432x288 with 1 Axes>"
      ]
     },
     "metadata": {
      "needs_background": "light"
     },
     "output_type": "display_data"
    }
   ],
   "source": [
    "# Define the PDF over (say) 100 points on the domain\n",
    "xi = np.linspace(-1,1)\n",
    "Fx = lambda x: 1./8 * (x**3 + 3*x +4)\n",
    "Fi = Fx(xi)\n",
    "\n",
    "# plot x v/s F\n",
    "plt.plot(xi, Fi, 'x-')\n",
    "plt.xlabel('x')\n",
    "plt.ylabel('F(x)')"
   ]
  },
  {
   "cell_type": "code",
   "execution_count": 24,
   "metadata": {
    "colab": {
     "base_uri": "https://localhost:8080/",
     "height": 296
    },
    "id": "OhvF1jcjKA8N",
    "outputId": "4147d257-797a-4e10-dde7-0678d90bdfd2"
   },
   "outputs": [
    {
     "data": {
      "text/plain": [
       "Text(0.5, 0, 'F(x)')"
      ]
     },
     "execution_count": 24,
     "metadata": {},
     "output_type": "execute_result"
    },
    {
     "data": {
      "image/png": "[encoded data removed]",
      "text/plain": [
       "<Figure size 432x288 with 1 Axes>"
      ]
     },
     "metadata": {
      "needs_background": "light"
     },
     "output_type": "display_data"
    }
   ],
   "source": [
    "# plot F versus x;\n",
    "plt.plot(Fi, xi, 'x-')\n",
    "plt.ylabel('x')\n",
    "plt.xlabel('F(x)')"
   ]
  },
  {
   "cell_type": "markdown",
   "metadata": {
    "id": "WAuHh5bu506y"
   },
   "source": [
    "We can now solve $u = F(x)$ by interpolation. That is, we take $u \\in [0,1] = F(x)$ and use the curve above to find out what $x$ it corresponds to."
   ]
  },
  {
   "cell_type": "code",
   "execution_count": 25,
   "metadata": {
    "id": "wcMwlz4mLLXv"
   },
   "outputs": [],
   "source": [
    "# smooth F(x) can use cubic interpolation\n",
    "from scipy.interpolate import interp1d\n",
    "Finv = interp1d(Fi, xi, 'cubic')"
   ]
  },
  {
   "cell_type": "code",
   "execution_count": 26,
   "metadata": {
    "colab": {
     "base_uri": "https://localhost:8080/",
     "height": 314
    },
    "id": "LZTlXecjLhPP",
    "outputId": "3960338e-c8ee-40c0-9177-43733bae4d23"
   },
   "outputs": [
    {
     "name": "stdout",
     "output_type": "stream",
     "text": [
      "Finv(0.8) = 0.6903366437688296\n"
     ]
    },
    {
     "data": {
      "text/plain": [
       "<matplotlib.lines.Line2D at 0x7fa9a2e51650>"
      ]
     },
     "execution_count": 26,
     "metadata": {},
     "output_type": "execute_result"
    },
    {
     "data": {
      "image/png": "[encoded data removed]",
      "text/plain": [
       "<Figure size 432x288 with 1 Axes>"
      ]
     },
     "metadata": {
      "needs_background": "light"
     },
     "output_type": "display_data"
    }
   ],
   "source": [
    "# test\n",
    "x = 0.8; print('Finv(' + str(x) + ') = ' + str(Finv(x)))\n",
    "# plot F versus x;\n",
    "plt.plot(Fi, xi, 'x-')\n",
    "plt.ylabel('x')\n",
    "plt.xlabel('F(x)')\n",
    "plt.axvline(x=x, c='gray')\n",
    "plt.axhline(y=Finv(x), c='gray')"
   ]
  },
  {
   "cell_type": "code",
   "execution_count": 27,
   "metadata": {
    "colab": {
     "base_uri": "https://localhost:8080/",
     "height": 265
    },
    "id": "JIvv-_dvLmdQ",
    "outputId": "de187b2d-bb3e-40e7-f239-cf7c61ae961e"
   },
   "outputs": [
    {
     "data": {
      "image/png": "[encoded data removed]",
      "text/plain": [
       "<Figure size 432x288 with 1 Axes>"
      ]
     },
     "metadata": {
      "needs_background": "light"
     },
     "output_type": "display_data"
    }
   ],
   "source": [
    "# test inverse sampling\n",
    "u = np.random.uniform(0,1, 10000)\n",
    "x = Finv(u)\n",
    "\n",
    "xi = np.linspace(-1,1); fi = 3./8. * (1 + xi**2)\n",
    "\n",
    "plt.plot(xi, fi)\n",
    "_ = plt.hist(x, 20, density=True)"
   ]
  },
  {
   "cell_type": "code",
   "execution_count": null,
   "metadata": {
    "id": "5Pk4Q60l7eOt"
   },
   "outputs": [],
   "source": []
  }
 ],
 "metadata": {
  "colab": {
   "collapsed_sections": [
    "ShRr_ClcAf9W"
   ],
   "provenance": []
  },
  "kernelspec": {
   "display_name": "Python 3 (ipykernel)",
   "language": "python",
   "name": "python3"
  },
  "language_info": {
   "codemirror_mode": {
    "name": "ipython",
    "version": 3
   },
   "file_extension": ".py",
   "mimetype": "text/x-python",
   "name": "python",
   "nbconvert_exporter": "python",
   "pygments_lexer": "ipython3",
   "version": "3.9.10"
  }
 },
 "nbformat": 4,
 "nbformat_minor": 1
}
