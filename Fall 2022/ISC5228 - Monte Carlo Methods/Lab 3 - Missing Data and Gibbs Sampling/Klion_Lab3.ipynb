{
 "cells": [
  {
   "cell_type": "code",
   "execution_count": 1,
   "id": "8f9c9350",
   "metadata": {},
   "outputs": [],
   "source": [
    "import numpy as np\n",
    "import scipy.stats as stats\n",
    "import matplotlib.pyplot as plt\n",
    "\n",
    "%matplotlib inline"
   ]
  },
  {
   "cell_type": "code",
   "execution_count": 2,
   "id": "439889dc",
   "metadata": {},
   "outputs": [],
   "source": [
    "def TruncatedPoisson(mu, kmin, nsamples = 1):\n",
    "    \"\"\"Truncated Poisson, values >=k; mu is same as lambda\n",
    "    This effectively uses x = F^{-1}(u) technique;\n",
    "    exploits built-in python functions\"\"\"\n",
    "\n",
    "    # normalization factor. Subtract pbty of truncated part\n",
    "    nrm = 1.0 - stats.poisson.cdf(kmin-1, mu)\n",
    "    \n",
    "    # u = values between cdf(k) and 1; the second term is the random part\n",
    "    yr = stats.poisson.cdf(kmin-1, mu) + np.random.rand(nsamples)*(nrm)\n",
    "    \n",
    "    # inverse CDF\n",
    "    xr = stats.poisson.ppf(yr, mu)\n",
    "    \n",
    "    # maps them to integers\n",
    "    return xr.astype(int)\n",
    "\n",
    "def GelmanRubin(A, M, n):\n",
    "    \"\"\"A is a matrix with n columns and M rows\n",
    "    Aij = ith sample from jth chain\"\"\"\n",
    "    \n",
    "    sj2 = np.zeros(n); aj = np.zeros(n)\n",
    "    \n",
    "    for j in range(n):\n",
    "        sj2[j] = np.var(A[:,j])\n",
    "        aj[j] = np.mean(A[:,j])\n",
    "    W = np.mean(sj2) # within-chain\n",
    "    B = M * np.var(aj)\n",
    "    s = (1. - 1./M)*W + 1./M * B # inter-chain\n",
    "    R = np.sqrt(s/W)\n",
    "    \n",
    "    return R, s, W, B\n"
   ]
  },
  {
   "cell_type": "code",
   "execution_count": 3,
   "id": "d1381ff1",
   "metadata": {},
   "outputs": [
    {
     "data": {
      "text/plain": [
       "'x, z = np.empty(352), np.empty(13)\\n#j = 0\\nxj0 = np.empty(142)\\nfor i in range(142):\\n    xj0[i] = 0\\n\\n#j = 1\\nxj1 = np.empty(129)\\nfor i in range(129):\\n    xj1[i] = 1\\n\\n#j = 2\\nxj2 = np.empty(56)\\nfor i in range(56):\\n    xj2[i] = 2\\n\\n#j = 3\\nxj3 = np.empty(25)\\nfor i in range(25):\\n    xj3[i] = 3\\n\\n#j = 4\\nfor i in range(13):\\n    z[i] = np.random.randint(4, 50)\\n    \\n#join all the x arrays together \\nx = np.concatenate((xj0, xj1, xj2, xj3))\\n#shuffle the contents of x using built-in function\\nnp.random.shuffle(x)'"
      ]
     },
     "execution_count": 3,
     "metadata": {},
     "output_type": "execute_result"
    }
   ],
   "source": [
    "'''x, z = np.empty(352), np.empty(13)\n",
    "#j = 0\n",
    "xj0 = np.empty(142)\n",
    "for i in range(142):\n",
    "    xj0[i] = 0\n",
    "\n",
    "#j = 1\n",
    "xj1 = np.empty(129)\n",
    "for i in range(129):\n",
    "    xj1[i] = 1\n",
    "\n",
    "#j = 2\n",
    "xj2 = np.empty(56)\n",
    "for i in range(56):\n",
    "    xj2[i] = 2\n",
    "\n",
    "#j = 3\n",
    "xj3 = np.empty(25)\n",
    "for i in range(25):\n",
    "    xj3[i] = 3\n",
    "\n",
    "#j = 4\n",
    "for i in range(13):\n",
    "    z[i] = np.random.randint(4, 50)\n",
    "    \n",
    "#join all the x arrays together \n",
    "x = np.concatenate((xj0, xj1, xj2, xj3))\n",
    "#shuffle the contents of x using built-in function\n",
    "np.random.shuffle(x)'''"
   ]
  },
  {
   "cell_type": "code",
   "execution_count": 4,
   "id": "53024552",
   "metadata": {},
   "outputs": [],
   "source": [
    "niters = 1000\n",
    "\n",
    "#create 5 copies basically for diff starting lambdas\n",
    "#Z_0 and lambda_0\n",
    "lamb = np.empty(niters, float) \n",
    "lamb1, lamb2, lamb3, lamb4 = np.empty(niters, float), np.empty(niters, float), np.empty(niters, float), np.empty(niters, float)\n",
    "lamb[0] = 1.\n",
    "lamb1[0] = 5.\n",
    "lamb2[0] = 0.1\n",
    "lamb3[0] = 10.\n",
    "lamb4[0] = 50.\n",
    "\n",
    "\n",
    "Z = np.empty((13, niters), float)\n",
    "Z1, Z2, Z3, Z4 = np.empty((13, niters), float), np.empty((13, niters), float), np.empty((13, niters), float), np.empty((13, niters), float)\n",
    "Z[:, 0] = TruncatedPoisson(lamb[0], 4, nsamples = 13)\n",
    "Z1[:, 0] = TruncatedPoisson(lamb1[0], 4, nsamples = 13)\n",
    "Z2[:, 0] = TruncatedPoisson(lamb2[0], 4, nsamples = 13)\n",
    "Z3[:, 0] = TruncatedPoisson(lamb3[0], 4, nsamples = 13)\n",
    "Z4[:, 0] = TruncatedPoisson(lamb4[0], 4, nsamples = 13)\n",
    "\n",
    "for i in range(1, niters):\n",
    "    Z[:, i] = TruncatedPoisson(lamb[i-1], 4, nsamples = 13)\n",
    "    Z1[:, i] = TruncatedPoisson(lamb1[i-1], 4, nsamples = 13)\n",
    "    Z2[:, i] = TruncatedPoisson(lamb2[i-1], 4, nsamples = 13)\n",
    "    Z3[:, i] = TruncatedPoisson(lamb3[i-1], 4, nsamples = 13)\n",
    "    Z4[:, i] = TruncatedPoisson(lamb4[i-1], 4, nsamples = 13)\n",
    "    \n",
    "    lamb[i] = stats.gamma.rvs((316 + np.sum(Z[:, i])), scale = 1/365)\n",
    "    lamb1[i] = stats.gamma.rvs((316 + np.sum(Z1[:, i])), scale = 1/365)\n",
    "    lamb2[i] = stats.gamma.rvs((316 + np.sum(Z2[:, i])), scale = 1/365)\n",
    "    lamb3[i] = stats.gamma.rvs((316 + np.sum(Z3[:, i])), scale = 1/365)\n",
    "    lamb4[i] = stats.gamma.rvs((316 + np.sum(Z4[:, i])), scale = 1/365)"
   ]
  },
  {
   "cell_type": "code",
   "execution_count": 5,
   "id": "74e4c1ec",
   "metadata": {
    "scrolled": true
   },
   "outputs": [
    {
     "data": {
      "image/png": "[encoded data removed]",
      "text/plain": [
       "<Figure size 432x288 with 1 Axes>"
      ]
     },
     "metadata": {
      "needs_background": "light"
     },
     "output_type": "display_data"
    }
   ],
   "source": [
    "plt.hist(lamb[:-20], 20, density = True)\n",
    "plt.xlabel(\"$\\lambda$\")\n",
    "plt.ylabel(\"Frequency\")\n",
    "plt.show()"
   ]
  },
  {
   "cell_type": "code",
   "execution_count": 6,
   "id": "42a83b79",
   "metadata": {},
   "outputs": [
    {
     "data": {
      "text/plain": [
       "(1.106110772970685, 0.8613324920500058, 0.7040015026178184, 1.4906564497787558)"
      ]
     },
     "execution_count": 6,
     "metadata": {},
     "output_type": "execute_result"
    }
   ],
   "source": [
    "allLambs = np.vstack((lamb, lamb1, lamb2, lamb3, lamb4))\n",
    "GelmanRubin(allLambs, 5, niters//2)"
   ]
  },
  {
   "cell_type": "markdown",
   "id": "b1636593",
   "metadata": {},
   "source": [
    "R $\\approx$ 1.1061, which is less than 1.2, so the amount of iterations is fine for convergence."
   ]
  },
  {
   "cell_type": "code",
   "execution_count": 7,
   "id": "a7ab21b7",
   "metadata": {},
   "outputs": [
    {
     "data": {
      "image/png": "[encoded data removed]",
      "text/plain": [
       "<Figure size 432x288 with 1 Axes>"
      ]
     },
     "metadata": {
      "needs_background": "light"
     },
     "output_type": "display_data"
    }
   ],
   "source": [
    "#for i in range(niters):\n",
    "plt.hist(Z, 5, density = True)\n",
    "plt.xlabel(\"$Z^{t}$\")\n",
    "plt.ylabel(\"Frequency\")\n",
    "plt.show()"
   ]
  },
  {
   "cell_type": "markdown",
   "id": "0c3e97ed",
   "metadata": {},
   "source": [
    "# 3+ = 38 now"
   ]
  },
  {
   "cell_type": "code",
   "execution_count": 8,
   "id": "05226bbf",
   "metadata": {},
   "outputs": [],
   "source": [
    "#create 5 copies basically for diff starting lambdas\n",
    "#Z_0 and lambda_0\n",
    "lamb = np.empty(niters, float) \n",
    "lamb1, lamb2, lamb3, lamb4 = np.empty(niters, float), np.empty(niters, float), np.empty(niters, float), np.empty(niters, float)\n",
    "lamb[0] = 1.\n",
    "lamb1[0] = 5.\n",
    "lamb2[0] = 0.1\n",
    "lamb3[0] = 10.\n",
    "lamb4[0] = 50.\n",
    "\n",
    "\n",
    "Z = np.empty((38, niters), float)\n",
    "Z1, Z2, Z3, Z4 = np.empty((38, niters), float), np.empty((38, niters), float), np.empty((38, niters), float), np.empty((38, niters), float)\n",
    "Z[:, 0] = TruncatedPoisson(lamb[0], 3, nsamples = 38)\n",
    "Z1[:, 0] = TruncatedPoisson(lamb1[0], 3, nsamples = 38)\n",
    "Z2[:, 0] = TruncatedPoisson(lamb2[0], 3, nsamples = 38)\n",
    "Z3[:, 0] = TruncatedPoisson(lamb3[0], 3, nsamples = 38)\n",
    "Z4[:, 0] = TruncatedPoisson(lamb4[0], 3, nsamples = 38)\n",
    "\n",
    "for i in range(1, niters):\n",
    "    Z[:, i] = TruncatedPoisson(lamb[i-1], 4, nsamples = 38)\n",
    "    Z1[:, i] = TruncatedPoisson(lamb1[i-1], 4, nsamples = 38)\n",
    "    Z2[:, i] = TruncatedPoisson(lamb2[i-1], 4, nsamples = 38)\n",
    "    Z3[:, i] = TruncatedPoisson(lamb3[i-1], 4, nsamples = 38)\n",
    "    Z4[:, i] = TruncatedPoisson(lamb4[i-1], 4, nsamples = 38)\n",
    "    \n",
    "    lamb[i] = stats.gamma.rvs((241 + np.sum(Z[:, i])), scale = 1/365)\n",
    "    lamb1[i] = stats.gamma.rvs((241 + np.sum(Z1[:, i])), scale = 1/365)\n",
    "    lamb2[i] = stats.gamma.rvs((241 + np.sum(Z2[:, i])), scale = 1/365)\n",
    "    lamb3[i] = stats.gamma.rvs((241 + np.sum(Z3[:, i])), scale = 1/365)\n",
    "    lamb4[i] = stats.gamma.rvs((241 + np.sum(Z4[:, i])), scale = 1/365)"
   ]
  },
  {
   "cell_type": "code",
   "execution_count": 9,
   "id": "1023be4a",
   "metadata": {},
   "outputs": [
    {
     "data": {
      "image/png": "[encoded data removed]",
      "text/plain": [
       "<Figure size 432x288 with 1 Axes>"
      ]
     },
     "metadata": {
      "needs_background": "light"
     },
     "output_type": "display_data"
    }
   ],
   "source": [
    "plt.hist(lamb, 20, density = True)\n",
    "plt.xlabel('$\\lambda$')\n",
    "plt.ylabel('Frequency')\n",
    "plt.show()"
   ]
  },
  {
   "cell_type": "code",
   "execution_count": 10,
   "id": "a7322c80",
   "metadata": {},
   "outputs": [
    {
     "data": {
      "image/png": "[encoded data removed]",
      "text/plain": [
       "<Figure size 432x288 with 1 Axes>"
      ]
     },
     "metadata": {
      "needs_background": "light"
     },
     "output_type": "display_data"
    }
   ],
   "source": [
    "plt.hist(Z, 5, density = True)\n",
    "plt.xlabel(\"$Z^{t}$\")\n",
    "plt.ylabel(\"Frequency\")\n",
    "plt.show()"
   ]
  },
  {
   "cell_type": "code",
   "execution_count": 11,
   "id": "aca6ed69",
   "metadata": {},
   "outputs": [
    {
     "data": {
      "text/plain": [
       "(1.1031414762433547, 0.8640077114673383, 0.709994838346942, 1.4800592039489238)"
      ]
     },
     "execution_count": 11,
     "metadata": {},
     "output_type": "execute_result"
    }
   ],
   "source": [
    "allLambs2 = np.vstack((lamb, lamb1, lamb2, lamb3, lamb4))\n",
    "GelmanRubin(allLambs2, 5, niters//2)"
   ]
  },
  {
   "cell_type": "markdown",
   "id": "be873b8a",
   "metadata": {},
   "source": [
    "R $\\approx$ 1.1031, which is less than 1.2, so the amount of iterations is fine for convergence."
   ]
  }
 ],
 "metadata": {
  "kernelspec": {
   "display_name": "Python 3 (ipykernel)",
   "language": "python",
   "name": "python3"
  },
  "language_info": {
   "codemirror_mode": {
    "name": "ipython",
    "version": 3
   },
   "file_extension": ".py",
   "mimetype": "text/x-python",
   "name": "python",
   "nbconvert_exporter": "python",
   "pygments_lexer": "ipython3",
   "version": "3.9.10"
  }
 },
 "nbformat": 4,
 "nbformat_minor": 5
}
