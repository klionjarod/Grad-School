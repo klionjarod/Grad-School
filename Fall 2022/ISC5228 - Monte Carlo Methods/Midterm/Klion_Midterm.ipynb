{
 "cells": [
  {
   "cell_type": "code",
   "execution_count": 1,
   "id": "186bd8b5",
   "metadata": {},
   "outputs": [],
   "source": [
    "import numpy as np\n",
    "import matplotlib.pyplot as plt\n",
    "import sympy as sy\n",
    "import scipy as sp\n",
    "from IPython.display import Math, display"
   ]
  },
  {
   "cell_type": "markdown",
   "id": "f478006e",
   "metadata": {},
   "source": [
    "# Problem 1: Transformation Method for Normal Distribution"
   ]
  },
  {
   "cell_type": "markdown",
   "id": "15f27b93",
   "metadata": {},
   "source": [
    "## part (a): Write a program to sample $p(x; \\mu = 0, \\sigma^2 = 1)$ using this approximation"
   ]
  },
  {
   "cell_type": "code",
   "execution_count": 2,
   "id": "5fea9539",
   "metadata": {},
   "outputs": [],
   "source": [
    "def sampleNormalDist(npts):\n",
    "    #declare constants of x\n",
    "    a0, a1 = 2.30753, 0.27061\n",
    "    b1, b2 = 0.99229, 0.04481\n",
    "    \n",
    "    u = np.random.random((npts, 1))\n",
    "    t_less = np.sqrt(-2*np.log(u[u <= 0.5])) #geiven t-value for u <= 0.5\n",
    "    t_great = np.sqrt(-2*np.log(1 - u[u > 0.5])) #given t-value for u > 0.5\n",
    "    \n",
    "    #formula for piecewise x based on which t\n",
    "    x_less = ((a0 + a1*t_less) / (1 + b1*t_less + b2*t_less**2)) - t_less\n",
    "    x_great = t_great - ((a0 + a1*t_great) / (1 + b1*t_great + b2*t_great**2))\n",
    "    x = np.concatenate((x_less, x_great))\n",
    "    return x"
   ]
  },
  {
   "cell_type": "markdown",
   "id": "a02af184",
   "metadata": {},
   "source": [
    "## part (b): Compare the histogram of these samples with the PDF"
   ]
  },
  {
   "cell_type": "code",
   "execution_count": 3,
   "id": "0bc74c38",
   "metadata": {},
   "outputs": [
    {
     "data": {
      "image/png": "[encoded data removed]",
      "text/plain": [
       "<Figure size 1080x504 with 1 Axes>"
      ]
     },
     "metadata": {
      "needs_background": "light"
     },
     "output_type": "display_data"
    }
   ],
   "source": [
    "samples = 10**4\n",
    "x = sampleNormalDist(samples)\n",
    "\n",
    "plt.figure(figsize = (15, 7))\n",
    "plt.hist(x, 20, density = True)\n",
    "\n",
    "#overlay PDF\n",
    "xi = np.linspace(-4., 4., 1000)\n",
    "mu, sigma = 0.0, 1.0; fnorm =  1/np.sqrt(2*np.pi*sigma**2) * np.exp(-0.5 * (xi - mu)**2 / sigma**2)\n",
    "plt.plot(xi, fnorm)\n",
    "plt.xlabel('x', fontsize = '16')\n",
    "plt.ylabel('p(x)', fontsize = '16')\n",
    "plt.show()"
   ]
  },
  {
   "cell_type": "markdown",
   "id": "449ea2e8",
   "metadata": {},
   "source": [
    "## part (c): Compute the mean and standard deviation of these samples"
   ]
  },
  {
   "cell_type": "code",
   "execution_count": 4,
   "id": "5480f5b4",
   "metadata": {},
   "outputs": [
    {
     "data": {
      "text/latex": [
       "$\\displaystyle \\mu =-0.009431890589238105$"
      ],
      "text/plain": [
       "<IPython.core.display.Math object>"
      ]
     },
     "metadata": {},
     "output_type": "display_data"
    },
    {
     "data": {
      "text/latex": [
       "$\\displaystyle \\sigma =0.9957861819211469$"
      ],
      "text/plain": [
       "<IPython.core.display.Math object>"
      ]
     },
     "metadata": {},
     "output_type": "display_data"
    }
   ],
   "source": [
    "display(Math('\\\\mu =' + str(np.mean(x))))\n",
    "display(Math('\\\\sigma =' + str(np.std(x))))"
   ]
  },
  {
   "cell_type": "markdown",
   "id": "719d1f05",
   "metadata": {},
   "source": [
    "# Problem 2: Importance Sampling"
   ]
  },
  {
   "cell_type": "code",
   "execution_count": 5,
   "id": "a0282237",
   "metadata": {},
   "outputs": [
    {
     "data": {
      "text/plain": [
       "(0.7235709525588703, 1.3758417147460515e-08)"
      ]
     },
     "execution_count": 5,
     "metadata": {},
     "output_type": "execute_result"
    }
   ],
   "source": [
    "import scipy.integrate as integrate\n",
    "g = lambda theta: (theta / (1 + theta**2)) * np.exp(-0.5*(theta-1)**2) \n",
    "integrate.quad(g, -np.infty, np.infty)"
   ]
  },
  {
   "cell_type": "markdown",
   "id": "cacdce91",
   "metadata": {},
   "source": [
    "## part (a): Use importance sampling with $n = 10^4$ samples drawn from the normal distribution to evaluate the integral\n",
    "## part (b): Estimate the error $\\sigma_I$ in the integral without resorting to multiple runs"
   ]
  },
  {
   "cell_type": "code",
   "execution_count": 6,
   "id": "dcd656f1",
   "metadata": {},
   "outputs": [
    {
     "data": {
      "text/latex": [
       "$\\displaystyle I \\approx 0.743483284081938\\text{, with estimated error } \\sigma_{I} = 0.0120072277351192$"
      ],
      "text/plain": [
       "<IPython.core.display.Math object>"
      ]
     },
     "metadata": {},
     "output_type": "display_data"
    }
   ],
   "source": [
    "def importanceSampling(mu, sigma, npts):\n",
    "    x = 2 * sampleNormalDist(npts)\n",
    "    f = (x / (1 + x**2)) * np.exp(-0.5 * (x-1)**2)\n",
    "    p = 1 / np.sqrt(2 * np.pi * sigma**2) * np.exp(-0.5 * (x - mu) ** 2 / sigma**2) \n",
    "    \n",
    "    intg = np.mean(f / p)\n",
    "    stdI = np.std(f / p) / np.sqrt(npts)\n",
    "    \n",
    "    return intg, stdI\n",
    "\n",
    "estInt, estErr = importanceSampling(0, 2, samples)\n",
    "display(Math('I \\\\approx ' + sy.latex(estInt) + '\\\\text{, with estimated error } \\\\sigma_{I} = ' + sy.latex(estErr)))"
   ]
  },
  {
   "cell_type": "markdown",
   "id": "81d16c18",
   "metadata": {},
   "source": [
    "# Bayesian Inference"
   ]
  },
  {
   "cell_type": "markdown",
   "id": "c878647a",
   "metadata": {},
   "source": [
    "## part (a): Plot the prior and posterior distributions, and comment on the difference between them"
   ]
  },
  {
   "cell_type": "code",
   "execution_count": 42,
   "id": "71fbc85e",
   "metadata": {},
   "outputs": [],
   "source": [
    "def priorPoisson(a, b, isPlot = True):\n",
    "    frac = b**a / sp.special.gamma(a)\n",
    "    if isPlot:\n",
    "        lam = np.linspace(0, 40, 1000)\n",
    "        dist = frac * lam**(a-1) * np.exp(-b * lam)\n",
    "        \n",
    "        plt.figure(figsize = (11, 7))\n",
    "        plt.plot(lam, dist, label = \"prior\")\n",
    "        plt.xlabel('$\\lambda$', fontsize = '14')\n",
    "        plt.ylabel('p($\\lambda$)', fontsize = '14')\n",
    "        \n",
    "def posteriorPoisson(a, b, k, isPlot = True):\n",
    "    n = len(k)\n",
    "    alpha = a + np.sum(k)\n",
    "    beta = n + b\n",
    "    frac = beta**alpha / sp.special.gamma(alpha)\n",
    "    if isPlot:\n",
    "        lam = np.linspace(0, 40, 1000)\n",
    "        dist = frac * lam**(alpha-1) * np.exp(-beta * lam)\n",
    "        \n",
    "        plt.plot(lam, dist, label = \"post\")\n",
    "        plt.legend(fontsize = 14)\n",
    "        plt.title(\"Prior and Posterior Distributions\", fontsize = '14')\n",
    "        plt.xlabel('$\\lambda$', fontsize = '14')\n",
    "        plt.ylabel('p($\\lambda|\\mathbf{k}$)', fontsize = '14')"
   ]
  },
  {
   "cell_type": "code",
   "execution_count": 57,
   "id": "d6c9ee3e",
   "metadata": {},
   "outputs": [
    {
     "data": {
      "image/png": "[encoded data removed]",
      "text/plain": [
       "<Figure size 792x504 with 1 Axes>"
      ]
     },
     "metadata": {
      "needs_background": "light"
     },
     "output_type": "display_data"
    }
   ],
   "source": [
    "a, b = 5, 0.5\n",
    "k = np.array([6, 2, 3, 6, 4])\n",
    "priorPoisson(a, b)\n",
    "posteriorPoisson(a, b, k)"
   ]
  },
  {
   "cell_type": "markdown",
   "id": "7447418f",
   "metadata": {},
   "source": [
    "As can be easily seen from the graph, the prior distribution is much wider, but reaches a lower maximum value than the more narrow, but higher-valued posterior distribution."
   ]
  },
  {
   "cell_type": "markdown",
   "id": "275f769c",
   "metadata": {},
   "source": [
    "## part (b): Suppose the prior $p(\\lambda)$ distribution was uniform $U[0, 20]$. Describe a step-by-step approach for estimating the posterior distribution."
   ]
  },
  {
   "cell_type": "markdown",
   "id": "d7235cd8",
   "metadata": {},
   "source": [
    "Assuming the prior distribution was uniform, we can estimate the posterior distribution using Bayesian inference as shown in (6):  \n",
    "    $$\n",
    "    p(\\lambda|\\mathbf{k}) \\propto p(\\mathbf{k}|\\lambda)p(\\lambda)\n",
    "    $$\n",
    "Selecting different values of $\\lambda$ between 0 and 1, we can evaluate the RHS to compute $p(\\lambda|\\mathbf{k})$ at that $\\lambda$."
   ]
  },
  {
   "cell_type": "code",
   "execution_count": 187,
   "id": "95ce9e07",
   "metadata": {},
   "outputs": [],
   "source": [
    "def estPostDist(k):\n",
    "    lam = np.mean(k)\n",
    "    poisDist = lam**k * np.exp(-lam) / sp.special.factorial(k)\n",
    "    combLikelihood = np.prod(poisDist)\n",
    "    priorD = np.random.uniform(0, 20)\n",
    "    post = combLikelihood * priorD\n",
    "    return post"
   ]
  },
  {
   "cell_type": "code",
   "execution_count": 188,
   "id": "7c2aa2a5",
   "metadata": {},
   "outputs": [
    {
     "data": {
      "text/plain": [
       "0.05194745590949575"
      ]
     },
     "execution_count": 188,
     "metadata": {},
     "output_type": "execute_result"
    }
   ],
   "source": [
    "estPostDist(k) * 100"
   ]
  }
 ],
 "metadata": {
  "kernelspec": {
   "display_name": "Python 3 (ipykernel)",
   "language": "python",
   "name": "python3"
  },
  "language_info": {
   "codemirror_mode": {
    "name": "ipython",
    "version": 3
   },
   "file_extension": ".py",
   "mimetype": "text/x-python",
   "name": "python",
   "nbconvert_exporter": "python",
   "pygments_lexer": "ipython3",
   "version": "3.9.10"
  }
 },
 "nbformat": 4,
 "nbformat_minor": 5
}
