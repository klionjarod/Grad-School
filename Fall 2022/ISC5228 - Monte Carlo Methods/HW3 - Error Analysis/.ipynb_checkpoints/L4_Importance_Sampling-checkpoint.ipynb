{
 "cells": [
  {
   "cell_type": "code",
   "execution_count": 1,
   "metadata": {
    "id": "C9HpxaqDc8e5"
   },
   "outputs": [],
   "source": [
    "# preliminaries\n",
    "import numpy as np\n",
    "import matplotlib.pyplot as plt\n",
    "import matplotlib as mpl\n",
    "%matplotlib inline"
   ]
  },
  {
   "cell_type": "markdown",
   "metadata": {
    "id": "6tfx-OEoefou"
   },
   "source": [
    "# Expected Values using Methods 1 and 2\n",
    "\n",
    "Suppose we want to compute the expected value of a function $f(x)$ given the PDF $\\pi(x)$ of $x$.\n",
    "\n",
    "$$E[f]  = \\int_{a}^{b} f(x) \\pi(x) \\, dx.$$\n",
    "\n",
    "If we define $g(x) = f(x) \\pi(x)$, we can use our standard method for computing $E[f]$. Let us call this Method 1.\n",
    "\n",
    "## Method 1\n",
    "\n",
    "* draw $n$ samples $x_1, x_2, ..., x_n$  from $u(x) = U[a, b)$\n",
    "\n",
    "* estimate $\\bar{g}$ by averaging,\n",
    "\\begin{equation}\n",
    "\\bar{g} \\approx \\dfrac{1}{n} \\sum_{j=1}^{n} g(x_j) = \\dfrac{1}{n} \\sum_{j=1}^{n} \\pi(x_j) f(x_j) \n",
    "\\end{equation}\n",
    "* hence, estimate $E[f] = \\bar{g} (b-a)$:\n",
    "\\begin{equation}\n",
    "E[f] = \\dfrac{b-a}{n} \\sum_{j=1}^{n} \\pi(x_j) f(x_j)\n",
    "\\end{equation}\n",
    "\n",
    "## Method 2\n",
    "\n",
    "This is useful, when it is convenient to sample $x \\sim \\pi(x)$:\n",
    "\n",
    "* draw $n$ samples $x_1, x_2, ..., x_n$ from $\\pi(x)$\n",
    "* estimate $E[f]$ directly by a simple average:\n",
    "\\begin{equation}\n",
    "E[f] \\approx \\dfrac{1}{n} \\sum_{j=1}^{n} f(x_j)\n",
    "\\end{equation}\n",
    "\n",
    "**Example**\n",
    "\n",
    "Evaluate the expected value,\n",
    "\\begin{equation}\n",
    "E[f]  = \\int_{-10}^{10} f(x) \\pi(x) dx = \\int_{-10}^{10} g(x) dx\n",
    "\\end{equation}\n",
    "with $f(x) = x^2$, and $\\pi(x) = \\mathcal{N}(0,1)$, the unit normal distribution,\n",
    "$$\\pi(x) = \\dfrac{1}{\\sqrt{2 \\pi}} \\exp (-\\dfrac{x^2}{2}).$$"
   ]
  },
  {
   "cell_type": "code",
   "execution_count": 2,
   "metadata": {
    "id": "8Yj6GMABeU5I"
   },
   "outputs": [],
   "source": [
    "f = lambda x: x**2\t# f(x)\n",
    "p = lambda x: 1./np.sqrt(2.*np.pi) * np.exp(-x**2/2.) # target distribution\n",
    "g = lambda x: f(x) * p(x)  # combination g(x)"
   ]
  },
  {
   "cell_type": "code",
   "execution_count": 3,
   "metadata": {
    "colab": {
     "base_uri": "https://localhost:8080/",
     "height": 296
    },
    "id": "-FeHAVptf2Xv",
    "outputId": "bc888f58-41a0-433f-ac90-d773dfd52608"
   },
   "outputs": [
    {
     "data": {
      "text/plain": [
       "<matplotlib.legend.Legend at 0x7f7044caea50>"
      ]
     },
     "execution_count": 3,
     "metadata": {},
     "output_type": "execute_result"
    },
    {
     "data": {
      "image/png": "[encoded data removed]",
      "text/plain": [
       "<Figure size 432x288 with 1 Axes>"
      ]
     },
     "metadata": {
      "needs_background": "light"
     },
     "output_type": "display_data"
    }
   ],
   "source": [
    "x = np.linspace(-10, 10, 500)\n",
    "plt.plot(x, f(x)/100, label='f/100')\n",
    "plt.plot(x, p(x), label=r'$\\pi$')\n",
    "plt.plot(x, g(x), label='g')\n",
    "\n",
    "plt.xlabel('x')\n",
    "plt.legend()\n"
   ]
  },
  {
   "cell_type": "code",
   "execution_count": 4,
   "metadata": {
    "colab": {
     "base_uri": "https://localhost:8080/"
    },
    "id": "Mx_MVQ5UgGf_",
    "outputId": "7681d8b5-733f-4df7-c59a-03b01f84513e"
   },
   "outputs": [
    {
     "data": {
      "text/plain": [
       "(1.0, 7.348033275594856e-10)"
      ]
     },
     "execution_count": 4,
     "metadata": {},
     "output_type": "execute_result"
    }
   ],
   "source": [
    "# E[f] numerical integral using built-in integrator\n",
    "from scipy.integrate import quad\n",
    "quad(g, -10, 10)"
   ]
  },
  {
   "cell_type": "code",
   "execution_count": 5,
   "metadata": {
    "colab": {
     "base_uri": "https://localhost:8080/"
    },
    "id": "nDdD53r1gk2g",
    "outputId": "b1b81f7d-ae8f-4315-8a28-62e660fe73f8"
   },
   "outputs": [
    {
     "data": {
      "text/plain": [
       "0.9840460728832774"
      ]
     },
     "execution_count": 5,
     "metadata": {},
     "output_type": "execute_result"
    }
   ],
   "source": [
    "# Method 1\n",
    "x     = np.random.uniform(-10, 10, size=10000)\t# uniform distribution\n",
    "gbar1 = np.mean(g(x))\t# average\n",
    "fbar1 = gbar1 * (10. - (-10.))  # E[f] for method 1\n",
    "fbar1"
   ]
  },
  {
   "cell_type": "code",
   "execution_count": 6,
   "metadata": {
    "colab": {
     "base_uri": "https://localhost:8080/"
    },
    "id": "CRsUEJ7ShH3D",
    "outputId": "39bd3423-cbcf-4c33-92c3-c24667c21b4a"
   },
   "outputs": [
    {
     "data": {
      "text/plain": [
       "0.9964051491805962"
      ]
     },
     "execution_count": 6,
     "metadata": {},
     "output_type": "execute_result"
    }
   ],
   "source": [
    "# Method 2\n",
    "x = np.random.normal(0, 1, size=10000) # target distribution\n",
    "fbar2 = np.mean(f(x)) # simple average E[f] for method 2\n",
    "fbar2"
   ]
  },
  {
   "cell_type": "markdown",
   "metadata": {
    "id": "6BmSp-2Lmtgy"
   },
   "source": [
    "# Importance Sampling Example\n",
    "\n",
    "Find the integral,\n",
    "$$I = \\int_0^2 3x^2 dx.$$\n",
    "by (importance) sampling from $\\pi(x) = x/2$.\n",
    "\n",
    "\n",
    "First, we can use the transformation rule to sample from $\\pi(x) = x/2$.\n",
    "\n",
    "If $u \\sim U[0,1]$, then $$u = F(x) = x^2/4 \\implies x = \\sqrt{4u}$$"
   ]
  },
  {
   "cell_type": "code",
   "execution_count": 7,
   "metadata": {
    "id": "pp8hvVPFhISW"
   },
   "outputs": [],
   "source": [
    "def drawLinearDist(npts):\n",
    "    u = np.random.rand(npts)\n",
    "    return np.sqrt(4.0*u)"
   ]
  },
  {
   "cell_type": "code",
   "execution_count": 8,
   "metadata": {
    "colab": {
     "base_uri": "https://localhost:8080/",
     "height": 267
    },
    "id": "VgBugxQqnJwh",
    "outputId": "e59f969c-69ec-4ef0-ef9d-eccf65bda188"
   },
   "outputs": [
    {
     "data": {
      "image/png": "[encoded data removed]",
      "text/plain": [
       "<Figure size 432x288 with 1 Axes>"
      ]
     },
     "metadata": {
      "needs_background": "light"
     },
     "output_type": "display_data"
    }
   ],
   "source": [
    "x = drawLinearDist(5000)\n",
    "_ = plt.hist(x, 20, density=True)"
   ]
  },
  {
   "cell_type": "code",
   "execution_count": 9,
   "metadata": {
    "id": "s6uWdYKunTAc"
   },
   "outputs": [],
   "source": [
    "def uniformSampling(npts):\n",
    "    \"\"\"draw points uniformly distributed\"\"\"\n",
    "    b  = 2.\n",
    "    a  = 0.\n",
    "    x  = np.random.uniform(a, b, npts)\n",
    "    f  = 3.*x**2\n",
    "    \n",
    "    intg = (b-a) * np.mean(f)\n",
    "    stdI = (b-a) * np.std(f)/np.sqrt(npts)\n",
    "    \n",
    "    return intg, stdI\n",
    "  \n",
    "def importanceSampling(npts):\n",
    "  \"\"\"draw points from linear distribution\"\"\"\n",
    "    x  = drawLinearDist(npts)\n",
    "    f  = 3.*x**2\n",
    "    p  = x/2.0   #pi(x)\n",
    "    intg = np.mean(f/p)\n",
    "    stdI = np.std((f/p))/np.sqrt(npts) # error\n",
    "\n",
    "    return intg, stdI"
   ]
  },
  {
   "cell_type": "code",
   "execution_count": 10,
   "metadata": {
    "colab": {
     "base_uri": "https://localhost:8080/"
    },
    "id": "pGEbR8zXnqrB",
    "outputId": "a4e744a0-c4c0-4a96-b56a-6cefa871b288"
   },
   "outputs": [
    {
     "data": {
      "text/plain": [
       "(6.477025989304921, 0.9566117947462529)"
      ]
     },
     "execution_count": 10,
     "metadata": {},
     "output_type": "execute_result"
    }
   ],
   "source": [
    "uniformSampling(50)"
   ]
  },
  {
   "cell_type": "code",
   "execution_count": 11,
   "metadata": {
    "colab": {
     "base_uri": "https://localhost:8080/"
    },
    "id": "X1uZ7NMynze3",
    "outputId": "7032b0c3-9124-4e52-8402-3ebb74352cd7"
   },
   "outputs": [
    {
     "data": {
      "text/plain": [
       "(8.004968084634442, 0.36617922067313685)"
      ]
     },
     "execution_count": 11,
     "metadata": {},
     "output_type": "execute_result"
    }
   ],
   "source": [
    "importanceSampling(50)"
   ]
  },
  {
   "cell_type": "markdown",
   "metadata": {
    "id": "bbbvBIfZVSXl"
   },
   "source": [
    "## Poor Choice of $\\pi(x)$\n",
    "\n",
    "Let us choose $\\pi(x) = 1 - x/2$."
   ]
  },
  {
   "cell_type": "code",
   "execution_count": 12,
   "metadata": {
    "colab": {
     "base_uri": "https://localhost:8080/",
     "height": 279
    },
    "id": "OgB2cUOGVcQO",
    "outputId": "76838242-9a02-4ef9-cc73-51a00f107e3b"
   },
   "outputs": [
    {
     "data": {
      "image/png": "[encoded data removed]",
      "text/plain": [
       "<Figure size 432x288 with 1 Axes>"
      ]
     },
     "metadata": {
      "needs_background": "light"
     },
     "output_type": "display_data"
    }
   ],
   "source": [
    "xi = np.linspace(0,2)\n",
    "plt.plot(xi, 3*xi**2/10, label='f(x)/10')\n",
    "plt.plot(xi, 1.-xi/2., label=r'$\\pi(x)$')\n",
    "plt.axhline(y=0, c='gray', alpha=0.5)\n",
    "plt.xlim(0,2)\n",
    "plt.legend()\n",
    "plt.xlabel('x');"
   ]
  },
  {
   "cell_type": "code",
   "execution_count": null,
   "metadata": {
    "id": "lZdZumLzXlBO"
   },
   "outputs": [],
   "source": []
  },
  {
   "cell_type": "markdown",
   "metadata": {
    "id": "5cA5wWqYXlql"
   },
   "source": [
    "Using Sympy to get the transformation rule.\n",
    "\n",
    "The solution (to the quadratic equation) is,\n",
    "\n",
    "$$x = \\pm 2 \\sqrt{- u + 1} + 2$$\n",
    "\n",
    "Only one of them is meaningful because it has the correct range $[0,2]$.\n",
    "\n",
    "$$x = 2(1 - \\sqrt{1-u})$$"
   ]
  },
  {
   "cell_type": "code",
   "execution_count": null,
   "metadata": {
    "id": "fycZtLrZWiIR"
   },
   "outputs": [],
   "source": [
    "import sympy as sp\n",
    "x, u = sp.symbols('x, u')"
   ]
  },
  {
   "cell_type": "code",
   "execution_count": null,
   "metadata": {
    "colab": {
     "base_uri": "https://localhost:8080/",
     "height": 35
    },
    "id": "7Gc1Nkz7Wmj9",
    "outputId": "b42467b5-98f4-4c97-ee70-a5f21d2862b0"
   },
   "outputs": [
    {
     "name": "stdout",
     "output_type": "stream",
     "text": [
      "-x**2/4 + x\n"
     ]
    }
   ],
   "source": [
    "# Find CDF\n",
    "f = 1 - x/2\n",
    "F = sp.integrate(f, (x,0,x))\n",
    "print(F)"
   ]
  },
  {
   "cell_type": "code",
   "execution_count": null,
   "metadata": {
    "colab": {
     "base_uri": "https://localhost:8080/",
     "height": 34
    },
    "id": "rPrzqeQJWqxV",
    "outputId": "38b86b23-1d3b-4557-fe91-a587b7ba9b02"
   },
   "outputs": [
    {
     "data": {
      "text/latex": [
       "$$\\left [ - 2 \\sqrt{- u + 1} + 2, \\quad 2 \\sqrt{- u + 1} + 2\\right ]$$"
      ],
      "text/plain": [
       "⎡      ________          ________    ⎤\n",
       "⎣- 2⋅╲╱ -u + 1  + 2, 2⋅╲╱ -u + 1  + 2⎦"
      ]
     },
     "execution_count": 26,
     "metadata": {
      "tags": []
     },
     "output_type": "execute_result"
    }
   ],
   "source": [
    "expr = u - F\n",
    "sp.solve(expr, x)"
   ]
  },
  {
   "cell_type": "code",
   "execution_count": null,
   "metadata": {
    "id": "jP31MAfBWvKE"
   },
   "outputs": [],
   "source": [
    "def drawPoorLinearDist(npts):\n",
    "    u = np.random.rand(npts)\n",
    "    return 2*(1-np.sqrt(1.-u))"
   ]
  },
  {
   "cell_type": "code",
   "execution_count": null,
   "metadata": {
    "colab": {
     "base_uri": "https://localhost:8080/",
     "height": 269
    },
    "id": "J5vsdhWPYfOa",
    "outputId": "d848c65a-c5da-4e15-ed73-1d76ca5049c9"
   },
   "outputs": [
    {
     "data": {
      "image/png": "[encoded data removed]",
      "text/plain": [
       "<Figure size 432x288 with 1 Axes>"
      ]
     },
     "metadata": {
      "tags": []
     },
     "output_type": "display_data"
    }
   ],
   "source": [
    "x = drawPoorLinearDist(10000)\n",
    "_ = plt.hist(x, 20, density=True)"
   ]
  },
  {
   "cell_type": "code",
   "execution_count": null,
   "metadata": {
    "id": "IJjjGUF1Yija"
   },
   "outputs": [],
   "source": [
    "def importanceSamplingPoor(npts):\n",
    "  \"\"\"draw points from linear distribution\"\"\"\n",
    "  x  = drawPoorLinearDist(npts)    \n",
    "  f  = 3.*x**2\n",
    "  p  = 1. - x/2.0   #pi(x)\n",
    "\n",
    "  intg = np.mean(f/p)\n",
    "  stdI = np.std((f/p))/np.sqrt(npts) # error\n",
    "\n",
    "  return intg, stdI"
   ]
  },
  {
   "cell_type": "code",
   "execution_count": null,
   "metadata": {
    "colab": {
     "base_uri": "https://localhost:8080/",
     "height": 34
    },
    "id": "hyhd82ZKY07W",
    "outputId": "5b646b32-1498-4682-ed94-092c49d674f3"
   },
   "outputs": [
    {
     "data": {
      "text/plain": [
       "(8.006123329237878, 0.008962660385941465)"
      ]
     },
     "execution_count": 14,
     "metadata": {
      "tags": []
     },
     "output_type": "execute_result"
    }
   ],
   "source": [
    "importanceSampling(100000)"
   ]
  },
  {
   "cell_type": "code",
   "execution_count": null,
   "metadata": {
    "colab": {
     "base_uri": "https://localhost:8080/",
     "height": 34
    },
    "id": "X900_RhXY65U",
    "outputId": "0a0114d2-e43b-4978-fb65-e0dd677badcd"
   },
   "outputs": [
    {
     "data": {
      "text/plain": [
       "(8.111033858890991, 0.11071533233500305)"
      ]
     },
     "execution_count": 13,
     "metadata": {
      "tags": []
     },
     "output_type": "execute_result"
    }
   ],
   "source": [
    "importanceSamplingPoor(100000)"
   ]
  },
  {
   "cell_type": "markdown",
   "metadata": {
    "id": "uZGBnlXBZmHU"
   },
   "source": [
    "Let us vary the number of darts"
   ]
  },
  {
   "cell_type": "code",
   "execution_count": null,
   "metadata": {
    "id": "w1aDqiWAZoVH"
   },
   "outputs": [],
   "source": [
    "ndarts = np.logspace(2, 5, 25, dtype=int)"
   ]
  },
  {
   "cell_type": "code",
   "execution_count": null,
   "metadata": {
    "id": "6OXufVGUZytz"
   },
   "outputs": [],
   "source": [
    "N  = len(ndarts)\n",
    "Ig = np.zeros(N); sIg = np.zeros(N);\n",
    "Ip = np.zeros(N); sIp = np.zeros(N);\n",
    "Iu = np.zeros(N); sIu = np.zeros(N);\n",
    "\n",
    "for i, n in enumerate(ndarts):\n",
    "  Ig[i], sIg[i] = importanceSampling(n)\n",
    "  Ip[i], sIp[i] = importanceSamplingPoor(n)\n",
    "  Iu[i], sIu[i] = uniformSampling(n)"
   ]
  },
  {
   "cell_type": "code",
   "execution_count": null,
   "metadata": {
    "colab": {
     "base_uri": "https://localhost:8080/",
     "height": 305
    },
    "id": "Mlps2KPQZze8",
    "outputId": "bc5553b4-2150-4d23-8a8f-31c089807632"
   },
   "outputs": [
    {
     "data": {
      "text/plain": [
       "<matplotlib.legend.Legend at 0x7f3c769b6908>"
      ]
     },
     "execution_count": 17,
     "metadata": {
      "tags": []
     },
     "output_type": "execute_result"
    },
    {
     "data": {
      "image/png": "[encoded data removed]",
      "text/plain": [
       "<Figure size 432x288 with 1 Axes>"
      ]
     },
     "metadata": {
      "tags": []
     },
     "output_type": "display_data"
    }
   ],
   "source": [
    "plt.plot(ndarts, sIg, 'o-', label='IS')\n",
    "plt.plot(ndarts, sIu, 'o-', label='uniform')\n",
    "plt.plot(ndarts, sIp, 'o-', label='IS-poor')\n",
    "\n",
    "plt.xlabel('n')\n",
    "plt.xlabel(r'$\\sigma_I$')\n",
    "\n",
    "\n",
    "plt.xscale('log')\n",
    "plt.yscale('log')\n",
    "\n",
    "plt.legend(loc='lower left')"
   ]
  },
  {
   "cell_type": "code",
   "execution_count": null,
   "metadata": {
    "id": "ECcYKev66Btv"
   },
   "outputs": [],
   "source": []
  }
 ],
 "metadata": {
  "colab": {
   "collapsed_sections": [],
   "provenance": []
  },
  "kernelspec": {
   "display_name": "Python 3 (ipykernel)",
   "language": "python",
   "name": "python3"
  },
  "language_info": {
   "codemirror_mode": {
    "name": "ipython",
    "version": 3
   },
   "file_extension": ".py",
   "mimetype": "text/x-python",
   "name": "python",
   "nbconvert_exporter": "python",
   "pygments_lexer": "ipython3",
   "version": "3.9.10"
  }
 },
 "nbformat": 4,
 "nbformat_minor": 1
}
