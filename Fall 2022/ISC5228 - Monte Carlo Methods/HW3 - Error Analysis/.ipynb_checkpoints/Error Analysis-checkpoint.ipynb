{
 "cells": [
  {
   "cell_type": "code",
   "execution_count": 1,
   "id": "bf3f6104",
   "metadata": {},
   "outputs": [],
   "source": [
    "import numpy as np\n",
    "import matplotlib.pyplot as plt\n",
    "import sympy as sy\n",
    "from IPython.display import Math, display\n",
    "\n",
    "plt.rcParams['figure.figsize'] = (12,7)"
   ]
  },
  {
   "cell_type": "markdown",
   "id": "49d43195",
   "metadata": {},
   "source": [
    "## (i) Error Propagation"
   ]
  },
  {
   "cell_type": "markdown",
   "id": "3e3d46db",
   "metadata": {},
   "source": [
    "### (a) Suppose your first attempt is the simple mean $\\overline{z} = (z_1 + z_2)/2$. Find $\\overline{z}$ and the corresponding error $\\sigma_{\\overline{z}}$ using the standard propagation of error formula.\n",
    "$z_1 = 6 \\pm 2$  \n",
    "$z_2 = 4 \\pm 1$  \n",
    "$\\sigma_{\\overline{z}} = \\pm\\sqrt{\\sigma_{{z_1}}^2 + \\sigma_{{z_2}}^2} = \\pm\\sqrt{2^2 + 1^2} = \\pm\\sqrt{5}$  \n",
    "$\\overline{z} = 5 \\pm \\sqrt{5}$"
   ]
  },
  {
   "cell_type": "markdown",
   "id": "7d8b099e",
   "metadata": {},
   "source": [
    "### (b) Consider the weighted mean $\\overline{z}_w = wz_1 + (1-w)z_2$. Find the corresponding error $\\sigma_{\\overline{z}_w}$ using the standard propagation of error formula, as a function of $w$.  \n",
    "$\\sigma_{\\overline{z}_w}^2 = w^2\\sigma_{z_1}^2 + (1-w)^2\\sigma_{z_2}^2$  \n",
    "$\\sigma_{\\overline{z}_w} = \\pm\\sqrt{w^2\\sigma_{z_1}^2 + (1-w)^2\\sigma_{z_2}^2} = \\pm w\\sqrt{\\sigma_{z_1}^2 + (\\frac{1-w}{w})^2\\sigma_{z_2}^2}$"
   ]
  },
  {
   "cell_type": "markdown",
   "id": "23cd532a",
   "metadata": {},
   "source": [
    "### (c) Find the value of $w$ that minimizes the error $\\sigma_{\\overline{z}_w}$. For this example, show the weights $w_1 = w$ and $w_2 = (1-w)$ associated with $z_1$ and $z_2$ are inversely proportional to $\\sigma_{z_1}^2$ and $\\sigma_{z_2}^2$, respectively."
   ]
  },
  {
   "cell_type": "code",
   "execution_count": 2,
   "id": "26585115",
   "metadata": {},
   "outputs": [
    {
     "data": {
      "text/latex": [
       "$\\displaystyle \\frac{d\\sigma_{\\overline{z}_w}}{dw} = 0 = \\frac{1.0 \\sigma_{z_1}^{2} w + 0.5 \\sigma_{z_2}^{2} \\cdot \\left(2 w - 2\\right)}{\\left(\\sigma_{z_1}^{2} w^{2} + \\sigma_{z_2}^{2} \\left(1 - w\\right)^{2}\\right)^{0.5}}$"
      ],
      "text/plain": [
       "<IPython.core.display.Math object>"
      ]
     },
     "metadata": {},
     "output_type": "display_data"
    },
    {
     "name": "stdout",
     "output_type": "stream",
     "text": [
      "Now solve for w:\n"
     ]
    },
    {
     "data": {
      "text/latex": [
       "$\\displaystyle (\\sigma_{z_1}^2 + \\sigma_{z_2}^2)w - \\sigma_{z_2}^2 = 0 \\Rightarrow w = \\frac{\\sigma_{z_2}^2}{\\sigma_{z_1}^2 + \\sigma_{z_2}^2}$"
      ],
      "text/plain": [
       "<IPython.core.display.Math object>"
      ]
     },
     "metadata": {},
     "output_type": "display_data"
    },
    {
     "name": "stdout",
     "output_type": "stream",
     "text": [
      "Substitute w1 and w2 into initial derivative:\n"
     ]
    },
    {
     "data": {
      "text/latex": [
       "$\\displaystyle \\sigma_{z_1}^2 w_1 - \\sigma_{z_2}^2 w_2 = 0 \\Rightarrow \\frac{w_1}{\\sigma_{z_2}^2} = \\frac{w_2}{\\sigma_{z_1}^2}$"
      ],
      "text/plain": [
       "<IPython.core.display.Math object>"
      ]
     },
     "metadata": {},
     "output_type": "display_data"
    }
   ],
   "source": [
    "w, sigma_z1, sigma_z2 = sy.symbols('w \\\\sigma_{z_1} \\\\sigma_{z_2}')\n",
    "expr = (w**2 * sigma_z1**2 + (1 - w)**2 * sigma_z2**2)**0.5\n",
    "dz = sy.diff(expr, w)\n",
    "\n",
    "#need derivative for minimum value of w\n",
    "display(Math('\\\\frac{d\\\\sigma_{\\\\overline{z}_w}}{dw} = 0 = ' +  sy.latex(dz)))\n",
    "print(\"Now solve for w:\")\n",
    "display(Math('(\\\\sigma_{z_1}^2 + \\\\sigma_{z_2}^2)w - \\\\sigma_{z_2}^2 = 0 \\\\Rightarrow w = \\\\frac{\\\\sigma_{z_2}^2}{\\\\sigma_{z_1}^2 + \\\\sigma_{z_2}^2}'))\n",
    "\n",
    "#substitute given values for w1, w2\n",
    "print(\"Substitute w1 and w2 into initial derivative:\")\n",
    "display(Math('\\\\sigma_{z_1}^2 w_1 - \\\\sigma_{z_2}^2 w_2 = 0 \\\\Rightarrow \\\\frac{w_1}{\\\\sigma_{z_2}^2} = \\\\frac{w_2}{\\\\sigma_{z_1}^2}'))"
   ]
  },
  {
   "cell_type": "markdown",
   "id": "b0aa383a",
   "metadata": {},
   "source": [
    "### (d) What is the corresponding $\\overline{z}_w$ and $\\sigma_{\\overline{z}_w}$?"
   ]
  },
  {
   "cell_type": "code",
   "execution_count": 3,
   "id": "fea5de3b",
   "metadata": {},
   "outputs": [
    {
     "data": {
      "text/latex": [
       "$\\displaystyle \\overline{z}_w = \\frac{\\sigma_{z_2}^2}{\\sigma_{z_1}^2 + \\sigma_{z_2}^2}z_1 + \\frac{\\sigma_{z_1}^2}{\\sigma_{z_1}^2 + \\sigma_{z_2}^2}z_2$"
      ],
      "text/plain": [
       "<IPython.core.display.Math object>"
      ]
     },
     "metadata": {},
     "output_type": "display_data"
    },
    {
     "data": {
      "text/latex": [
       "$\\displaystyle \\sigma_{\\overline{z}_w} = \\pm\\sqrt{\\left(\\frac{\\sigma_{z_2}^2}{\\sigma_{z_1}^2 + \\sigma_{z_2}^2}\\right)^2 \\sigma_{z_1}^2 + \\left(\\frac{\\sigma_{z_1}^2}{\\sigma_{z_1}^2 + \\sigma_{z_2}^2}\\right)^2 \\sigma_{z_2}^2 } =              \\pm \\sqrt{\\frac{\\sigma_{z_1}^2\\sigma_{z_2}^2(\\sigma_{z_1}^2 + \\sigma_{z_2}^2)}{(\\sigma_{z_1}^2 + \\sigma_{z_2}^2)^2}} =              \\pm \\frac{\\sigma_{z_1}\\sigma_{z_2}}{\\sqrt{\\sigma_{z_1}^2 + \\sigma_{z_2}^2}}$"
      ],
      "text/plain": [
       "<IPython.core.display.Math object>"
      ]
     },
     "metadata": {},
     "output_type": "display_data"
    }
   ],
   "source": [
    "display(Math('\\\\overline{z}_w = \\\\frac{\\\\sigma_{z_2}^2}{\\\\sigma_{z_1}^2 + \\\\sigma_{z_2}^2}z_1 + \\\\frac{\\\\sigma_{z_1}^2}{\\\\sigma_{z_1}^2 + \\\\sigma_{z_2}^2}z_2'))\n",
    "\n",
    "display(Math('\\\\sigma_{\\\\overline{z}_w} = \\\\pm\\\\sqrt{\\\\left(\\\\frac{\\\\sigma_{z_2}^2}{\\\\sigma_{z_1}^2 + \\\\sigma_{z_2}^2}\\\\right)^2 \\\\sigma_{z_1}^2 + \\\\left(\\\\frac{\\\\sigma_{z_1}^2}{\\\\sigma_{z_1}^2 + \\\\sigma_{z_2}^2}\\\\right)^2 \\\\sigma_{z_2}^2 } = \\\n",
    "             \\\\pm \\\\sqrt{\\\\frac{\\\\sigma_{z_1}^2\\\\sigma_{z_2}^2(\\\\sigma_{z_1}^2 + \\\\sigma_{z_2}^2)}{(\\\\sigma_{z_1}^2 + \\\\sigma_{z_2}^2)^2}} = \\\n",
    "             \\\\pm \\\\frac{\\\\sigma_{z_1}\\\\sigma_{z_2}}{\\\\sqrt{\\\\sigma_{z_1}^2 + \\\\sigma_{z_2}^2}}'))"
   ]
  },
  {
   "cell_type": "markdown",
   "id": "85154940",
   "metadata": {},
   "source": [
    "## (ii) Importance Sampling:"
   ]
  },
  {
   "cell_type": "markdown",
   "id": "2f2ed885",
   "metadata": {},
   "source": [
    "### (a) Develop an expression and program to sample from the exponential distribution, $\\pi(x) = e^{-x}, x \\geq 0$"
   ]
  },
  {
   "cell_type": "code",
   "execution_count": 4,
   "id": "892fe656",
   "metadata": {},
   "outputs": [],
   "source": [
    "def sampleFromExpDist(npts, isPlot = False):\n",
    "    x = np.random.exponential(1, size=npts) #beta = 1\n",
    "    if isPlot:\n",
    "        plt.figure(figsize=(7, 4))\n",
    "        plt.hist(x, 20, density=True)\n",
    "        plt.xlabel('x')\n",
    "    return x"
   ]
  },
  {
   "cell_type": "markdown",
   "id": "29f1e866",
   "metadata": {},
   "source": [
    "### (b) Use importance sampling with $10^3$ points to sample from $\\pi(x)$, and estimate the integral."
   ]
  },
  {
   "cell_type": "code",
   "execution_count": 5,
   "id": "c611e9e4",
   "metadata": {
    "scrolled": true
   },
   "outputs": [
    {
     "data": {
      "text/latex": [
       "$\\displaystyle I \\approx 0.898672326291434\\text{, with estimated error } \\sigma_{I} = 0.0152163938835387$"
      ],
      "text/plain": [
       "<IPython.core.display.Math object>"
      ]
     },
     "metadata": {},
     "output_type": "display_data"
    },
    {
     "data": {
      "text/latex": [
       "$\\displaystyle I = 0.886226925452758$"
      ],
      "text/plain": [
       "<IPython.core.display.Math object>"
      ]
     },
     "metadata": {},
     "output_type": "display_data"
    },
    {
     "data": {
      "image/png": "[encoded data removed]",
      "text/plain": [
       "<Figure size 504x288 with 1 Axes>"
      ]
     },
     "metadata": {
      "needs_background": "light"
     },
     "output_type": "display_data"
    }
   ],
   "source": [
    "points = 10**3\n",
    "sampledPts = sampleFromExpDist(points, isPlot = True)\n",
    "\n",
    "def importanceSampling1(npts, x):\n",
    "    #x = sampleFromExpDist(npts)\n",
    "    f = x**0.5 * np.exp(-x)\n",
    "    p = np.exp(-x)\n",
    "    \n",
    "    #integral = expected value of f/pi\n",
    "    intg = np.mean(f / p)\n",
    "    \n",
    "    #error is sigma_(f/pi) / sqrt(npts)\n",
    "    stdI = np.std(f / p)/np.sqrt(npts)\n",
    "    return intg, stdI\n",
    "\n",
    "estInt, estErr = importanceSampling1(points, sampledPts)\n",
    "display(Math('I \\\\approx ' + sy.latex(estInt) + '\\\\text{, with estimated error } \\\\sigma_{I} = ' + sy.latex(estErr)))\n",
    "\n",
    "'''\n",
    "Other way I found to do problem\n",
    "#define our given functions\n",
    "f = lambda x: x**0.5\n",
    "p = lambda x: np.exp(-x)\n",
    "g = lambda x: f(x) * p(x)\n",
    "\n",
    "#estimate the integral by taking the mean of f(Xj), where Xj drawn from pi(x)\n",
    "fbar = np.mean(f(sampledPts))\n",
    "display(Math('\\\\overline{f} = ' + str(fbar)))\n",
    "\n",
    "err = np.std(g(sampledPts) / p(sampledPts)) / np.sqrt(points)\n",
    "'''\n",
    "\n",
    "\n",
    "#actual value of integral\n",
    "x = sy.symbols('x')\n",
    "I1 = sy.integrate(x**0.5 * sy.exp(-x), (x, 0, sy.oo))\n",
    "display(Math('I = ' + str(I1)))"
   ]
  },
  {
   "cell_type": "markdown",
   "id": "6695ef89",
   "metadata": {},
   "source": [
    "The formula used to sample from the exponential distribution was from numpy's exponential distribution function in its *random* library with $\\beta = 1$. Then, I took the mean of the sum of values $\\frac{f(X_i)}{\\pi(X_i)}$ in order to estimate the integral, $I$. "
   ]
  },
  {
   "cell_type": "markdown",
   "id": "d1131ff0",
   "metadata": {},
   "source": [
    "## (iii) Transformation Method"
   ]
  },
  {
   "cell_type": "markdown",
   "id": "90745745",
   "metadata": {},
   "source": [
    "### (a) Normalize $\\pi(x)$ so that $\\int_{0}^{\\pi} \\pi(x) dx = 1$"
   ]
  },
  {
   "cell_type": "code",
   "execution_count": 6,
   "id": "92ff6057",
   "metadata": {},
   "outputs": [
    {
     "data": {
      "text/latex": [
       "$\\displaystyle \\frac{A \\left(1 - e^{- \\pi a}\\right)}{a}$"
      ],
      "text/plain": [
       "<IPython.core.display.Math object>"
      ]
     },
     "metadata": {},
     "output_type": "display_data"
    },
    {
     "data": {
      "text/latex": [
       "$\\displaystyle A = \\frac{a e^{\\pi a}}{e^{\\pi a} - 1}$"
      ],
      "text/plain": [
       "<IPython.core.display.Math object>"
      ]
     },
     "metadata": {},
     "output_type": "display_data"
    }
   ],
   "source": [
    "A = sy.symbols('A')\n",
    "a = sy.symbols('a', positive = True)\n",
    "expDist = sy.exp(-a*x)\n",
    "#integrate with normalization constant\n",
    "expInt = sy.integrate(A * expDist, (x, 0, sy.pi))\n",
    "#display evaluated definite integral\n",
    "display(Math(sy.latex(sy.collect(sy.collect(expInt, a), A))))\n",
    "\n",
    "#solve equation\n",
    "normEq = sy.Eq(expInt, 1)\n",
    "normConst = sy.solve(normEq, A, check = False)[0]\n",
    "display(Math('A = ' + sy.latex(normConst))) #normalization constant"
   ]
  },
  {
   "cell_type": "markdown",
   "id": "d7ddf0fa",
   "metadata": {},
   "source": [
    "### (b) Use the transformation method to sample from $\\pi(x)$."
   ]
  },
  {
   "cell_type": "code",
   "execution_count": 7,
   "id": "0f97628d",
   "metadata": {
    "scrolled": true
   },
   "outputs": [
    {
     "data": {
      "text/latex": [
       "$\\displaystyle F(x) = \\int_{0}^x \\frac{a}{1-e^{-\\pi a}} e^{-ax'}dx' = \\frac{e^{\\pi a} - e^{a \\left(\\pi - x\\right)}}{e^{\\pi a} - 1}$"
      ],
      "text/plain": [
       "<IPython.core.display.Math object>"
      ]
     },
     "metadata": {},
     "output_type": "display_data"
    },
    {
     "data": {
      "text/latex": [
       "$\\displaystyle \\left[ \\pi + \\frac{\\log{\\left(\\frac{1}{- u e^{\\pi a} + u + e^{\\pi a}} \\right)}}{a}\\right]$"
      ],
      "text/plain": [
       "<IPython.core.display.Math object>"
      ]
     },
     "metadata": {},
     "output_type": "display_data"
    }
   ],
   "source": [
    "#get the CDF of pi(x)\n",
    "F = sy.integrate(normConst * expDist, (x, 0, x))\n",
    "display(Math(\"F(x) = \\\\int_{0}^x \\\\frac{a}{1-e^{-\\\\pi a}} e^{-ax'}dx' = \" + sy.latex(sy.together(sy.powsimp(F)))))\n",
    "\n",
    "u = sy.symbols('u')\n",
    "expr = u - F\n",
    "display(Math(sy.latex(sy.solve(expr, x))))"
   ]
  },
  {
   "cell_type": "code",
   "execution_count": 8,
   "id": "6ac03671",
   "metadata": {},
   "outputs": [],
   "source": [
    "def drawLinearDist(npts, a):\n",
    "    u = np.random.rand(npts)\n",
    "    return np.pi - np.log(u + (np.exp(np.pi * a) * (1 - u))) / a"
   ]
  },
  {
   "cell_type": "code",
   "execution_count": 9,
   "id": "a46df43a",
   "metadata": {},
   "outputs": [
    {
     "data": {
      "image/png": "[encoded data removed]",
      "text/plain": [
       "<Figure size 864x504 with 1 Axes>"
      ]
     },
     "metadata": {
      "needs_background": "light"
     },
     "output_type": "display_data"
    }
   ],
   "source": [
    "#test formula for a = 1\n",
    "x = drawLinearDist(10000, a = 1)\n",
    "_ = plt.hist(x, 20, density = True)"
   ]
  },
  {
   "cell_type": "markdown",
   "id": "acea4ad8",
   "metadata": {},
   "source": [
    "### (c) With $n = 10^5$, vary $a$ between 0.05 and 2.0 and make a plot of $\\sigma_I(a)$. From the plot, estimate the value of $a$ which minimizes $\\sigma_I(a)$."
   ]
  },
  {
   "cell_type": "code",
   "execution_count": 10,
   "id": "a3b9eee4",
   "metadata": {},
   "outputs": [],
   "source": [
    "def importanceSampling2(npts, a):\n",
    "    \"\"\"draw points from linear distribution\"\"\"\n",
    "    x  = drawLinearDist(npts, a)\n",
    "    f  = 1./(x**2 + np.cos(x)**2)\n",
    "    p  = (a / (1 - np.exp(-np.pi * a))) * np.exp(-a * x)   #pi(x)\n",
    "    intg = np.mean(f/p)\n",
    "    stdI = np.std((f/p))/np.sqrt(npts) # error\n",
    "\n",
    "    return intg, stdI"
   ]
  },
  {
   "cell_type": "code",
   "execution_count": 11,
   "id": "468aa286",
   "metadata": {},
   "outputs": [],
   "source": [
    "mcPts = 10**5\n",
    "a = np.linspace(0.05, 2.0, 100)\n",
    "N = len(a)\n",
    "Ig = np.zeros(N); sIg = np.zeros(N)\n",
    "\n",
    "for i, v in enumerate(a):\n",
    "    Ig[i], sIg[i] = importanceSampling2(mcPts, v)"
   ]
  },
  {
   "cell_type": "code",
   "execution_count": 12,
   "id": "d7a86724",
   "metadata": {},
   "outputs": [
    {
     "data": {
      "image/png": "[encoded data removed]",
      "text/plain": [
       "<Figure size 864x504 with 1 Axes>"
      ]
     },
     "metadata": {
      "needs_background": "light"
     },
     "output_type": "display_data"
    }
   ],
   "source": [
    "plt.plot(a, sIg, 'o-')\n",
    "\n",
    "plt.xlabel('a')\n",
    "plt.ylabel(r'$\\sigma_I(a)$')\n",
    "\n",
    "plt.show()"
   ]
  },
  {
   "cell_type": "code",
   "execution_count": 13,
   "id": "61c12c06",
   "metadata": {},
   "outputs": [
    {
     "name": "stdout",
     "output_type": "stream",
     "text": [
      "The error is minimized at a = 0.82\n"
     ]
    }
   ],
   "source": [
    "print(\"The error is minimized at a =\", np.round(a[np.argmin(sIg)], 2))"
   ]
  }
 ],
 "metadata": {
  "kernelspec": {
   "display_name": "Python 3 (ipykernel)",
   "language": "python",
   "name": "python3"
  },
  "language_info": {
   "codemirror_mode": {
    "name": "ipython",
    "version": 3
   },
   "file_extension": ".py",
   "mimetype": "text/x-python",
   "name": "python",
   "nbconvert_exporter": "python",
   "pygments_lexer": "ipython3",
   "version": "3.9.10"
  },
  "toc": {
   "base_numbering": "1",
   "nav_menu": {},
   "number_sections": false,
   "sideBar": true,
   "skip_h1_title": false,
   "title_cell": "Table of Contents",
   "title_sidebar": "Contents",
   "toc_cell": false,
   "toc_position": {
    "height": "calc(100% - 180px)",
    "left": "10px",
    "top": "150px",
    "width": "384px"
   },
   "toc_section_display": true,
   "toc_window_display": true
  }
 },
 "nbformat": 4,
 "nbformat_minor": 5
}
