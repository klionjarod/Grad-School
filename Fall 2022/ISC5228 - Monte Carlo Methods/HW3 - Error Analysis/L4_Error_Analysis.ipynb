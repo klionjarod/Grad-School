{
 "cells": [
  {
   "cell_type": "code",
   "execution_count": 1,
   "metadata": {
    "id": "Fdn6MwMc4Nj0"
   },
   "outputs": [],
   "source": [
    "# preliminaries\n",
    "import numpy as np\n",
    "import matplotlib.pyplot as plt\n",
    "import matplotlib as mpl\n",
    "%matplotlib inline"
   ]
  },
  {
   "cell_type": "markdown",
   "metadata": {
    "id": "u2_YNWGp98nK"
   },
   "source": [
    "# Central Limit Theorem\n",
    "\n",
    "The average of $n$ iid variables $x$,\n",
    "\n",
    "$$z = \\frac{x_1 + x_2 + ... + x_n}{n}.$$\n",
    "\n",
    "CLT states that for large $n$,\n",
    "\n",
    "$$\\pi(z) = \\mathcal{N}(\\langle x \\rangle, \\sigma_x^2/n)$$\n"
   ]
  },
  {
   "cell_type": "markdown",
   "metadata": {
    "id": "vT9I4Jm5dEe7"
   },
   "source": [
    "## Dice Example\n",
    "\n",
    "Let us consider the average of $n$ rolls of dice. What is the $E[x]$ and variance of a single roll of a die?"
   ]
  },
  {
   "cell_type": "code",
   "execution_count": 2,
   "metadata": {
    "id": "g9jRp1-i-Ept"
   },
   "outputs": [],
   "source": [
    "def avgDiceRoll(nDice):\n",
    "    \"\"\"nDice = n in the description above\"\"\"\n",
    "    \n",
    "    nSamples = 50000 # num of indep experiments\n",
    "    z = np.zeros((nSamples))\n",
    "    \n",
    "    for i in range(nSamples):\n",
    "        z[i] = np.mean(np.random.randint(1,7,nDice))\n",
    "    \n",
    "    # histogram\n",
    "    n, bins, patches = plt.hist(z, 20, density=True)\n",
    "    plt.xlim(1,6)\n",
    "    plt.title('nDice = {0:d}'.format(nDice))\n",
    "    print(np.std(z))"
   ]
  },
  {
   "cell_type": "code",
   "execution_count": 3,
   "metadata": {
    "colab": {
     "base_uri": "https://localhost:8080/",
     "height": 298
    },
    "id": "cw11J9m6DdPt",
    "outputId": "686758cd-fdb1-4091-8ddc-6586263066d9"
   },
   "outputs": [
    {
     "name": "stdout",
     "output_type": "stream",
     "text": [
      "0.42785286613617246\n"
     ]
    },
    {
     "data": {
      "image/png": "[encoded data removed]",
      "text/plain": [
       "<Figure size 432x288 with 1 Axes>"
      ]
     },
     "metadata": {
      "needs_background": "light"
     },
     "output_type": "display_data"
    }
   ],
   "source": [
    "avgDiceRoll(16)"
   ]
  },
  {
   "cell_type": "markdown",
   "metadata": {
    "id": "Q3jzMSabALNj"
   },
   "source": [
    "## Exponential distribution\n",
    "\n",
    "We can do a similar exercise with $x \\sim \\pi(x)$ drawn from an exponential distribution.\n",
    "\n",
    "$$\\pi(x) = \\lambda e^{-\\lambda x}, \\quad x > 0.$$\n",
    "\n",
    "Recall that $\\langle x \\rangle = 1/\\lambda$, and $\\sigma_x^2 = 1/\\lambda^2$.\n",
    "\n",
    "We already wrote a method to sample from the exponential distribution using the tranformation method.\n",
    "\n",
    "We can now use it to compute the average of $n$ such samples, and plot histograms as before."
   ]
  },
  {
   "cell_type": "code",
   "execution_count": 4,
   "metadata": {
    "id": "udhKbUew-FLI"
   },
   "outputs": [],
   "source": [
    "def myExponentialSampler(lam, num):\n",
    "    u = np.random.random((num,1))\n",
    "    x = -np.log(1-u)/lam\n",
    "    return x"
   ]
  },
  {
   "cell_type": "code",
   "execution_count": 5,
   "metadata": {
    "id": "xEkuP6ClA9_B"
   },
   "outputs": [],
   "source": [
    "def avgExpSample(n):\n",
    "    \"\"\"n is the number of exponential samples in the average\"\"\"\n",
    "    \n",
    "    lam      = 1.\n",
    "    nSamples = 50000 # num of indep experiments\n",
    "    \n",
    "    z = np.zeros((nSamples))\n",
    "    \n",
    "    for i in range(nSamples):\n",
    "        x    = myExponentialSampler(lam, n)\n",
    "        z[i] = np.mean(x)\n",
    "    \n",
    "    # histogram\n",
    "    _ = plt.hist(z, 21, density=True)\n",
    "#    plt.xlim(1,6)\n",
    "    plt.title('n = {0:d}'.format(n))\n"
   ]
  },
  {
   "cell_type": "code",
   "execution_count": 6,
   "metadata": {
    "colab": {
     "base_uri": "https://localhost:8080/",
     "height": 281
    },
    "id": "noOBaaAgBfv_",
    "outputId": "d96edaae-22fd-441c-be69-08e56beffaea"
   },
   "outputs": [
    {
     "data": {
      "image/png": "[encoded data removed]",
      "text/plain": [
       "<Figure size 432x288 with 1 Axes>"
      ]
     },
     "metadata": {
      "needs_background": "light"
     },
     "output_type": "display_data"
    }
   ],
   "source": [
    "# one die\n",
    "avgExpSample(50) "
   ]
  },
  {
   "cell_type": "markdown",
   "metadata": {
    "id": "TzA4NriDigtJ"
   },
   "source": [
    "# Error in Direct MC\n",
    "\n",
    "In Monte Carlo integration,\n",
    "$$I = \\int_{a}^{b} f(x)\\, dx \\approx (b-a) \\bar{f}.$$\n",
    "\n",
    "The error estimate is provided by the variance of $I$,\n",
    "$$\\sigma_I^2 = (b-a)^2 \\dfrac{\\sigma_I^2}{n}.$$\n",
    "\n"
   ]
  },
  {
   "cell_type": "code",
   "execution_count": 7,
   "metadata": {
    "id": "ZC69RoZRi-5z"
   },
   "outputs": [],
   "source": [
    "def simpleIntegral(npts):\n",
    "  xi   = np.random.uniform(0, np.pi, npts)\n",
    "  fi   = xi * np.sin(xi)\n",
    "#  fi   = 2*xi\n",
    "  \n",
    "  intg = np.pi * np.mean(fi)\n",
    "  stdInt = np.pi/np.sqrt(npts) * np.std(fi)\n",
    "  \n",
    "  \n",
    "  _ = plt.hist(fi, 20, density=True)\n",
    "  \n",
    "  return intg, stdInt"
   ]
  },
  {
   "cell_type": "code",
   "execution_count": 8,
   "metadata": {
    "colab": {
     "base_uri": "https://localhost:8080/",
     "height": 282
    },
    "id": "cucHTxDLjJS8",
    "outputId": "ad269ba4-6c34-4ede-9f2e-7ff2ebfa4890"
   },
   "outputs": [
    {
     "data": {
      "text/plain": [
       "(3.0612718015614844, 0.0632174433504818)"
      ]
     },
     "execution_count": 8,
     "metadata": {},
     "output_type": "execute_result"
    },
    {
     "data": {
      "image/png": "[encoded data removed]",
      "text/plain": [
       "<Figure size 432x288 with 1 Axes>"
      ]
     },
     "metadata": {
      "needs_background": "light"
     },
     "output_type": "display_data"
    }
   ],
   "source": [
    "simpleIntegral(1000)"
   ]
  },
  {
   "cell_type": "code",
   "execution_count": null,
   "metadata": {
    "id": "vVrDc-EJjNsU"
   },
   "outputs": [],
   "source": []
  }
 ],
 "metadata": {
  "colab": {
   "collapsed_sections": [
    "TzA4NriDigtJ"
   ],
   "provenance": []
  },
  "kernelspec": {
   "display_name": "Python 3 (ipykernel)",
   "language": "python",
   "name": "python3"
  },
  "language_info": {
   "codemirror_mode": {
    "name": "ipython",
    "version": 3
   },
   "file_extension": ".py",
   "mimetype": "text/x-python",
   "name": "python",
   "nbconvert_exporter": "python",
   "pygments_lexer": "ipython3",
   "version": "3.9.10"
  }
 },
 "nbformat": 4,
 "nbformat_minor": 1
}
