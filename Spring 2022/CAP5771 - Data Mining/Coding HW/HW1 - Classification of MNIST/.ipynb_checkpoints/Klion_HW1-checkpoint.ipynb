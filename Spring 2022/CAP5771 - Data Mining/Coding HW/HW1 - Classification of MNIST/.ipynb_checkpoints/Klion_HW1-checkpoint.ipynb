{
 "cells": [
  {
   "cell_type": "markdown",
   "id": "af3c81d9",
   "metadata": {},
   "source": [
    "# Problem 1 {-}"
   ]
  },
  {
   "cell_type": "code",
   "execution_count": 1,
   "id": "55c08380",
   "metadata": {},
   "outputs": [],
   "source": [
    "import mnist_assignment_starter as mas\n",
    "import numpy as np\n",
    "from sklearn.tree import DecisionTreeClassifier\n",
    "from sklearn.model_selection import ShuffleSplit, cross_validate, KFold\n",
    "from sklearn.svm import SVC"
   ]
  },
  {
   "cell_type": "markdown",
   "id": "4e93fd8f",
   "metadata": {},
   "source": [
    "## Problem 1.A {-}"
   ]
  },
  {
   "cell_type": "code",
   "execution_count": 136,
   "id": "a05ebc66",
   "metadata": {},
   "outputs": [
    {
     "name": "stdout",
     "output_type": "stream",
     "text": [
      "running cross validation...\n",
      "mean_fit_time: 1.1435162544250488, std_fit_time: 0.0643828178045959\n",
      "mean_score_time: 0.003731441497802734, std_score_time: 0.00038991255792416907\n",
      "mean_test_score: 0.9701984275050177, std_test_score: 0.004595986235463537\n"
     ]
    }
   ],
   "source": [
    "%run mnist_assignment_starter.py"
   ]
  },
  {
   "cell_type": "markdown",
   "id": "0c6dc975",
   "metadata": {},
   "source": [
    "## Problem 1.B {-}"
   ]
  },
  {
   "cell_type": "code",
   "execution_count": 2,
   "id": "3fdc5adf",
   "metadata": {},
   "outputs": [],
   "source": [
    "#Load in the MNIST dataset\n",
    "Xtrain, ytrain, Xtest, ytest = mas.prepare_data()"
   ]
  },
  {
   "cell_type": "code",
   "execution_count": 3,
   "id": "f6a1bcbc",
   "metadata": {},
   "outputs": [],
   "source": [
    "#Turn the data into data matrix X consisting of only 7s and 9s\n",
    "Xtrain, ytrain = mas.filter_out_7_9s(Xtrain, ytrain)\n",
    "Xtest, ytest = mas.filter_out_7_9s(Xtest, ytest)"
   ]
  },
  {
   "cell_type": "code",
   "execution_count": 4,
   "id": "5b428846",
   "metadata": {},
   "outputs": [
    {
     "name": "stdout",
     "output_type": "stream",
     "text": [
      "Data type of X: float64\n",
      "Is X scaled properly? True\n",
      "Data type of y: int32\n"
     ]
    }
   ],
   "source": [
    "#check that the data in the X matrix is all float values and scaled between 0 and 1\n",
    "print(\"Data type of X:\", np.array(list(Xtrain)).dtype)\n",
    "print(\"Is X scaled properly?\", np.any(Xtrain <= 1.0) | np.any(Xtrain >= 0.0))\n",
    "#check that the labels are integers\n",
    "print(\"Data type of y:\", np.array(list(ytrain)).dtype)"
   ]
  },
  {
   "cell_type": "code",
   "execution_count": 5,
   "id": "1f23cd17",
   "metadata": {},
   "outputs": [
    {
     "name": "stdout",
     "output_type": "stream",
     "text": [
      "Filtered X length: 12214\n",
      "Filtered y length: 12214\n",
      "Max X training set value: 1.0\n",
      "Max X test set value: 1.0\n"
     ]
    }
   ],
   "source": [
    "#Print out the length of the filtered X and y, alongside the max value of X train and X test\n",
    "print(\"Filtered X length:\",len(Xtrain))\n",
    "print(\"Filtered y length:\",len(ytrain))\n",
    "print(\"Max X training set value:\", np.max(Xtrain))\n",
    "print(\"Max X test set value:\", np.max(Xtest))"
   ]
  },
  {
   "cell_type": "markdown",
   "id": "5ded7889",
   "metadata": {},
   "source": [
    "## Problem 1.C {-}"
   ]
  },
  {
   "cell_type": "code",
   "execution_count": 6,
   "id": "37d4dcf7",
   "metadata": {},
   "outputs": [
    {
     "name": "stdout",
     "output_type": "stream",
     "text": [
      "mean_fit_time: 1.121250057220459, std_fit_time: 0.08970371877961576\n",
      "mean_score_time: 0.0034010887145996095, std_score_time: 0.0004906216982818948\n",
      "mean_test_score: 0.9724907916884993, std_test_score: 0.004380016726586037\n"
     ]
    }
   ],
   "source": [
    "#Train a classifier using 5-fold cross validation and Decision Tree classifier\n",
    "part1_C = mas.train_simple_classifier_with_cv(Xtrain, ytrain, DecisionTreeClassifier())\n",
    "#Print mean and std for accuracy scores and fit time\n",
    "mas.print_cv_result_dict(part1_C)"
   ]
  },
  {
   "cell_type": "markdown",
   "id": "4473b680",
   "metadata": {},
   "source": [
    "## Problem 1.D {-}"
   ]
  },
  {
   "cell_type": "code",
   "execution_count": 7,
   "id": "1c2a8a8b",
   "metadata": {},
   "outputs": [
    {
     "name": "stdout",
     "output_type": "stream",
     "text": [
      "mean_fit_time: 1.2808958530426025, std_fit_time: 0.05155713708237914\n",
      "mean_score_time: 0.001999235153198242, std_score_time: 1.1243654367972943e-06\n",
      "mean_test_score: 0.9749590834697217, std_test_score: 0.002567002805459594\n"
     ]
    }
   ],
   "source": [
    "#Repeat above steps with a random permuation cross-validator instead\n",
    "D_clf = DecisionTreeClassifier(random_state = 42)\n",
    "D_cv = ShuffleSplit(n_splits = 5, random_state = 42)\n",
    "D_scores = cross_validate(D_clf, Xtrain, ytrain, cv=D_cv)\n",
    "#Print mean and std for accuracy scores and fit time\n",
    "mas.print_cv_result_dict(D_scores)"
   ]
  },
  {
   "cell_type": "markdown",
   "id": "864b598c",
   "metadata": {},
   "source": [
    "## Problem 1.E {-}"
   ]
  },
  {
   "cell_type": "code",
   "execution_count": 138,
   "id": "68ec8399",
   "metadata": {},
   "outputs": [
    {
     "name": "stdout",
     "output_type": "stream",
     "text": [
      "K-value = 2\n",
      "mean test score of 0.97709 with a standard deviation of 0.00164\n",
      "\n",
      "K-value = 5\n",
      "mean test score of 0.97496 with a standard deviation of 0.00257\n",
      "\n",
      "K-value = 8\n",
      "mean test score of 0.97504 with a standard deviation of 0.00256\n",
      "\n",
      "K-value = 16\n",
      "mean test score of 0.97381 with a standard deviation of 0.00386\n",
      "\n"
     ]
    }
   ],
   "source": [
    "#Repeat above for different k's\n",
    "ks = [2, 5, 8, 16]\n",
    "for k in ks:\n",
    "    E_clf = DecisionTreeClassifier(random_state = 42)\n",
    "    E_cv = ShuffleSplit(n_splits = k, random_state = 42)\n",
    "    E_scores = cross_validate(E_clf, Xtrain, ytrain, cv=E_cv)\n",
    "    print(\"K-value =\", k)\n",
    "    print(f\"mean test score of {E_scores['test_score'].mean():.5f} with a standard deviation of {E_scores['test_score'].std():.5f}\")\n",
    "    print(\"\")"
   ]
  },
  {
   "cell_type": "markdown",
   "id": "21af4821",
   "metadata": {},
   "source": [
    "The mean scores decrease slightly while the standard deviations grow as the k-values increase."
   ]
  },
  {
   "cell_type": "markdown",
   "id": "b77fa5bf",
   "metadata": {},
   "source": [
    "## Problem 1.F {-}"
   ]
  },
  {
   "cell_type": "code",
   "execution_count": 9,
   "id": "f93258b5",
   "metadata": {},
   "outputs": [
    {
     "name": "stdout",
     "output_type": "stream",
     "text": [
      "mean_fit_time: 4.609664821624756, std_fit_time: 0.05118174637890939\n",
      "mean_score_time: 0.43544759750366213, std_score_time: 0.0025660665598265606\n",
      "mean_test_score: 0.9898527004909983, std_test_score: 0.003173603834642464\n"
     ]
    }
   ],
   "source": [
    "#Train a Support Vector Machine classifier with random permuation cross-validator \n",
    "F_clf = SVC(random_state = 42)\n",
    "F_cv = ShuffleSplit(n_splits = 5, random_state = 42)\n",
    "F_scores = cross_validate(F_clf, Xtrain, ytrain, cv = F_cv)\n",
    "#Print mean and std for accuracy scores and fit time\n",
    "mas.print_cv_result_dict(F_scores)"
   ]
  },
  {
   "cell_type": "markdown",
   "id": "2daa91c7",
   "metadata": {},
   "source": [
    "The Support Vector Machine has a higher accuracy on average, but the Decision Tree has lower average variance and trains faster."
   ]
  },
  {
   "cell_type": "markdown",
   "id": "4141e9e1",
   "metadata": {},
   "source": [
    "## Problem 1.G {-}"
   ]
  },
  {
   "cell_type": "code",
   "execution_count": 10,
   "id": "edab0216",
   "metadata": {},
   "outputs": [
    {
     "name": "stdout",
     "output_type": "stream",
     "text": [
      "mean_fit_time: 4.026003837585449, std_fit_time: 0.07331781100582246\n",
      "mean_score_time: 0.364882230758667, std_score_time: 0.0073880936216813055\n",
      "mean_test_score: 0.9931260229132569, std_test_score: 0.0032569146877467095\n"
     ]
    }
   ],
   "source": [
    "#Modify hyperparameters to get better mean accuracy\n",
    "G_clf = SVC(C = 5.0, random_state = 42)\n",
    "G_cv = ShuffleSplit(n_splits = 5, random_state = 42)\n",
    "G_scores = cross_validate(G_clf, Xtrain, ytrain, cv = G_cv)\n",
    "mas.print_cv_result_dict(G_scores)"
   ]
  },
  {
   "cell_type": "code",
   "execution_count": 139,
   "id": "c2ee23b4",
   "metadata": {},
   "outputs": [
    {
     "name": "stdout",
     "output_type": "stream",
     "text": [
      "Training accuracy: 0.9993450139184542\n",
      "Test accuracy: 0.993127147766323\n"
     ]
    }
   ],
   "source": [
    "#Train the classifier on all of the training data\n",
    "G_model = G_clf.fit(Xtrain, ytrain)\n",
    "print(\"Training accuracy:\", G_model.score(Xtrain, ytrain))\n",
    "print(\"Test accuracy:\", G_model.score(Xtest, ytest))"
   ]
  },
  {
   "cell_type": "markdown",
   "id": "6c1bcc62",
   "metadata": {},
   "source": [
    "Cross validation splits the whole data into n-splits and performs the validation on that, so the mean accuracy of the cross validation should be similar to the whole set's accuracy, which it is here."
   ]
  },
  {
   "cell_type": "markdown",
   "id": "1ca73ec9",
   "metadata": {},
   "source": [
    "# Problem 2 {-}"
   ]
  },
  {
   "cell_type": "code",
   "execution_count": 12,
   "id": "a88134aa",
   "metadata": {},
   "outputs": [],
   "source": [
    "from sklearn.neighbors import KNeighborsClassifier\n",
    "from sklearn.tree import ExtraTreeClassifier\n",
    "from sklearn.metrics import ConfusionMatrixDisplay, confusion_matrix\n",
    "import matplotlib.pyplot as plt"
   ]
  },
  {
   "cell_type": "markdown",
   "id": "9b442dd3",
   "metadata": {},
   "source": [
    "## Problem 2.A {-}"
   ]
  },
  {
   "cell_type": "code",
   "execution_count": 13,
   "id": "c407c5f2",
   "metadata": {},
   "outputs": [],
   "source": [
    "#Load in the MNIST dataset\n",
    "Xtrain2, ytrain2, Xtest2, ytest2 = mas.prepare_data()"
   ]
  },
  {
   "cell_type": "code",
   "execution_count": 14,
   "id": "5d1835df",
   "metadata": {},
   "outputs": [
    {
     "name": "stdout",
     "output_type": "stream",
     "text": [
      "[0 1 2 3 4 5 6 7 8 9]\n"
     ]
    }
   ],
   "source": [
    "#print out the number of unique elements in y\n",
    "print(np.unique(ytrain2))"
   ]
  },
  {
   "cell_type": "markdown",
   "id": "7fe7b0f1",
   "metadata": {},
   "source": [
    "## Problem 2.B {-}"
   ]
  },
  {
   "cell_type": "code",
   "execution_count": 15,
   "id": "92247c41",
   "metadata": {},
   "outputs": [
    {
     "name": "stdout",
     "output_type": "stream",
     "text": [
      "mean_fit_time: 0.28296446800231934, std_fit_time: 0.00320111260270402\n",
      "mean_score_time: 0.017204093933105468, std_score_time: 0.0004000435107657031\n",
      "mean_test_score: 0.8088333333333333, std_test_score: 0.005891849360675196\n"
     ]
    }
   ],
   "source": [
    "#Repeat part 1.C using a multiclass classifier (inherent)\n",
    "part2B_C = mas.train_simple_classifier_with_cv(Xtrain2, ytrain2, ExtraTreeClassifier(random_state = 42))\n",
    "#Print mean and std for accuracy scores and fit time\n",
    "mas.print_cv_result_dict(part2B_C)"
   ]
  },
  {
   "cell_type": "code",
   "execution_count": 16,
   "id": "449f67b0",
   "metadata": {},
   "outputs": [
    {
     "name": "stdout",
     "output_type": "stream",
     "text": [
      "mean_fit_time: 0.5167063713073731, std_fit_time: 0.009273719354853778\n",
      "mean_score_time: 0.009401845932006835, std_score_time: 0.0004900377176796412\n",
      "mean_test_score: 0.8153333333333332, std_test_score: 0.007224187766724273\n"
     ]
    }
   ],
   "source": [
    "#Repeat part 1.D using an inherent multiclass classifier\n",
    "part2B_D_clf = ExtraTreeClassifier(random_state = 42)\n",
    "part2B_D_cv = ShuffleSplit(n_splits = 5, random_state = 42)\n",
    "part2B_D_scores = cross_validate(part2B_D_clf, Xtrain2, ytrain2, cv=part2B_D_cv)\n",
    "#Print mean and std for accuracy scores and fit time\n",
    "mas.print_cv_result_dict(part2B_D_scores)"
   ]
  },
  {
   "cell_type": "code",
   "execution_count": 17,
   "id": "79a390b0",
   "metadata": {},
   "outputs": [
    {
     "name": "stdout",
     "output_type": "stream",
     "text": [
      "mean_fit_time: 0.3140655517578125, std_fit_time: 0.0009043542816835356\n",
      "mean_score_time: 5.812224340438843, std_score_time: 0.18285017019256214\n",
      "mean_test_score: 0.9718666666666668, std_test_score: 0.001161416759345622\n"
     ]
    }
   ],
   "source": [
    "#Repeat part 1.F using an multiclass classifier\n",
    "part2B_F_clf = KNeighborsClassifier()\n",
    "part2B_F_cv = ShuffleSplit(n_splits = 5, random_state = 42)\n",
    "part2B_F_scores = cross_validate(part2B_F_clf, Xtrain2, ytrain2, cv=part2B_F_cv)\n",
    "#Print mean and std for accuracy scores and fit time\n",
    "mas.print_cv_result_dict(part2B_F_scores)"
   ]
  },
  {
   "cell_type": "code",
   "execution_count": 18,
   "id": "f9867635",
   "metadata": {},
   "outputs": [
    {
     "name": "stdout",
     "output_type": "stream",
     "text": [
      "mean_fit_time: 0.3251962661743164, std_fit_time: 0.004406093143254841\n",
      "mean_score_time: 5.6669029712677, std_score_time: 0.16963555835108382\n",
      "mean_test_score: 0.9741666666666667, std_test_score: 0.001722401424368497\n",
      "Full set training accuracy: 1.0\n",
      "Full set test accuracy: 0.9714\n"
     ]
    }
   ],
   "source": [
    "#Repeat part 1.G using an inherent multiclass classifier\n",
    "part2B_G_clf = KNeighborsClassifier(n_neighbors = 4, weights = 'distance')\n",
    "part2B_G_cv = ShuffleSplit(n_splits = 5, random_state = 42)\n",
    "part2B_G_scores = cross_validate(part2B_G_clf, Xtrain2, ytrain2, cv=part2B_G_cv)\n",
    "#Print mean and std for accuracy scores and fit time\n",
    "mas.print_cv_result_dict(part2B_G_scores)\n",
    "\n",
    "#Train the classifier on all the trianing data\n",
    "part2B_all = part2B_G_clf.fit(Xtrain2, ytrain2)\n",
    "print(\"Full set training accuracy:\", part2B_all.score(Xtrain2, ytrain2))\n",
    "print(\"Full set test accuracy:\", part2B_all.score(Xtest2, ytest2))"
   ]
  },
  {
   "cell_type": "markdown",
   "id": "aa2ec9a9",
   "metadata": {},
   "source": [
    "To handle the multi-class problem, I used the KNeighbors and ExtraTrees classifiers which both inherently support multiclass classification."
   ]
  },
  {
   "cell_type": "markdown",
   "id": "491b8629",
   "metadata": {},
   "source": [
    "## Problem 2.C {-}"
   ]
  },
  {
   "cell_type": "code",
   "execution_count": 19,
   "id": "8c236d1b",
   "metadata": {},
   "outputs": [
    {
     "data": {
      "image/png": "[encoded data removed]",
      "text/plain": [
       "<Figure size 864x576 with 2 Axes>"
      ]
     },
     "metadata": {
      "needs_background": "light"
     },
     "output_type": "display_data"
    }
   ],
   "source": [
    "#create predictions for the confusion matrix\n",
    "part2C_model = part2B_G_clf.fit(Xtrain2, ytrain2)\n",
    "ypreds2 = part2C_model.predict(Xtest2)\n",
    "\n",
    "#Plot a confusion matrix for the test predictions\n",
    "fig, ax = plt.subplots(figsize = (12, 8))\n",
    "part2_cm = confusion_matrix(ytest2, ypreds2)\n",
    "part2_cmp = ConfusionMatrixDisplay(part2_cm)\n",
    "part2_cmp.plot(ax = ax)\n",
    "plt.show()"
   ]
  },
  {
   "cell_type": "markdown",
   "id": "1dbc74e1",
   "metadata": {},
   "source": [
    "My results slightly support the statement that 7s and 9s are a challenging pair to distinguish. Only 10 of the pairs were misclassified, which was neither the highest amount of misclassification nor the lowest, showing at least some difficulty in classification for this number pair."
   ]
  },
  {
   "cell_type": "markdown",
   "id": "0e103813",
   "metadata": {},
   "source": [
    "# Problem 3 {-}"
   ]
  },
  {
   "cell_type": "code",
   "execution_count": 132,
   "id": "25222492",
   "metadata": {},
   "outputs": [],
   "source": [
    "from sklearn.metrics import top_k_accuracy_score\n",
    "from sklearn.model_selection import StratifiedKFold, cross_val_score\n",
    "from sklearn.utils.class_weight import compute_class_weight"
   ]
  },
  {
   "cell_type": "markdown",
   "id": "ce75f74f",
   "metadata": {},
   "source": [
    "## Problem 3.A {-}"
   ]
  },
  {
   "cell_type": "code",
   "execution_count": 22,
   "id": "b897ec79",
   "metadata": {},
   "outputs": [
    {
     "name": "stdout",
     "output_type": "stream",
     "text": [
      "k-value: 1\n",
      "training set score: 1.0\n",
      "test set score: 0.9714\n",
      "k-value: 2\n",
      "training set score: 1.0\n",
      "test set score: 0.9883\n",
      "k-value: 3\n",
      "training set score: 1.0\n",
      "test set score: 0.9915\n",
      "k-value: 4\n",
      "training set score: 1.0\n",
      "test set score: 0.9938\n",
      "k-value: 5\n",
      "training set score: 1.0\n",
      "test set score: 0.9949\n"
     ]
    }
   ],
   "source": [
    "#create probability estimates for top-k accuracy\n",
    "ytrain2_probs = part2C_model.predict_proba(Xtrain2)\n",
    "ytest2_probs = part2C_model.predict_proba(Xtest2)\n",
    "training_ks = np.empty(5)\n",
    "test_ks = np.empty(5)\n",
    "#get the accuracies for k = 1, 2, 3, 4, 5\n",
    "for i in range(1,6):\n",
    "    print(\"k-value:\", i)\n",
    "    training_ks[i-1] = top_k_accuracy_score(ytrain2, ytrain2_probs, k = i)\n",
    "    test_ks[i-1] = top_k_accuracy_score(ytest2, ytest2_probs, k = i)\n",
    "    print(\"training set score:\", training_ks[i-1])\n",
    "    print(\"test set score:\", test_ks[i-1])"
   ]
  },
  {
   "cell_type": "code",
   "execution_count": 23,
   "id": "df107b18",
   "metadata": {
    "scrolled": false
   },
   "outputs": [
    {
     "data": {
      "image/png": "[encoded data removed]",
      "text/plain": [
       "<Figure size 792x504 with 1 Axes>"
      ]
     },
     "metadata": {
      "needs_background": "light"
     },
     "output_type": "display_data"
    }
   ],
   "source": [
    "#plot k vs. score\n",
    "plt.rcParams['figure.figsize'] = (11, 7)\n",
    "x = range(1,6)\n",
    "plt.plot(x, training_ks, label = \"training set\")\n",
    "plt.plot(x, test_ks, label = \"test set\")\n",
    "\n",
    "plt.title(\"K vs. Score\")\n",
    "plt.xlabel(\"K-value\")\n",
    "plt.ylabel(\"Accuracy Score\")\n",
    "plt.xticks(x)\n",
    "\n",
    "plt.legend()\n",
    "plt.show()"
   ]
  },
  {
   "cell_type": "markdown",
   "id": "0b556b29",
   "metadata": {},
   "source": [
    "The accuracy monotonically increases from a low of 97.14% at k=1 to a high of 99.49% at k=5. In addition to the increasing accuracy, I think this metric is useful for the dataset as it gives another check on the test data."
   ]
  },
  {
   "cell_type": "markdown",
   "id": "c1b795f0",
   "metadata": {},
   "source": [
    "## Problem 3.B {-}"
   ]
  },
  {
   "cell_type": "code",
   "execution_count": 102,
   "id": "f9da576f",
   "metadata": {},
   "outputs": [],
   "source": [
    "#Remove 99% of all 9s, then set remaining 9s -> 1s and 7s -> 0s\n",
    "def imbalance_data(X, y):\n",
    "    nine_idx = (y == 9)\n",
    "    seven_idx = (y == 7)\n",
    "    #get an array of only 9s\n",
    "    Xnines = X[nine_idx, :]\n",
    "    ynines = y[nine_idx]\n",
    "    ynines[:] = 1\n",
    "    #resize the 9s arrays to remove 99% of all 9s\n",
    "    Xnines_reshaped = np.resize(Xnines, (int(Xnines.shape[0] * 0.01), Xnines.shape[1]))\n",
    "    ynines_reshaped = np.resize(ynines, (int(ynines.shape[0] * 0.01)))\n",
    "    #get array of 7s\n",
    "    Xsevens = X[seven_idx, :]\n",
    "    ysevens = y[seven_idx]\n",
    "    ysevens[:] = 0\n",
    "    #create a new array with the reduced number of 9s added back\n",
    "    X_imbalanced = np.append(Xsevens, Xnines_reshaped, axis=0)\n",
    "    y_imbalanced = np.append(ysevens, ynines_reshaped)\n",
    "    return X_imbalanced, y_imbalanced\n",
    "    "
   ]
  },
  {
   "cell_type": "code",
   "execution_count": 103,
   "id": "d0652842",
   "metadata": {},
   "outputs": [],
   "source": [
    "#prepare the MNIST data \n",
    "Xtrain3, ytrain3 = imbalance_data(Xtrain2, ytrain2)\n",
    "Xtest3, ytest3 = imbalance_data(Xtest2, ytest2)"
   ]
  },
  {
   "cell_type": "code",
   "execution_count": 104,
   "id": "127177d9",
   "metadata": {},
   "outputs": [
    {
     "name": "stdout",
     "output_type": "stream",
     "text": [
      "Filtered X length: 6324\n",
      "Filtered y length: 6324\n",
      "Max X training set value: 1.0\n",
      "Max X test set value: 1.0\n"
     ]
    }
   ],
   "source": [
    "#Print out the length of the filtered X and y, alongside the max value of X train and X test\n",
    "print(\"Filtered X length:\",len(Xtrain3))\n",
    "print(\"Filtered y length:\",len(ytrain3))\n",
    "print(\"Max X training set value:\", np.max(Xtrain3))\n",
    "print(\"Max X test set value:\", np.max(Xtest3))"
   ]
  },
  {
   "cell_type": "markdown",
   "id": "46e22943",
   "metadata": {},
   "source": [
    "## Problem 3.C {-}"
   ]
  },
  {
   "cell_type": "code",
   "execution_count": 106,
   "id": "a965762e",
   "metadata": {},
   "outputs": [
    {
     "name": "stdout",
     "output_type": "stream",
     "text": [
      "mean_fit_time: 0.2560379981994629, std_fit_time: 0.01733015649359653\n",
      "mean_score_time: 0.06281414031982421, std_score_time: 0.002040147352848273\n",
      "mean_test_score: 0.994307424826137, std_test_score: 0.0009217411199686561\n",
      "mean_test_f1: 0.9929980643199452, std_test_f1: 0.001426014567934059\n",
      "mean_test_prec: 0.9943407916412479, std_test_prec: 0.0009109337347141226\n",
      "mean_test_rec: 0.994307424826137, std_test_rec: 0.0009217411199686561\n"
     ]
    }
   ],
   "source": [
    "#Repeat part 1.C using SVC and stratified cross-validation\n",
    "scorings = {'score': 'accuracy',\n",
    "            'f1': 'f1_weighted', \n",
    "            'prec': 'precision_weighted', \n",
    "            'rec': 'recall_weighted'}\n",
    "part3C_clf = SVC(random_state = 42)\n",
    "part3C_cv = StratifiedKFold(n_splits = 5)\n",
    "part3C_scores = cross_validate(part3C_clf, Xtrain3, ytrain3, scoring = scorings, cv = part3C_cv)\n",
    "mas.print_cv_result_dict(part3C_scores)"
   ]
  },
  {
   "cell_type": "markdown",
   "id": "e96c2f9d",
   "metadata": {},
   "source": [
    "Mean precision is ever so slightly higher than mean recall, meaning that the classifier is slightly better at not classifying false positives than it is at finding all the positive samples."
   ]
  },
  {
   "cell_type": "code",
   "execution_count": 131,
   "id": "1b82507f",
   "metadata": {
    "scrolled": false
   },
   "outputs": [
    {
     "data": {
      "image/png": "[encoded data removed]",
      "text/plain": [
       "<Figure size 864x576 with 2 Axes>"
      ]
     },
     "metadata": {
      "needs_background": "light"
     },
     "output_type": "display_data"
    }
   ],
   "source": [
    "#Train the model to get a confusion matrix\n",
    "part3C_model = part3C_clf.fit(Xtrain3, ytrain3)\n",
    "ypreds3C = part3C_model.predict(Xtest3)\n",
    "\n",
    "fig, ax = plt.subplots(figsize = (12, 8))\n",
    "part3_cm = confusion_matrix(ytest3, ypreds3C)\n",
    "part3_cmp = ConfusionMatrixDisplay(part3_cm)\n",
    "part3_cmp.plot(ax = ax)\n",
    "plt.show()"
   ]
  },
  {
   "cell_type": "markdown",
   "id": "1372304b",
   "metadata": {},
   "source": [
    "## Problem 3.D {-}"
   ]
  },
  {
   "cell_type": "code",
   "execution_count": 130,
   "id": "05717b0f",
   "metadata": {},
   "outputs": [
    {
     "name": "stdout",
     "output_type": "stream",
     "text": [
      "mean_fit_time: 0.40028977394104004, std_fit_time: 0.0137931631713967\n",
      "mean_score_time: 0.10276675224304199, std_score_time: 0.0054281592619228325\n",
      "mean_test_score: 0.9960466803422225, std_test_score: 0.000707897232878799\n",
      "mean_test_f1: 0.9956818806668121, std_test_f1: 0.0008692132505733874\n",
      "mean_test_prec: 0.995887400542671, std_test_prec: 0.0008985069030812981\n",
      "mean_test_rec: 0.9960466803422225, std_test_rec: 0.000707897232878799\n",
      "class weights: [ 0.5047087  53.59322034]\n"
     ]
    }
   ],
   "source": [
    "#Repeat part 3.C using weighted loss function\n",
    "scorings = {'score': 'accuracy',\n",
    "            'f1': 'f1_weighted', \n",
    "            'prec': 'precision_weighted', \n",
    "            'rec': 'recall_weighted'}\n",
    "part3D_clf = SVC(class_weight = 'balanced', random_state = 42)\n",
    "part3D_cv = StratifiedKFold(n_splits = 5)\n",
    "part3D_scores = cross_validate(part3D_clf, Xtrain3, ytrain3, scoring = scorings, cv = part3D_cv)\n",
    "mas.print_cv_result_dict(part3D_scores)\n",
    "\n",
    "#compute the class weights\n",
    "class_weights = compute_class_weight(class_weight = 'balanced', classes = np.unique(ytrain3), y = ytrain3)\n",
    "print(\"class weights:\", class_weights)\n",
    "print(\"\\n We see that \")"
   ]
  },
  {
   "cell_type": "code",
   "execution_count": 113,
   "id": "5a35323d",
   "metadata": {},
   "outputs": [
    {
     "data": {
      "image/png": "[encoded data removed]",
      "text/plain": [
       "<Figure size 864x576 with 2 Axes>"
      ]
     },
     "metadata": {
      "needs_background": "light"
     },
     "output_type": "display_data"
    }
   ],
   "source": [
    "#Train the model to get a confusion matrix\n",
    "part3D_model = part3D_clf.fit(Xtrain3, ytrain3)\n",
    "ypreds3D = part3D_model.predict(Xtest3)\n",
    "\n",
    "fig, ax = plt.subplots(figsize = (12, 8))\n",
    "part3D_cm = confusion_matrix(ytest3, ypreds3D)\n",
    "part3D_cmp = ConfusionMatrixDisplay(part3D_cm)\n",
    "part3D_cmp.plot(ax = ax)\n",
    "plt.show()"
   ]
  },
  {
   "cell_type": "markdown",
   "id": "24216220",
   "metadata": {},
   "source": [
    "We see that the weighted loss function gets us better values on average for all scoring metrics at the expense of slightly longer computation time."
   ]
  }
 ],
 "metadata": {
  "kernelspec": {
   "display_name": "Python 3 (ipykernel)",
   "language": "python",
   "name": "python3"
  },
  "language_info": {
   "codemirror_mode": {
    "name": "ipython",
    "version": 3
   },
   "file_extension": ".py",
   "mimetype": "text/x-python",
   "name": "python",
   "nbconvert_exporter": "python",
   "pygments_lexer": "ipython3",
   "version": "3.9.7"
  },
  "toc": {
   "base_numbering": 1,
   "nav_menu": {},
   "number_sections": false,
   "sideBar": true,
   "skip_h1_title": false,
   "title_cell": "Table of Contents",
   "title_sidebar": "Contents",
   "toc_cell": false,
   "toc_position": {
    "height": "calc(100% - 180px)",
    "left": "10px",
    "top": "150px",
    "width": "180.594px"
   },
   "toc_section_display": true,
   "toc_window_display": true
  }
 },
 "nbformat": 4,
 "nbformat_minor": 5
}
