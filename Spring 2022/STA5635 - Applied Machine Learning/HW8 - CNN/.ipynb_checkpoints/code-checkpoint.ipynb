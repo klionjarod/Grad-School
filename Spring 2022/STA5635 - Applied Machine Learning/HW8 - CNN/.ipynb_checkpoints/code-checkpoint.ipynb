{
 "cells": [
  {
   "cell_type": "code",
   "execution_count": 1,
   "metadata": {},
   "outputs": [],
   "source": [
    "import numpy as np\n",
    "import matplotlib.pyplot as plt\n",
    "import torch"
   ]
  },
  {
   "cell_type": "code",
   "execution_count": 86,
   "metadata": {},
   "outputs": [
    {
     "name": "stdout",
     "output_type": "stream",
     "text": [
      "cuda:0\n"
     ]
    }
   ],
   "source": [
    "device = torch.device(\"cuda:0\" if torch.cuda.is_available() else \"cpu\")\n",
    "# Assuming that we are on a CUDA machine, this should print a CUDA device:\n",
    "print(device)"
   ]
  },
  {
   "cell_type": "code",
   "execution_count": 101,
   "metadata": {},
   "outputs": [
    {
     "name": "stdout",
     "output_type": "stream",
     "text": [
      "Files already downloaded and verified\n",
      "torch.Size([1024, 3, 32, 32])\n",
      "torch.Size([1, 3, 1, 1])\n",
      "tensor([[[[0.4973]],\n",
      "\n",
      "         [[0.4900]],\n",
      "\n",
      "         [[0.5254]]]])\n"
     ]
    }
   ],
   "source": [
    "import torchvision\n",
    "import torchvision.transforms as transforms\n",
    "transform = transforms.Compose(\n",
    "    [transforms.ToTensor(),\n",
    "     transforms.Normalize((0.5, 0.5, 0.5), (0.5, 0.5, 0.5))])\n",
    "trainset = torchvision.datasets.CIFAR10(root='c:/datasets/cifar10', train=True,\n",
    "                                        download=True, transform=transform)\n",
    "trainloader = torch.utils.data.DataLoader(trainset, batch_size=1024, shuffle=True)\n",
    "for x,y in trainloader:\n",
    "    break\n",
    "print(x.shape)\n",
    "mx=torch.mean(x,dim=(0,2,3),keepdim=True)\n",
    "sx=torch.std(x,dim=(0,2,3),keepdim=True)\n",
    "x=(x-mx)/sx\n",
    "print(mx.shape)\n",
    "print(sx)"
   ]
  },
  {
   "cell_type": "code",
   "execution_count": 87,
   "metadata": {},
   "outputs": [
    {
     "name": "stdout",
     "output_type": "stream",
     "text": [
      "torch.Size([4177, 7]) torch.Size([4177]) torch.Size([7])\n"
     ]
    }
   ],
   "source": [
    "x =np.loadtxt (\"c:/work/teaching/machine learning/data/abalone.csv\", delimiter=',')\n",
    "y=torch.tensor(x[:,7]).float()\n",
    "x=torch.tensor(x[:,0:7]).float()\n",
    "mx=torch.mean(x,axis=0)\n",
    "sx=torch.std(x,axis=0)\n",
    "my=torch.mean(y)\n",
    "x=(x-mx)/sx\n",
    "y=y-my\n",
    "print(x.shape,y.shape,mx.shape)"
   ]
  },
  {
   "cell_type": "code",
   "execution_count": 88,
   "metadata": {},
   "outputs": [],
   "source": [
    "from torch.utils.data import TensorDataset,DataLoader\n",
    "x=x.to(device)\n",
    "y=y.to(device)\n",
    "trainset = TensorDataset(x,y)\n",
    "trainloader = DataLoader(trainset, batch_size=256,shuffle=True)"
   ]
  },
  {
   "cell_type": "code",
   "execution_count": 90,
   "metadata": {},
   "outputs": [
    {
     "name": "stdout",
     "output_type": "stream",
     "text": [
      "torch.Size([4177, 1])\n"
     ]
    }
   ],
   "source": [
    "import torch\n",
    "import torch.nn as nn\n",
    "import torch.nn.functional as F\n",
    "\n",
    "\n",
    "class Net(nn.Module):\n",
    "    def __init__(self):\n",
    "        super(Net, self).__init__()\n",
    "        self.fc1 = nn.Linear(7, 16)  \n",
    "        self.fc2 = nn.Linear(16, 1)\n",
    "\n",
    "    def forward(self, x):\n",
    "        x = F.relu(self.fc1(x))\n",
    "        x = self.fc2(x)\n",
    "        return x\n",
    "\n",
    "net = Net()\n",
    "net=net.to(device)\n",
    "print(net(x).shape)"
   ]
  },
  {
   "cell_type": "code",
   "execution_count": 92,
   "metadata": {},
   "outputs": [
    {
     "name": "stdout",
     "output_type": "stream",
     "text": [
      "[10] loss: 5.616\n",
      "[20] loss: 5.422\n",
      "[30] loss: 5.362\n",
      "[40] loss: 5.325\n",
      "[50] loss: 5.299\n",
      "[60] loss: 5.279\n",
      "[70] loss: 5.262\n",
      "[80] loss: 5.248\n",
      "[90] loss: 5.236\n",
      "[100] loss: 5.226\n"
     ]
    },
    {
     "data": {
      "text/plain": [
       "[<matplotlib.lines.Line2D at 0x2030c495e20>]"
      ]
     },
     "execution_count": 92,
     "metadata": {},
     "output_type": "execute_result"
    },
    {
     "data": {
      "image/png": "[encoded data removed]",
      "text/plain": [
       "<Figure size 432x288 with 1 Axes>"
      ]
     },
     "metadata": {
      "needs_background": "light"
     },
     "output_type": "display_data"
    }
   ],
   "source": [
    "import torch.optim as optim\n",
    "\n",
    "net = Net()\n",
    "net=net.to(device)\n",
    "optimizer = optim.SGD(net.parameters(), lr=0.001, momentum=0.9, weight_decay=0.0001)\n",
    "losses=[]\n",
    "for epoch in range(100):  # loop over the dataset multiple times\n",
    "    running_loss = 0.0\n",
    "    nobs=0\n",
    "    for data in trainloader:\n",
    "        # get the inputs; data is a list of [inputs, labels]\n",
    "        inputs, labels = data\n",
    "        # zero the parameter gradients\n",
    "        optimizer.zero_grad()\n",
    "\n",
    "        # forward + backward + optimize\n",
    "        outputs = net(inputs).squeeze()\n",
    "        loss = torch.mean((outputs-labels)**2)\n",
    "        #print(inputs.shape,outputs.shape,labels.shape,loss.shape)\n",
    "        loss.backward()\n",
    "        optimizer.step()\n",
    "\n",
    "        # print statistics\n",
    "        running_loss += loss.item()*inputs.shape[0]\n",
    "        nobs+=inputs.shape[0]\n",
    "    losses.append(running_loss/nobs)\n",
    "    if epoch % 10 == 9:    # print every 10 epochs\n",
    "        print(f'[{epoch + 1}] loss: {running_loss/nobs:.3f}')\n",
    "        optimizer = optim.SGD(net.parameters(), lr=0.001/(epoch+1), momentum=0.9, weight_decay=0.0001)\n",
    "\n",
    "\n",
    "plt.plot(losses)"
   ]
  },
  {
   "cell_type": "code",
   "execution_count": 102,
   "metadata": {},
   "outputs": [
    {
     "name": "stdout",
     "output_type": "stream",
     "text": [
      "(6000, 5000) (6000,)\n"
     ]
    }
   ],
   "source": [
    "y = np.loadtxt(\"c:/datasets/uci/gisette/gisette_train.labels\", delimiter=',')\n",
    "x = np.loadtxt(\"c:/datasets/uci/gisette/gisette_train.data\")\n",
    "yt = np.loadtxt(\"c:/datasets/uci/gisette/gisette_valid.labels\", delimiter=',')\n",
    "xt = np.loadtxt(\"c:/datasets/uci/gisette/gisette_valid.data\")\n",
    "print(x.shape,y.shape)"
   ]
  },
  {
   "cell_type": "code",
   "execution_count": 119,
   "metadata": {},
   "outputs": [
    {
     "name": "stdout",
     "output_type": "stream",
     "text": [
      "(2000, 500) (2000,)\n"
     ]
    }
   ],
   "source": [
    "y = np.loadtxt(\"c:/datasets/uci/madelon/madelon_train.labels\", delimiter=',')\n",
    "x = np.loadtxt(\"c:/datasets/uci/madelon/madelon_train.data\")\n",
    "yt = np.loadtxt(\"c:/datasets/uci/madelon/madelon_valid.labels\", delimiter=',')\n",
    "xt = np.loadtxt(\"c:/datasets/uci/madelon/madelon_valid.data\")\n",
    "print(x.shape,y.shape)"
   ]
  },
  {
   "cell_type": "code",
   "execution_count": 113,
   "metadata": {},
   "outputs": [
    {
     "name": "stdout",
     "output_type": "stream",
     "text": [
      "(300, 20000) (300,)\n"
     ]
    }
   ],
   "source": [
    "y = np.loadtxt(\"c:/datasets/uci/dexter/dexter_train.labels\", delimiter=',')\n",
    "x = np.loadtxt(\"c:/datasets/uci/dexter/dexter_train.csv\", delimiter=',')\n",
    "yt = np.loadtxt(\"c:/datasets/uci/dexter/dexter_valid.labels\", delimiter=',')\n",
    "xt = np.loadtxt(\"c:/datasets/uci/dexter/dexter_valid.csv\", delimiter=',')\n",
    "print(x.shape,y.shape)"
   ]
  },
  {
   "cell_type": "code",
   "execution_count": 120,
   "metadata": {},
   "outputs": [
    {
     "name": "stdout",
     "output_type": "stream",
     "text": [
      "torch.Size([2000, 500])\n",
      "torch.Size([500])\n",
      "torch.Size([2000, 501])\n"
     ]
    }
   ],
   "source": [
    "x=torch.tensor(x).float()\n",
    "y=torch.tensor(y).float()\n",
    "xt=torch.tensor(xt).float()\n",
    "yt=torch.tensor(yt).float()\n",
    "sx=torch.std(x,dim=0)\n",
    "x=x[:,sx>0]\n",
    "xt=xt[:,sx>0]\n",
    "sx=sx[sx>0]\n",
    "print(x.shape)\n",
    "mx=torch.mean(x,dim=0)\n",
    "x=(x-mx)/sx\n",
    "xt=(xt-mx)/sx\n",
    "print(mx.shape)\n",
    "n=x.shape[0]\n",
    "nt=xt.shape[0]\n",
    "x=torch.cat((torch.ones(n,1),x),dim=1)\n",
    "print(x.shape)\n",
    "xt=torch.cat((torch.ones(nt,1),xt),dim=1)\n",
    "n=x.shape[0]\n",
    "nt=xt.shape[0]\n",
    "d=x.shape[1]"
   ]
  },
  {
   "cell_type": "code",
   "execution_count": 121,
   "metadata": {},
   "outputs": [],
   "source": [
    "y0=y.clone()\n",
    "y0[y0<0]=0\n",
    "yt0=yt.clone()\n",
    "yt0[yt0<0]=0"
   ]
  },
  {
   "cell_type": "code",
   "execution_count": 122,
   "metadata": {},
   "outputs": [],
   "source": [
    "x=x.to(device)\n",
    "y=y.to(device)\n",
    "y0=y0.to(device)\n",
    "xt=xt.to(device)\n",
    "yt=yt.to(device)\n",
    "yt0=yt0.to(device)"
   ]
  },
  {
   "cell_type": "code",
   "execution_count": 123,
   "metadata": {},
   "outputs": [
    {
     "name": "stdout",
     "output_type": "stream",
     "text": [
      "10 0.377 0.4033333333333333\n",
      "30 0.345 0.42833333333333334\n",
      "100 0.30900000000000005 0.43333333333333335\n",
      "300 0.26949999999999996 0.43166666666666664\n",
      "500 0.26049999999999995 0.42166666666666663\n"
     ]
    },
    {
     "data": {
      "image/png": "[encoded data removed]",
      "text/plain": [
       "<Figure size 432x288 with 1 Axes>"
      ]
     },
     "metadata": {
      "needs_background": "light"
     },
     "output_type": "display_data"
    }
   ],
   "source": [
    "from sklearn.metrics import accuracy_score\n",
    "def loss(h,y):\n",
    "    l1=torch.sum(torch.log(1+torch.exp(-y.view(-1,1)*h)),dim=0)\n",
    "    return l1\n",
    "\n",
    "def err(x,y,w,w0):\n",
    "    py=x@w+w0\n",
    "    py[py>0]=1\n",
    "    py[py<=0]=0\n",
    "    return 1-accuracy_score(y.cpu(),py.cpu())\n",
    "\n",
    "ks=[10,30,100,300,500]\n",
    "Niter=10\n",
    "n,d=x.shape\n",
    "errs=[]\n",
    "errst=[]\n",
    "for k in ks:\n",
    "    h=torch.zeros(n,device=device)\n",
    "    b=torch.zeros(d,device=device)\n",
    "    w0=0\n",
    "    losses=[]\n",
    "    for i in range(k):\n",
    "        p=1/(1+torch.exp(-h)).view(-1,1)\n",
    "        w=p*(1-p)\n",
    "        z=1/p # for y==1\n",
    "        z[y0==0]=-1/(1-p[y0==0])\n",
    "        sw=torch.sum(w)\n",
    "        zbar=torch.sum(z*w)/sw\n",
    "        xbar=torch.sum(w*x,dim=0)/sw\n",
    "        den=torch.sum(w*(x-xbar.view(1,-1))**2,dim=0)\n",
    "        b1=torch.sum(w*(z-zbar)*(x-xbar.view(1,-1)),dim=0)/(den+0.000001)\n",
    "        b0=zbar-b1*xbar\n",
    "        hi=b0+b1.view(1,-1)*x\n",
    "        newh=h.view(-1,1)+hi\n",
    "        L=loss(newh,y)\n",
    "        j=torch.argmin(L)\n",
    "        h=newh[:,j]\n",
    "        # selected weak learner is b0[j]+b1[j]*x[:,j]\n",
    "        w0=w0+b0[j]\n",
    "        b[j]=b[j]+b1[j]\n",
    "        losses.append(L[j].item())\n",
    "        #print(i,sel.shape[0])\n",
    "    if k==300:\n",
    "        plt.plot(losses)\n",
    "    e=err(x,y0,b,w0)\n",
    "    et=err(xt,yt0,b,w0)\n",
    "    errs.append(e)\n",
    "    errst.append(et)\n",
    "    print(k,e,et)"
   ]
  },
  {
   "cell_type": "code",
   "execution_count": 124,
   "metadata": {},
   "outputs": [
    {
     "data": {
      "text/plain": [
       "[<matplotlib.lines.Line2D at 0x2041b3698b0>]"
      ]
     },
     "execution_count": 124,
     "metadata": {},
     "output_type": "execute_result"
    },
    {
     "data": {
      "image/png": "[encoded data removed]",
      "text/plain": [
       "<Figure size 432x288 with 1 Axes>"
      ]
     },
     "metadata": {
      "needs_background": "light"
     },
     "output_type": "display_data"
    }
   ],
   "source": [
    "plt.plot(ks,errs)\n",
    "plt.plot(ks,errst)"
   ]
  },
  {
   "cell_type": "code",
   "execution_count": null,
   "metadata": {},
   "outputs": [],
   "source": []
  }
 ],
 "metadata": {
  "kernelspec": {
   "display_name": "Python 3 (ipykernel)",
   "language": "python",
   "name": "python3"
  },
  "language_info": {
   "codemirror_mode": {
    "name": "ipython",
    "version": 3
   },
   "file_extension": ".py",
   "mimetype": "text/x-python",
   "name": "python",
   "nbconvert_exporter": "python",
   "pygments_lexer": "ipython3",
   "version": "3.9.7"
  }
 },
 "nbformat": 4,
 "nbformat_minor": 1
}
