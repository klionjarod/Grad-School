{
 "cells": [
  {
   "cell_type": "code",
   "execution_count": 1,
   "id": "cda6e2ab",
   "metadata": {},
   "outputs": [],
   "source": [
    "import numpy as np\n",
    "import pandas as pd\n",
    "import matplotlib.pyplot as plt\n",
    "from sklearn.mixture import GaussianMixture"
   ]
  },
  {
   "cell_type": "code",
   "execution_count": 9,
   "id": "9ab1fd10",
   "metadata": {},
   "outputs": [],
   "source": [
    "x1 = np.loadtxt(\"../datasets/misc/x1.txt\", delimiter = ',')\n",
    "x1 = np.loadtxt(\"../datasets/misc/x2.txt\", delimiter = ',')\n",
    "x1 = np.loadtxt(\"../datasets/misc/pts.txt\", delimiter = ',')"
   ]
  },
  {
   "cell_type": "code",
   "execution_count": 11,
   "id": "f60869e9",
   "metadata": {},
   "outputs": [
    {
     "data": {
      "text/plain": [
       "array([[ 64.,  40.],\n",
       "       [ 40.,  24.],\n",
       "       [263.,  38.],\n",
       "       ...,\n",
       "       [ 61.,  30.],\n",
       "       [216., 165.],\n",
       "       [167.,  84.]])"
      ]
     },
     "execution_count": 11,
     "metadata": {},
     "output_type": "execute_result"
    }
   ],
   "source": [
    "x1"
   ]
  },
  {
   "cell_type": "code",
   "execution_count": null,
   "id": "88adb7b4",
   "metadata": {},
   "outputs": [],
   "source": []
  }
 ],
 "metadata": {
  "kernelspec": {
   "display_name": "Python 3 (ipykernel)",
   "language": "python",
   "name": "python3"
  },
  "language_info": {
   "codemirror_mode": {
    "name": "ipython",
    "version": 3
   },
   "file_extension": ".py",
   "mimetype": "text/x-python",
   "name": "python",
   "nbconvert_exporter": "python",
   "pygments_lexer": "ipython3",
   "version": "3.9.10"
  }
 },
 "nbformat": 4,
 "nbformat_minor": 5
}
