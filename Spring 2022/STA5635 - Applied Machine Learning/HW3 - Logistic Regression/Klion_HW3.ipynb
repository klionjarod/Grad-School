{
 "cells": [
  {
   "cell_type": "markdown",
   "id": "ff322fe9",
   "metadata": {},
   "source": [
    "# Homework 3\n",
    "#### General:\n",
    "- Implement logistic regression learning by gradient ascent\n",
    "- Normalize training set to have mean 0 and std. dev. 1 before regression\n",
    "- Apply the training set transformation to the test set\n",
    "\n",
    "#### Specifications:\n",
    "- Train a logistic regressor on the training set of the requested datasets (`Gisette`, `hill-valley`, or `dexter`)\n",
    "- Start with **w**$^{(0)}$ = 0, 300 gradient ascent iterations, and shrinkage $\\lambda$ = 0.0001 in the update equation:\n",
    "    - **w**$^{(t+1)}$ = **w**$^{(t)}$ - $\\eta\\lambda$**w**$^{(t)}$ + $\\frac{\\eta}{N}\\frac{\\partial L(\\mathbf{w}^{(t)})}{\\partial \\mathbf{w}}$\n",
    "    - $L (\\mathbf{w}^{(t)})$ is the log-likelihood\n",
    "    - Note the extra factor of $\\frac{1}{N}$ in the loss term\n",
    "    \n",
    "#### Requested Output:\n",
    "- Find a good learning rate $\\eta$ such that log-likelihood converges in ~300 iterations and is monotonically increasing\n",
    "- Plot the log-likelihood vs iteration number\n",
    "- Report in a table the misclassification eror on the training and test set"
   ]
  },
  {
   "cell_type": "code",
   "execution_count": 2,
   "id": "e0ee4272",
   "metadata": {},
   "outputs": [],
   "source": [
    "import numpy as np\n",
    "import pandas as pd\n",
    "from sklearn.linear_model import SGDClassifier\n",
    "import matplotlib.pyplot as plt\n",
    "#for normalizing data\n",
    "from sklearn.preprocessing import StandardScaler\n",
    "#for testing accuracy\n",
    "from sklearn.metrics import accuracy_score"
   ]
  },
  {
   "cell_type": "code",
   "execution_count": 3,
   "id": "d6021a66",
   "metadata": {},
   "outputs": [],
   "source": [
    "#Read in the data for problem 1\n",
    "gis_train = pd.read_csv(\"../datasets/Gisette/gisette_train.data\", sep = ' ', header=None).dropna(axis=1)\n",
    "gis_train_labels = np.where(np.ravel(pd.read_csv(\"../datasets/Gisette/gisette_train.labels\", sep = ' ', header=None).values) == -1, 0, 1)\n",
    "gis_test = pd.read_csv(\"../datasets/Gisette/gisette_valid.data\", sep = ' ', header=None).dropna(axis=1)\n",
    "gis_test_labels = np.where(np.ravel(pd.read_csv(\"../datasets/Gisette/gisette_valid.labels\", sep = ' ', header=None).values) == -1, 0, 1)"
   ]
  },
  {
   "cell_type": "code",
   "execution_count": 4,
   "id": "598863c8",
   "metadata": {},
   "outputs": [],
   "source": [
    "#Read in the data for problem 2\n",
    "hill_Xtrain = pd.read_csv(\"../datasets/hill-valley/X.dat\", sep = ' ', header=None).dropna(axis=1)\n",
    "hill_ytrain = pd.read_csv(\"../datasets/hill-valley/y.dat\", sep = ' ', header=None)\n",
    "hill_Xtest = pd.read_csv(\"../datasets/hill-valley/Xtest.dat\", sep = ' ', header=None).dropna(axis=1)\n",
    "hill_ytest = pd.read_csv(\"../datasets/hill-valley/ytest.dat\", sep = ' ', header=None)"
   ]
  },
  {
   "cell_type": "code",
   "execution_count": 5,
   "id": "31301d91",
   "metadata": {},
   "outputs": [],
   "source": [
    "#Read in the data for problem 3\n",
    "dexter_train = pd.read_csv(\"../datasets/dexter/dexter_train.csv\", header=None).dropna(axis=1)\n",
    "dexter_train_labels = np.where(np.ravel(pd.read_csv(\"../datasets/dexter/dexter_train.labels\", sep = ' ', header=None).values) == -1, 0, 1)\n",
    "dexter_test = pd.read_csv(\"../datasets/dexter/dexter_valid.csv\", header=None).dropna(axis=1)\n",
    "dexter_test_labels = np.where(np.ravel(pd.read_csv(\"../datasets/dexter/dexter_valid.labels\", sep = ' ', header=None).values) == -1, 0, 1)"
   ]
  },
  {
   "cell_type": "code",
   "execution_count": 75,
   "id": "a09a169a",
   "metadata": {},
   "outputs": [],
   "source": [
    "#Normalize the training data in gisette to have mean 0 and standard deviation 1\n",
    "sc_gis = StandardScaler()\n",
    "sc_gis.fit(gis_train)\n",
    "gis_train_norm = sc_gis.transform(gis_train)\n",
    "#apply the same transformation to testing data\n",
    "gis_test_norm = sc_gis.transform(gis_test)"
   ]
  },
  {
   "cell_type": "code",
   "execution_count": 67,
   "id": "3a094ac8",
   "metadata": {},
   "outputs": [],
   "source": [
    "def run_clf(X_train, y_train, X_test, y_test, iters):\n",
    "    clf = SGDClassifier(loss=\"log\", max_iter=iters, random_state = 42, learning_rate='constant', eta0=0.1, shuffle=True).fit(X_train, y_train)\n",
    "    accuracy_train = clf.score(X_train, y_train)\n",
    "    accuracy_test = clf.score(X_test, y_test)\n",
    "    print(\"Training set accuracy: \", round(accuracy_train*100,4), \"%\")\n",
    "    print(\"Testing set accuracy: \", round(accuracy_test*100,4), \"%\")\n",
    "    return accuracy_train, accuracy_test"
   ]
  },
  {
   "cell_type": "code",
   "execution_count": 70,
   "id": "7346728a",
   "metadata": {
    "scrolled": true
   },
   "outputs": [
    {
     "name": "stdout",
     "output_type": "stream",
     "text": [
      "Training set accuracy:  100.0 %\n",
      "Testing set accuracy:  97.3 %\n"
     ]
    },
    {
     "data": {
      "text/plain": [
       "(1.0, 0.973)"
      ]
     },
     "execution_count": 70,
     "metadata": {},
     "output_type": "execute_result"
    }
   ],
   "source": [
    "run_clf(gis_train_normalized, gis_train_labels, gis_test_normalized, gis_test_labels, 300)"
   ]
  },
  {
   "cell_type": "code",
   "execution_count": 11,
   "id": "eef349f3",
   "metadata": {},
   "outputs": [],
   "source": [
    "#this code was adapted from: \n",
    "# https://vasugupta2000.medium.com/implementation-of-gradient-ascent-using-logistic-regression-7f5343877c21\n",
    "\n",
    "class LogReg():\n",
    "    \n",
    "    def __init__(self, learning_rate=0.01, max_iters=300, shrinkage=0.0001):\n",
    "        '''\n",
    "        initialize variables\n",
    "        \n",
    "        Parameters:\n",
    "        learning_rate: learning rate (float)\n",
    "        max_iters: max iterations desired (int)\n",
    "        shrinkage: lambda in the update equation (float)\n",
    "        '''\n",
    "        self.learning_rate = learning_rate\n",
    "        self.max_iters = max_iters\n",
    "        self.shrinkage = shrinkage\n",
    "        self.likelihoods = []\n",
    "        # Define epsilon so the natural logarithm is not undefined\n",
    "        self.epsilon = 1e-7\n",
    "    \n",
    "    #Define necessary functions to calculate gradient ascent\n",
    "    def sigmoid(self, x):\n",
    "        ''' \n",
    "        Sigmoid function\n",
    "\n",
    "        Parameters:\n",
    "        x : int, float or numpy array\n",
    "\n",
    "        Returns:\n",
    "        the sigmoid function applied to each element in the array\n",
    "        '''\n",
    "        return 1 / (1 + np.exp(-x))\n",
    "\n",
    "    def log_likelihood(self, y_true, y_pred):\n",
    "        '''\n",
    "        Calculates the likelihood function for logistic regression\n",
    "\n",
    "        Parameters:\n",
    "        x: 2D numpy array of x values (num_obs, num_features)\n",
    "        y: 1D numpy array of y values (num_obs, )\n",
    "        w0: initial weight\n",
    "        weights: numpy array of weights (num_features,)\n",
    "\n",
    "        Returns:\n",
    "        Maximum log likelihood, scalar value\n",
    "        '''\n",
    "        \n",
    "        # Fix 0/1 values in y_pred so that log is not undefined\n",
    "        y_pred = np.maximum(np.full(y_pred.shape, self.epsilon), np.minimum(np.full(y_pred.shape, 1-self.epsilon), y_pred))\n",
    "        #basic equation \n",
    "        return np.sum(y_true * np.log(y_pred) + (1 - y_true) * np.log(1 - y_pred))\n",
    "    \n",
    "\n",
    "    def predict_proba(self, X):\n",
    "                       \n",
    "        z = np.dot(X, self.weights)\n",
    "        probabilities = self.sigmoid(z)\n",
    "                \n",
    "        return probabilities\n",
    "    \n",
    "    \n",
    "    def predict(self, X, threshold=0.5):\n",
    "        # Thresholding probability to predict binary values\n",
    "        binary_predictions = np.array(list(map(lambda x: 1 if x > threshold else 0, self.predict_proba(X))))\n",
    "        \n",
    "        return binary_predictions\n",
    "\n",
    "    def fit(self, X, y):\n",
    "        '''\n",
    "        Train the logistic regression model using gradient ascent\n",
    "\n",
    "        Parameters:\n",
    "        x: 2D numpy array of x values (num_obs, num_features)\n",
    "        y: 1D numpy array of y values (num_obs, )\n",
    "\n",
    "        Returns:\n",
    "        void\n",
    "        '''\n",
    "\n",
    "        num_obs = X.shape[0]\n",
    "        num_feats = X.shape[1]\n",
    "\n",
    "        #Initialize weights as 0 vector with proper shape\n",
    "        self.weights = np.zeros(num_feats)\n",
    "\n",
    "        #Actually do the gradient ascent\n",
    "        for i in range(self.max_iters):\n",
    "            z = np.dot(X, self.weights)\n",
    "            y_pred = self.sigmoid(z)\n",
    "\n",
    "            #calculate the gradient\n",
    "            gradient = np.dot(X.T, y - y_pred)\n",
    "\n",
    "            #update the weights\n",
    "            self.weights = self.weights - (self.shrinkage * self.learning_rate * self.weights) + ((self.learning_rate * gradient) / num_obs) \n",
    "\n",
    "            #calculate the log likelihood and store in a list\n",
    "            likelihood = self.log_likelihood(y, y_pred)\n",
    "            self.likelihoods.append(likelihood)\n",
    "        #self.likelihoods = np.array(self.likelihoods)"
   ]
  },
  {
   "cell_type": "markdown",
   "id": "244ee581",
   "metadata": {},
   "source": [
    "# Problem 1.a: Gisette Dataset Logistic Regression"
   ]
  },
  {
   "cell_type": "code",
   "execution_count": 100,
   "id": "b752288f",
   "metadata": {},
   "outputs": [],
   "source": [
    "#Run the logistic regression on Gisette dataset with learning rate = 0.1\n",
    "clf_gis = LogReg(learning_rate=0.1)\n",
    "clf_gis.fit(gis_train_norm, gis_train_labels)"
   ]
  },
  {
   "cell_type": "code",
   "execution_count": 196,
   "id": "1dc548ba",
   "metadata": {
    "scrolled": false
   },
   "outputs": [
    {
     "data": {
      "image/png": "[encoded data removed]",
      "text/plain": [
       "<Figure size 1080x576 with 1 Axes>"
      ]
     },
     "metadata": {
      "needs_background": "light"
     },
     "output_type": "display_data"
    }
   ],
   "source": [
    "#Plot the log likelihood for Gisette dataset\n",
    "#size of plot\n",
    "plt.rcParams['figure.figsize'] = [15,8]\n",
    "\n",
    "plt.plot([i for i in range(len(clf_gis.likelihoods))], clf_gis.likelihoods)\n",
    "plt.title(\"Log-likelihood vs Iteration Number:\\nGisette dataset\")\n",
    "plt.xlabel(\"Iteration\")\n",
    "plt.ylabel(\"Log-likelihood\")\n",
    "plt.show()"
   ]
  },
  {
   "cell_type": "code",
   "execution_count": 102,
   "id": "db6445b6",
   "metadata": {},
   "outputs": [
    {
     "name": "stdout",
     "output_type": "stream",
     "text": [
      "0.0 0.02100000000000002\n"
     ]
    }
   ],
   "source": [
    "#Find misclassification error for Gisette dataset\n",
    "gis_train_preds = clf_gis.predict(gis_train_norm)\n",
    "gis_test_preds = clf_gis.predict(gis_test_norm)\n",
    "gis_train_err = 1 - accuracy_score(gis_train_labels, gis_train_preds)\n",
    "gis_test_err = 1 - accuracy_score(gis_test_labels, gis_test_preds)\n",
    "print(gis_train_err, gis_test_err)"
   ]
  },
  {
   "cell_type": "markdown",
   "id": "ad83ddf2",
   "metadata": {},
   "source": [
    "# Problem 1.b: Hill-valley Dataset  Logistic Regression\n",
    "-  Repeat point a) on the hill-valley dataset, where you might need more than 300 iterations."
   ]
  },
  {
   "cell_type": "code",
   "execution_count": 160,
   "id": "88ca463f",
   "metadata": {},
   "outputs": [],
   "source": [
    "#Normalize the training data in hill-valley to have mean 0 and standard deviation 1\n",
    "sc_hill = StandardScaler()\n",
    "sc_hill.fit(hill_Xtrain)\n",
    "hill_Xtrain_norm = sc_hill.transform(hill_Xtrain)\n",
    "#apply the same transformation to testing data\n",
    "hill_Xtest_norm = sc_hill.transform(hill_Xtest)"
   ]
  },
  {
   "cell_type": "code",
   "execution_count": 162,
   "id": "6f939a77",
   "metadata": {},
   "outputs": [],
   "source": [
    "#Run the logistic regression on hill-valley dataset with learning rate = 0.075\n",
    "clf_hill = LogReg(learning_rate = 0.075, max_iters=300000)\n",
    "clf_hill.fit(hill_Xtrain_norm, hill_ytrain[0])"
   ]
  },
  {
   "cell_type": "code",
   "execution_count": 194,
   "id": "0041336b",
   "metadata": {},
   "outputs": [
    {
     "data": {
      "image/png": "[encoded data removed]",
      "text/plain": [
       "<Figure size 1080x576 with 1 Axes>"
      ]
     },
     "metadata": {
      "needs_background": "light"
     },
     "output_type": "display_data"
    }
   ],
   "source": [
    "#Plot the log likelihood for hill-valley dataset\n",
    "\n",
    "#size of plot\n",
    "plt.rcParams['figure.figsize'] = [15,8]\n",
    "\n",
    "plt.plot([i/1000 for i in range(len(clf_hill.likelihoods))], clf_hill.likelihoods)\n",
    "plt.title(\"Log-likelihood vs Iteration Number:\\nhill-valley dataset\")\n",
    "plt.xlabel(\"Iteration Number (in thousands)\")\n",
    "plt.ylabel(\"Log-likelihood\")\n",
    "plt.show()"
   ]
  },
  {
   "cell_type": "code",
   "execution_count": 164,
   "id": "aa7bcb73",
   "metadata": {},
   "outputs": [
    {
     "name": "stdout",
     "output_type": "stream",
     "text": [
      "0.26732673267326734 0.3085808580858086\n"
     ]
    }
   ],
   "source": [
    "#Find misclassification error for hill-valley dataset\n",
    "hill_train_preds = clf_hill.predict(hill_Xtrain_norm)\n",
    "hill_test_preds = clf_hill.predict(hill_Xtest_norm)\n",
    "hill_train_err = 1 - accuracy_score(hill_ytrain, hill_train_preds)\n",
    "hill_test_err = 1 - accuracy_score(hill_ytest, hill_test_preds)\n",
    "print(hill_train_err, hill_test_err)"
   ]
  },
  {
   "cell_type": "markdown",
   "id": "ef56ddcd",
   "metadata": {},
   "source": [
    "# Problem 1.c: Dexter Dataset Logistic Regression\n",
    "-  Repeat point a) on the dexter dataset"
   ]
  },
  {
   "cell_type": "code",
   "execution_count": 166,
   "id": "1360963e",
   "metadata": {},
   "outputs": [],
   "source": [
    "#Normalize the training data in dexter to have mean 0 and standard deviation 1\n",
    "sc_dexter = StandardScaler()\n",
    "sc_dexter.fit(dexter_train)\n",
    "dexter_train_norm = sc_dexter.transform(dexter_train)\n",
    "#apply the same transformation to testing data\n",
    "dexter_test_norm = sc_dexter.transform(dexter_test)"
   ]
  },
  {
   "cell_type": "code",
   "execution_count": 207,
   "id": "da06b394",
   "metadata": {},
   "outputs": [],
   "source": [
    "#Run the logistic regression on dexter dataset with default learning rate 0.01\n",
    "clf_dexter = LogReg()\n",
    "clf_dexter.fit(dexter_train_norm, dexter_train_labels)"
   ]
  },
  {
   "cell_type": "code",
   "execution_count": 208,
   "id": "46ef6344",
   "metadata": {},
   "outputs": [
    {
     "data": {
      "image/png": "[encoded data removed]",
      "text/plain": [
       "<Figure size 1080x576 with 1 Axes>"
      ]
     },
     "metadata": {
      "needs_background": "light"
     },
     "output_type": "display_data"
    }
   ],
   "source": [
    "#Plot the log likelihood for dexter dataset\n",
    "#size of plot\n",
    "plt.rcParams['figure.figsize'] = [15,8]\n",
    "\n",
    "plt.plot([i for i in range(len(clf_dexter.likelihoods))], clf_dexter.likelihoods)\n",
    "plt.title(\"Log-likelihood vs Iteration Number:\\ndexter dataset\")\n",
    "plt.xlabel(\"Iteration Number\")\n",
    "plt.ylabel(\"Log-likelihood\")\n",
    "plt.show()"
   ]
  },
  {
   "cell_type": "code",
   "execution_count": 209,
   "id": "9ff929cb",
   "metadata": {},
   "outputs": [
    {
     "name": "stdout",
     "output_type": "stream",
     "text": [
      "0.0 0.14\n"
     ]
    }
   ],
   "source": [
    "#Find misclassification error for dexter dataset\n",
    "dexter_train_preds = clf_dexter.predict(dexter_train_norm)\n",
    "dexter_test_preds = clf_dexter.predict(dexter_test_norm)\n",
    "dexter_train_err = 1 - accuracy_score(dexter_train_labels, dexter_train_preds)\n",
    "dexter_test_err = 1 - accuracy_score(dexter_test_labels, dexter_test_preds)\n",
    "print(dexter_train_err, dexter_test_err)"
   ]
  },
  {
   "cell_type": "code",
   "execution_count": 236,
   "id": "0cab4ddf",
   "metadata": {},
   "outputs": [
    {
     "data": {
      "text/html": [
       "<div>\n",
       "<style scoped>\n",
       "    .dataframe tbody tr th:only-of-type {\n",
       "        vertical-align: middle;\n",
       "    }\n",
       "\n",
       "    .dataframe tbody tr th {\n",
       "        vertical-align: top;\n",
       "    }\n",
       "\n",
       "    .dataframe thead th {\n",
       "        text-align: right;\n",
       "    }\n",
       "</style>\n",
       "<table border=\"1\" class=\"dataframe\">\n",
       "  <thead>\n",
       "    <tr style=\"text-align: right;\">\n",
       "      <th></th>\n",
       "      <th>Training Error</th>\n",
       "      <th>Test Error</th>\n",
       "    </tr>\n",
       "  </thead>\n",
       "  <tbody>\n",
       "    <tr>\n",
       "      <th>Gisette</th>\n",
       "      <td>0.000000</td>\n",
       "      <td>0.021000</td>\n",
       "    </tr>\n",
       "    <tr>\n",
       "      <th>hill-valley</th>\n",
       "      <td>0.267327</td>\n",
       "      <td>0.308581</td>\n",
       "    </tr>\n",
       "    <tr>\n",
       "      <th>dexter</th>\n",
       "      <td>0.000000</td>\n",
       "      <td>0.140000</td>\n",
       "    </tr>\n",
       "  </tbody>\n",
       "</table>\n",
       "</div>"
      ],
      "text/plain": [
       "             Training Error  Test Error\n",
       "Gisette            0.000000    0.021000\n",
       "hill-valley        0.267327    0.308581\n",
       "dexter             0.000000    0.140000"
      ]
     },
     "execution_count": 236,
     "metadata": {},
     "output_type": "execute_result"
    }
   ],
   "source": [
    "# Create table labels\n",
    "rows_labels = [\"Gisette\",\"hill-valley\", \"dexter\",]\n",
    "columns_labels = [\"Dataset\",\"Training Error\",\"Test Error\"]\n",
    "\n",
    "# Store the misclassification error from each dataset for training and testing\n",
    "misclassification_errors = {\n",
    "    columns_labels[1]: [gis_train_err, hill_train_err, dexter_train_err],\n",
    "    columns_labels[2]: [gis_test_err, hill_test_err, dexter_test_err]\n",
    "}\n",
    "\n",
    "# Create dataframe to output table\n",
    "error_table=pd.DataFrame(misclassification_errors, index=rows_labels)\n",
    "#error_table.index.name = columns_labels[0]\n",
    "error_table"
   ]
  }
 ],
 "metadata": {
  "kernelspec": {
   "display_name": "Python 3 (ipykernel)",
   "language": "python",
   "name": "python3"
  },
  "language_info": {
   "codemirror_mode": {
    "name": "ipython",
    "version": 3
   },
   "file_extension": ".py",
   "mimetype": "text/x-python",
   "name": "python",
   "nbconvert_exporter": "python",
   "pygments_lexer": "ipython3",
   "version": "3.9.7"
  }
 },
 "nbformat": 4,
 "nbformat_minor": 5
}
