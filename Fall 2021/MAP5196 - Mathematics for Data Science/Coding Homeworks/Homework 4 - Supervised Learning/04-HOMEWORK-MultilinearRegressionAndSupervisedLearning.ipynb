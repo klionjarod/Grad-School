{
 "cells": [
  {
   "cell_type": "markdown",
   "id": "68eff091",
   "metadata": {},
   "source": [
    "# Multilinear Regression and Supervised Learning\n",
    "\n",
    "In this assignment, you will explore the regression and classification models that we discussed in class. While the class discussion was focused on theory, the focus here is on applying the methods to data."
   ]
  },
  {
   "cell_type": "markdown",
   "id": "e9c95a55",
   "metadata": {},
   "source": [
    "We'll use a couple of new packages for loading and manipulating data:\n",
    " - `seaborn` is mostly for visualization of statistical analyses of data, but has some useful datasets that can be loaded from the package\n",
    " - `pandas` is a useful tool for working with spreadsheet-style data (technically, the data type used here is called a \"dataframe\")"
   ]
  },
  {
   "cell_type": "code",
   "execution_count": 1,
   "id": "378f01ad",
   "metadata": {},
   "outputs": [],
   "source": [
    "import numpy as np\n",
    "import seaborn as sns\n",
    "import pandas as pd\n",
    "import matplotlib.pyplot as plt"
   ]
  },
  {
   "cell_type": "markdown",
   "id": "b328581f",
   "metadata": {},
   "source": [
    "## Multilinear Regression"
   ]
  },
  {
   "cell_type": "markdown",
   "id": "d95ade82",
   "metadata": {},
   "source": [
    "### Loading Data"
   ]
  },
  {
   "cell_type": "markdown",
   "id": "15fe4f2e",
   "metadata": {},
   "source": [
    "We'll load a dataset containing various statistics about car models, including their typical miles-per-gallon (mpg)."
   ]
  },
  {
   "cell_type": "code",
   "execution_count": 2,
   "id": "758b8218",
   "metadata": {},
   "outputs": [],
   "source": [
    "mpg_data = sns.load_dataset(\"mpg\")"
   ]
  },
  {
   "cell_type": "markdown",
   "id": "08e36f68",
   "metadata": {},
   "source": [
    "To get an idea for what the data looks like, we can look at the first few lines using the following command."
   ]
  },
  {
   "cell_type": "code",
   "execution_count": 3,
   "id": "5a6c4d6e",
   "metadata": {},
   "outputs": [
    {
     "data": {
      "text/html": [
       "<div>\n",
       "<style scoped>\n",
       "    .dataframe tbody tr th:only-of-type {\n",
       "        vertical-align: middle;\n",
       "    }\n",
       "\n",
       "    .dataframe tbody tr th {\n",
       "        vertical-align: top;\n",
       "    }\n",
       "\n",
       "    .dataframe thead th {\n",
       "        text-align: right;\n",
       "    }\n",
       "</style>\n",
       "<table border=\"1\" class=\"dataframe\">\n",
       "  <thead>\n",
       "    <tr style=\"text-align: right;\">\n",
       "      <th></th>\n",
       "      <th>mpg</th>\n",
       "      <th>cylinders</th>\n",
       "      <th>displacement</th>\n",
       "      <th>horsepower</th>\n",
       "      <th>weight</th>\n",
       "      <th>acceleration</th>\n",
       "      <th>model_year</th>\n",
       "      <th>origin</th>\n",
       "      <th>name</th>\n",
       "    </tr>\n",
       "  </thead>\n",
       "  <tbody>\n",
       "    <tr>\n",
       "      <th>0</th>\n",
       "      <td>18.0</td>\n",
       "      <td>8</td>\n",
       "      <td>307.0</td>\n",
       "      <td>130.0</td>\n",
       "      <td>3504</td>\n",
       "      <td>12.0</td>\n",
       "      <td>70</td>\n",
       "      <td>usa</td>\n",
       "      <td>chevrolet chevelle malibu</td>\n",
       "    </tr>\n",
       "    <tr>\n",
       "      <th>1</th>\n",
       "      <td>15.0</td>\n",
       "      <td>8</td>\n",
       "      <td>350.0</td>\n",
       "      <td>165.0</td>\n",
       "      <td>3693</td>\n",
       "      <td>11.5</td>\n",
       "      <td>70</td>\n",
       "      <td>usa</td>\n",
       "      <td>buick skylark 320</td>\n",
       "    </tr>\n",
       "    <tr>\n",
       "      <th>2</th>\n",
       "      <td>18.0</td>\n",
       "      <td>8</td>\n",
       "      <td>318.0</td>\n",
       "      <td>150.0</td>\n",
       "      <td>3436</td>\n",
       "      <td>11.0</td>\n",
       "      <td>70</td>\n",
       "      <td>usa</td>\n",
       "      <td>plymouth satellite</td>\n",
       "    </tr>\n",
       "    <tr>\n",
       "      <th>3</th>\n",
       "      <td>16.0</td>\n",
       "      <td>8</td>\n",
       "      <td>304.0</td>\n",
       "      <td>150.0</td>\n",
       "      <td>3433</td>\n",
       "      <td>12.0</td>\n",
       "      <td>70</td>\n",
       "      <td>usa</td>\n",
       "      <td>amc rebel sst</td>\n",
       "    </tr>\n",
       "    <tr>\n",
       "      <th>4</th>\n",
       "      <td>17.0</td>\n",
       "      <td>8</td>\n",
       "      <td>302.0</td>\n",
       "      <td>140.0</td>\n",
       "      <td>3449</td>\n",
       "      <td>10.5</td>\n",
       "      <td>70</td>\n",
       "      <td>usa</td>\n",
       "      <td>ford torino</td>\n",
       "    </tr>\n",
       "  </tbody>\n",
       "</table>\n",
       "</div>"
      ],
      "text/plain": [
       "    mpg  cylinders  displacement  horsepower  weight  acceleration  \\\n",
       "0  18.0          8         307.0       130.0    3504          12.0   \n",
       "1  15.0          8         350.0       165.0    3693          11.5   \n",
       "2  18.0          8         318.0       150.0    3436          11.0   \n",
       "3  16.0          8         304.0       150.0    3433          12.0   \n",
       "4  17.0          8         302.0       140.0    3449          10.5   \n",
       "\n",
       "   model_year origin                       name  \n",
       "0          70    usa  chevrolet chevelle malibu  \n",
       "1          70    usa          buick skylark 320  \n",
       "2          70    usa         plymouth satellite  \n",
       "3          70    usa              amc rebel sst  \n",
       "4          70    usa                ford torino  "
      ]
     },
     "execution_count": 3,
     "metadata": {},
     "output_type": "execute_result"
    }
   ],
   "source": [
    "mpg_data.head()"
   ]
  },
  {
   "cell_type": "markdown",
   "id": "a35cb04b",
   "metadata": {},
   "source": [
    "We can see that there are 398 data samples with 9 pieces of information per sample."
   ]
  },
  {
   "cell_type": "code",
   "execution_count": 4,
   "id": "2cb8a26f",
   "metadata": {},
   "outputs": [
    {
     "data": {
      "text/plain": [
       "(398, 9)"
      ]
     },
     "execution_count": 4,
     "metadata": {},
     "output_type": "execute_result"
    }
   ],
   "source": [
    "mpg_data.shape"
   ]
  },
  {
   "cell_type": "markdown",
   "id": "da182c56",
   "metadata": {},
   "source": [
    "However, if we look through the data, we see that some entries in the 'horsepower' column are not numbers."
   ]
  },
  {
   "cell_type": "code",
   "execution_count": 5,
   "id": "4272ac96",
   "metadata": {},
   "outputs": [
    {
     "data": {
      "text/plain": [
       "array([130., 165., 150., 150., 140., 198., 220., 215., 225., 190., 170.,\n",
       "       160., 150., 225.,  95.,  95.,  97.,  85.,  88.,  46.,  87.,  90.,\n",
       "        95., 113.,  90., 215., 200., 210., 193.,  88.,  90.,  95.,  nan,\n",
       "       100., 105., 100.,  88., 100., 165., 175., 153., 150., 180., 170.,\n",
       "       175., 110.,  72., 100.,  88.,  86.,  90.,  70.,  76.,  65.,  69.,\n",
       "        60.,  70.,  95.,  80.,  54.,  90.,  86., 165., 175., 150., 153.,\n",
       "       150., 208., 155., 160., 190.,  97., 150., 130., 140., 150., 112.,\n",
       "        76.,  87.,  69.,  86.,  92.,  97.,  80.,  88., 175., 150., 145.,\n",
       "       137., 150., 198., 150., 158., 150., 215., 225., 175., 105., 100.,\n",
       "       100.,  88.,  95.,  46., 150., 167., 170., 180., 100.,  88.,  72.,\n",
       "        94.,  90.,  85., 107.,  90., 145., 230.,  49.,  75.,  91., 112.,\n",
       "       150., 110., 122., 180.,  95.,  nan, 100., 100.,  67.,  80.,  65.,\n",
       "        75., 100., 110., 105., 140., 150., 150., 140., 150.,  83.,  67.,\n",
       "        78.,  52.,  61.,  75.,  75.,  75.,  97.,  93.,  67.,  95., 105.,\n",
       "        72.,  72., 170., 145., 150., 148., 110., 105., 110.,  95., 110.,\n",
       "       110., 129.,  75.,  83., 100.,  78.,  96.,  71.,  97.,  97.,  70.,\n",
       "        90.,  95.,  88.,  98., 115.,  53.,  86.,  81.,  92.,  79.,  83.,\n",
       "       140., 150., 120., 152., 100., 105.,  81.,  90.,  52.,  60.,  70.,\n",
       "        53., 100.,  78., 110.,  95.,  71.,  70.,  75.,  72., 102., 150.,\n",
       "        88., 108., 120., 180., 145., 130., 150.,  68.,  80.,  58.,  96.,\n",
       "        70., 145., 110., 145., 130., 110., 105., 100.,  98., 180., 170.,\n",
       "       190., 149.,  78.,  88.,  75.,  89.,  63.,  83.,  67.,  78.,  97.,\n",
       "       110., 110.,  48.,  66.,  52.,  70.,  60., 110., 140., 139., 105.,\n",
       "        95.,  85.,  88., 100.,  90., 105.,  85., 110., 120., 145., 165.,\n",
       "       139., 140.,  68.,  95.,  97.,  75.,  95., 105.,  85.,  97., 103.,\n",
       "       125., 115., 133.,  71.,  68., 115.,  85.,  88.,  90., 110., 130.,\n",
       "       129., 138., 135., 155., 142., 125., 150.,  71.,  65.,  80.,  80.,\n",
       "        77., 125.,  71.,  90.,  70.,  70.,  65.,  69.,  90., 115., 115.,\n",
       "        90.,  76.,  60.,  70.,  65.,  90.,  88.,  90.,  90.,  78.,  90.,\n",
       "        75.,  92.,  75.,  65., 105.,  65.,  48.,  48.,  67.,  67.,  67.,\n",
       "        nan,  67.,  62., 132., 100.,  88.,  nan,  72.,  84.,  84.,  92.,\n",
       "       110.,  84.,  58.,  64.,  60.,  67.,  65.,  62.,  68.,  63.,  65.,\n",
       "        65.,  74.,  nan,  75.,  75., 100.,  74.,  80.,  76., 116., 120.,\n",
       "       110., 105.,  88.,  85.,  88.,  88.,  88.,  85.,  84.,  90.,  92.,\n",
       "        nan,  74.,  68.,  68.,  63.,  70.,  88.,  75.,  70.,  67.,  67.,\n",
       "        67., 110.,  85.,  92., 112.,  96.,  84.,  90.,  86.,  52.,  84.,\n",
       "        79.,  82.])"
      ]
     },
     "execution_count": 5,
     "metadata": {},
     "output_type": "execute_result"
    }
   ],
   "source": [
    "np.array(mpg_data['horsepower'])"
   ]
  },
  {
   "cell_type": "markdown",
   "id": "9c3c9e87",
   "metadata": {},
   "source": [
    "We'll remove any rows from our data where `nan` appears."
   ]
  },
  {
   "cell_type": "code",
   "execution_count": 6,
   "id": "04aaa41d",
   "metadata": {},
   "outputs": [],
   "source": [
    "mpg_data = mpg_data.dropna()"
   ]
  },
  {
   "cell_type": "code",
   "execution_count": 7,
   "id": "f3dc96ca",
   "metadata": {},
   "outputs": [
    {
     "data": {
      "text/plain": [
       "(392, 9)"
      ]
     },
     "execution_count": 7,
     "metadata": {},
     "output_type": "execute_result"
    }
   ],
   "source": [
    "mpg_data.shape"
   ]
  },
  {
   "cell_type": "markdown",
   "id": "eba349ea",
   "metadata": {},
   "source": [
    "Now let's fit this into the regression framework that we described in class. \n",
    "\n",
    "We will train our model to predict mpg from the remaining numerical variables (cylinders, displacement, horsepower, weight, acceleration, model_year). This means that our data matrix should be of the form\n",
    "$$\n",
    "X = \\left[\\begin{array}{c}\n",
    "\\vec{x}_1^T \\\\\n",
    "\\vdots \\\\\n",
    "\\vec{x}_{398}^T \\end{array}\\right] \\in \\mathbb{R}^{398 \\times 6},\n",
    "$$\n",
    "where each $\\vec{x}_i$ is a vector of 6 numerical measurements for car model $i$. The vector we are trying to predict is of the form\n",
    "$$\n",
    "\\vec{y} = \\left[\\begin{array}{c}\n",
    "y_1 \\\\\n",
    "\\vdots \\\\\n",
    "y_{398}\\end{array}\\right] \\in \\mathbb{R}^{398},\n",
    "$$\n",
    "where each $y_i$ is the mpg for care model $i$. \n",
    "\n",
    "Let's set these up as `numpy` arrays:"
   ]
  },
  {
   "cell_type": "code",
   "execution_count": 14,
   "id": "e58ec355",
   "metadata": {},
   "outputs": [],
   "source": [
    "X = np.array(mpg_data[['cylinders','displacement','horsepower','weight','acceleration','model_year']])\n",
    "y = np.array(mpg_data['mpg'])"
   ]
  },
  {
   "cell_type": "markdown",
   "id": "1d526798",
   "metadata": {},
   "source": [
    "### Building a Multilinear Regression Model\n",
    "\n",
    "Recall the general setup for multilinear regression: give a data matrix $X \\in \\mathbb{R}^{N \\times d}$ with $N$ samples and $d$ features and a vector of observations $\\vec{y} \\in \\mathbb{R}^N$, our goal is to find parameters $\\beta_0,\\beta_1,\\ldots,\\beta_d$ such that the loss function\n",
    "$$\n",
    "L(\\beta_0,\\ldots,\\beta_d) = \\sum_{i=1}^N \\left( y_i - (\\beta_0 + \\beta_1 (\\vec{x}_i)_1 + \\cdots + \\beta_d (\\vec{x}_i)_d) \\right)^2.\n",
    "$$\n",
    "In this formula, $y_i$ is the $i$th entry of $\\vec{y}$ and $\\vec{x}_i$ is the $i$th data sample (so $\\vec{x}_i^T$ is the $i$th row of $X$).\n",
    "\n",
    "We will now build our model, which means finding the best parameters. There are a couple of sublties that we didn't address in class, which we will handle now."
   ]
  },
  {
   "cell_type": "markdown",
   "id": "0e3c18cc",
   "metadata": {},
   "source": [
    "### Adding Bias\n",
    "\n",
    "When we derived our formula for optimal parameters in multilinear regression in class, we didn't include a $\\beta_0$ term (this is sometimes referred to in machine learning as the *bias*). To fix this, all we need to do is add a column of all ones to our data matrix $X$. After we do this, all of the other analysis that we did in class will still go through."
   ]
  },
  {
   "cell_type": "markdown",
   "id": "89638cb9",
   "metadata": {},
   "source": [
    "**Problem 1.** Fix the data matrix `X` defined above by adding a column of ones. Do this so that the *first* column contains zeros. That is, the current $X \\in \\mathbb{R}^{398 \\times 6}$ should be replaced by a new $X \\in \\mathbb{R}^{398 \\times 7}$ whose first column contains all ones and whose remaining columns are copied over from the original data matrix.\n",
    "\n",
    "**Note:** Code below will assume that your new data matrix is still called `X`."
   ]
  },
  {
   "cell_type": "code",
   "execution_count": 33,
   "id": "6eca6b2c",
   "metadata": {},
   "outputs": [],
   "source": [
    "## Your code goes here\n",
    "X = np.concatenate((np.ones((392, 1)),X), axis=1)"
   ]
  },
  {
   "cell_type": "markdown",
   "id": "b45a1242",
   "metadata": {},
   "source": [
    "### Train-Test Split"
   ]
  },
  {
   "cell_type": "markdown",
   "id": "481d377a",
   "metadata": {},
   "source": [
    "Typically when one trains a model, it is trained on a subset of the data. The resulting model can then be tested on the remaining data that it did not see during the training phase. The following code picks out a percentage of rows from $X$ randomly, together with corresponding entries of $\\vec{y}$, as the 'training set' and leaves the rest out as a 'testing set'."
   ]
  },
  {
   "cell_type": "code",
   "execution_count": 76,
   "id": "4284f8ef",
   "metadata": {},
   "outputs": [],
   "source": [
    "from sklearn.model_selection import train_test_split\n",
    "\n",
    "X_train, X_test, y_train, y_test = train_test_split(X, y, test_size = 0.3)"
   ]
  },
  {
   "cell_type": "markdown",
   "id": "61af54dd",
   "metadata": {},
   "source": [
    "### Training the Model\n",
    "\n",
    "Now recall that we found an explicit formula for the optimal parameters in the multilinear regression problem. Let $\\vec{\\beta} = [\\beta_0 \\beta_1 \\cdots \\beta_d]^T$ be the optimal parameter vector. It is given by the formula\n",
    "$$\n",
    "\\vec{\\beta} = \\left(X^T X\\right)^{-1} X^T \\vec{y}.\n",
    "$$"
   ]
  },
  {
   "cell_type": "markdown",
   "id": "ed081ce3",
   "metadata": {},
   "source": [
    "**Problem 2.** Find the optimal parameters for the training set using the formula above. Call your optimal parameter vector `betas`. Print out your answer."
   ]
  },
  {
   "cell_type": "code",
   "execution_count": 77,
   "id": "2241e5b7",
   "metadata": {},
   "outputs": [
    {
     "name": "stdout",
     "output_type": "stream",
     "text": [
      "[-1.60611943e+01 -5.42058921e-01  1.62545504e-02  9.79855738e-03\n",
      " -7.72828049e-03  2.21488364e-01  7.64821335e-01]\n"
     ]
    }
   ],
   "source": [
    "## Your code goes here.\n",
    "betas = np.linalg.inv(X_train.T@X_train)@X_train.T@y_train\n",
    "print(betas)"
   ]
  },
  {
   "cell_type": "markdown",
   "id": "844e5332",
   "metadata": {},
   "source": [
    "We can test the performance of our model by making predictions on the testing data, which was not incorporated into our training step. "
   ]
  },
  {
   "cell_type": "markdown",
   "id": "3075d838",
   "metadata": {},
   "source": [
    "**Problem 3.** Create a vector `y_pred` containing the predicted `mpg` values of the data from your testing set. \n",
    "\n",
    "**Hint:** This can be done by multiplying a certain matrix with a certain vector."
   ]
  },
  {
   "cell_type": "code",
   "execution_count": 78,
   "id": "b730c4c0",
   "metadata": {
    "scrolled": false
   },
   "outputs": [],
   "source": [
    "## Your code goes here.\n",
    "y_pred = X_train@betas"
   ]
  },
  {
   "cell_type": "markdown",
   "id": "47b92722",
   "metadata": {},
   "source": [
    "The code below plots the predicted `mpg` values on the test set, versus the true values from `y_test`. The results look reasonable, but to get a real feel for the quality of our results, we would want to test against other models."
   ]
  },
  {
   "cell_type": "code",
   "execution_count": 79,
   "id": "74400cf4",
   "metadata": {},
   "outputs": [
    {
     "data": {
      "image/png": "[encoded data removed]",
      "text/plain": [
       "<Figure size 504x360 with 1 Axes>"
      ]
     },
     "metadata": {
      "needs_background": "light"
     },
     "output_type": "display_data"
    }
   ],
   "source": [
    "plt.figure(figsize = (7,5))\n",
    "plt.plot(y_pred,'o', label = 'Predicted')\n",
    "plt.plot(y_test,'x', label = 'Ground Truth')\n",
    "plt.title('Multilinear Regression Results')\n",
    "plt.xlabel(\"Samples\")\n",
    "plt.ylabel(\"MPG\")\n",
    "plt.legend()\n",
    "plt.show()"
   ]
  },
  {
   "cell_type": "markdown",
   "id": "35b2a585",
   "metadata": {},
   "source": [
    "## Supervised Learning for Classification\n",
    "\n",
    "The multilinear regression model we created above is designed for predicting a continuous observation. Many machine learning models are designed to predict labels for labeled data (e.g., images). We will now explore some of these methods."
   ]
  },
  {
   "cell_type": "markdown",
   "id": "0bf82459",
   "metadata": {},
   "source": [
    "### Loading the Data\n",
    "\n",
    "For this part of the notebook, we'll use the (small, built-in `sklearn` version of the) MNIST dataset of handwritten digits. "
   ]
  },
  {
   "cell_type": "code",
   "execution_count": 67,
   "id": "8a64bb64",
   "metadata": {},
   "outputs": [],
   "source": [
    "from sklearn import datasets\n",
    "digits = datasets.load_digits()"
   ]
  },
  {
   "cell_type": "markdown",
   "id": "5e5de196",
   "metadata": {},
   "source": [
    "Recall that the data consists of many handwritten digits and their correct labels."
   ]
  },
  {
   "cell_type": "code",
   "execution_count": 68,
   "id": "9b93b9e1",
   "metadata": {},
   "outputs": [
    {
     "data": {
      "image/png": "[encoded data removed]",
      "text/plain": [
       "<Figure size 720x360 with 10 Axes>"
      ]
     },
     "metadata": {
      "needs_background": "light"
     },
     "output_type": "display_data"
    }
   ],
   "source": [
    "fig = plt.figure(figsize=(10,5))\n",
    "\n",
    "for j in range(10):\n",
    "    fig.add_subplot(2,5,j+1)\n",
    "    plt.imshow(digits.images[j], cmap='gray')"
   ]
  },
  {
   "cell_type": "markdown",
   "id": "bcd7b6fd",
   "metadata": {},
   "source": [
    "We can treat each image as a vector in $\\mathbb{R}^{8 \\times 8} \\approx \\mathbb{R}^{64}$. Conveniently, `digits.data` reshapes each image into a 64 dimensional vector. Let's create a train/test split of this vectorized data."
   ]
  },
  {
   "cell_type": "code",
   "execution_count": 69,
   "id": "bb4ca04d",
   "metadata": {},
   "outputs": [],
   "source": [
    "MNIST = digits.data\n",
    "MNISTlabels = digits.target\n",
    "\n",
    "MNIST_train, MNIST_test, MNISTlabels_train, MNISTlabels_test = train_test_split(MNIST, MNISTlabels)"
   ]
  },
  {
   "cell_type": "markdown",
   "id": "d673ef22",
   "metadata": {},
   "source": [
    "As we discussed in class, we can use Logistic Regression for classification. The version that we discussed in class was only for classifying datasets with two labels ('cats' versus 'dogs', say), but this can be generalized to handle datasets with an arbitrary number of labels. In this case, we have 10 labels (one for each digit). \n",
    "\n",
    "The code below trains the logistic regression model on the training data (i.e., finds the best parameters for the model). This is standard `sklearn` syntax. Note that this training process uses a version of gradient descent to find optimal values, rather than an explicit formula as in the multilinear regression example."
   ]
  },
  {
   "cell_type": "code",
   "execution_count": 70,
   "id": "b0ee1910",
   "metadata": {},
   "outputs": [
    {
     "data": {
      "text/plain": [
       "LogisticRegression(max_iter=10000, multi_class='multinomial')"
      ]
     },
     "execution_count": 70,
     "metadata": {},
     "output_type": "execute_result"
    }
   ],
   "source": [
    "from sklearn.linear_model import LogisticRegression\n",
    "\n",
    "model = LogisticRegression(solver='lbfgs', multi_class = 'multinomial', max_iter=10000)\n",
    "model.fit(MNIST_train, MNISTlabels_train)"
   ]
  },
  {
   "cell_type": "markdown",
   "id": "986ec17f",
   "metadata": {},
   "source": [
    "Logistic regression with two labels works by finding a good hyperplane to split the two classes of data vectors (for precise definitions, refer back to the lecture notes). For multiclass logistic regression, we get a hyperplane for each class label. This can be seen in the shape of the coefficients for the model:"
   ]
  },
  {
   "cell_type": "code",
   "execution_count": 71,
   "id": "2ce99956",
   "metadata": {},
   "outputs": [
    {
     "data": {
      "text/plain": [
       "(10, 64)"
      ]
     },
     "execution_count": 71,
     "metadata": {},
     "output_type": "execute_result"
    }
   ],
   "source": [
    "model.coef_.shape"
   ]
  },
  {
   "cell_type": "markdown",
   "id": "61990acb",
   "metadata": {},
   "source": [
    "Now we can predict a label for each digit in our testing set. This is done using the built-in `predict` function for the model."
   ]
  },
  {
   "cell_type": "code",
   "execution_count": 73,
   "id": "96f934db",
   "metadata": {},
   "outputs": [],
   "source": [
    "MNIST_predicted = model.predict(MNIST_test)"
   ]
  },
  {
   "cell_type": "markdown",
   "id": "7a4a6220",
   "metadata": {},
   "source": [
    "Let's take a look at some of the samples from our testing set, along with their predicted labels."
   ]
  },
  {
   "cell_type": "code",
   "execution_count": 74,
   "id": "3c3f74ca",
   "metadata": {},
   "outputs": [
    {
     "data": {
      "image/png": "[encoded data removed]",
      "text/plain": [
       "<Figure size 720x720 with 20 Axes>"
      ]
     },
     "metadata": {
      "needs_background": "light"
     },
     "output_type": "display_data"
    }
   ],
   "source": [
    "fig = plt.figure(figsize=(10,10))\n",
    "\n",
    "for j in range(20):\n",
    "    fig.add_subplot(4,5,j+1)\n",
    "    plt.imshow(MNIST_test[j].reshape(8,8), cmap='gray')\n",
    "    plt.axis('off')\n",
    "    plt.title('Pred. Label='+str(MNIST_predicted[j]))\n",
    "\n",
    "plt.show()"
   ]
  },
  {
   "cell_type": "markdown",
   "id": "98ce2128",
   "metadata": {},
   "source": [
    "These results look pretty good. We can compute the overall prediction accuracy using the `score` function."
   ]
  },
  {
   "cell_type": "code",
   "execution_count": 75,
   "id": "07b9acd0",
   "metadata": {},
   "outputs": [
    {
     "name": "stdout",
     "output_type": "stream",
     "text": [
      "Prediction Accuracy: 0.95\n"
     ]
    }
   ],
   "source": [
    "print('Prediction Accuracy:',np.round(model.score(MNIST_test,MNISTlabels_test),2))"
   ]
  },
  {
   "cell_type": "markdown",
   "id": "be09f3d1",
   "metadata": {},
   "source": [
    "Logistic regression performs extremely well! It will probably be hard to beat this, but let's practice with some other models:"
   ]
  },
  {
   "cell_type": "markdown",
   "id": "0b0cd3d0",
   "metadata": {},
   "source": [
    "**Problem 4.** Repeat the above classification process using a different classification model. You can take your pick from [Multilayer Perceptron](https://scikit-learn.org/stable/modules/neural_networks_supervised.html#multi-layer-perceptron) (a simple neural network), [Decision Tree](https://scikit-learn.org/stable/modules/tree.html#classification), [Support Vector Machine](https://scikit-learn.org/stable/modules/svm.html#classification), or any other model that you like.\n",
    "\n",
    "**Remark:** If you haven't done this before, you'll need to dig into the documentation a little bit to see how these work. The syntax is mostly similar to the logistic regression model. The mathematical details of several of these models will be described in final project presentations!"
   ]
  },
  {
   "cell_type": "code",
   "execution_count": null,
   "id": "9334f8a5",
   "metadata": {},
   "outputs": [],
   "source": [
    "## Your code goes here."
   ]
  },
  {
   "cell_type": "code",
   "execution_count": 152,
   "id": "9f33e864",
   "metadata": {},
   "outputs": [],
   "source": [
    "from sklearn.neural_network import MLPClassifier\n",
    "mlp = MLPClassifier(solver='lbfgs', alpha=1e-5, \n",
    "                    hidden_layer_sizes=(15,), random_state=1, max_iter=10000)\n",
    "mlp.fit(MNIST_train, MNISTlabels_train)\n",
    "mlp_MNIST_predict = mlp.predict(MNIST_test)"
   ]
  },
  {
   "cell_type": "code",
   "execution_count": 153,
   "id": "c5618df9",
   "metadata": {},
   "outputs": [
    {
     "data": {
      "image/png": "[encoded data removed]",
      "text/plain": [
       "<Figure size 720x720 with 20 Axes>"
      ]
     },
     "metadata": {
      "needs_background": "light"
     },
     "output_type": "display_data"
    }
   ],
   "source": [
    "fig = plt.figure(figsize=(10,10))\n",
    "\n",
    "for j in range(20):\n",
    "    fig.add_subplot(4,5,j+1)\n",
    "    plt.imshow(MNIST_test[j].reshape(8,8), cmap='gray')\n",
    "    plt.axis('off')\n",
    "    plt.title('Pred. Label='+str(mlp_MNIST_predict[j]))\n",
    "\n",
    "plt.show()"
   ]
  }
 ],
 "metadata": {
  "kernelspec": {
   "display_name": "Python 3 (ipykernel)",
   "language": "python",
   "name": "python3"
  },
  "language_info": {
   "codemirror_mode": {
    "name": "ipython",
    "version": 3
   },
   "file_extension": ".py",
   "mimetype": "text/x-python",
   "name": "python",
   "nbconvert_exporter": "python",
   "pygments_lexer": "ipython3",
   "version": "3.8.11"
  }
 },
 "nbformat": 4,
 "nbformat_minor": 5
}
